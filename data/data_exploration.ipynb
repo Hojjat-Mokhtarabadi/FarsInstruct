{
 "cells": [
  {
   "cell_type": "code",
   "execution_count": 15,
   "metadata": {},
   "outputs": [],
   "source": [
    "import pandas as pd"
   ]
  },
  {
   "cell_type": "code",
   "execution_count": 16,
   "metadata": {},
   "outputs": [],
   "source": [
    "df = pd.read_csv('../data/instruct_dataset.csv')"
   ]
  },
  {
   "cell_type": "code",
   "execution_count": 17,
   "metadata": {},
   "outputs": [
    {
     "data": {
      "text/html": [
       "<div>\n",
       "<style scoped>\n",
       "    .dataframe tbody tr th:only-of-type {\n",
       "        vertical-align: middle;\n",
       "    }\n",
       "\n",
       "    .dataframe tbody tr th {\n",
       "        vertical-align: top;\n",
       "    }\n",
       "\n",
       "    .dataframe thead th {\n",
       "        text-align: right;\n",
       "    }\n",
       "</style>\n",
       "<table border=\"1\" class=\"dataframe\">\n",
       "  <thead>\n",
       "    <tr style=\"text-align: right;\">\n",
       "      <th></th>\n",
       "      <th>inputs</th>\n",
       "      <th>outputs</th>\n",
       "      <th>type</th>\n",
       "      <th>ds</th>\n",
       "    </tr>\n",
       "  </thead>\n",
       "  <tbody>\n",
       "    <tr>\n",
       "      <th>0</th>\n",
       "      <td>یک سوال با توجه به متن تولید کن\\n\\nمتن: شرکت ف...</td>\n",
       "      <td>شرکت فولاد مبارکه در سال ۱۳۹۱ چه جایزه ای برد؟</td>\n",
       "      <td>fs</td>\n",
       "      <td>SajjadAyoubi/persian_qa</td>\n",
       "    </tr>\n",
       "    <tr>\n",
       "      <th>1</th>\n",
       "      <td>یک سوال با توجه به متن تولید کن\\n\\nمتن: شرکت ف...</td>\n",
       "      <td>مصرف آب فولاد مبارکه چقدر است؟</td>\n",
       "      <td>fs</td>\n",
       "      <td>SajjadAyoubi/persian_qa</td>\n",
       "    </tr>\n",
       "    <tr>\n",
       "      <th>2</th>\n",
       "      <td>یک سوال با توجه به متن تولید کن\\n\\nمتن: شرکت ف...</td>\n",
       "      <td>شرکت فولاد مبارکۀ اصفهان در چه سالی برنده جایز...</td>\n",
       "      <td>fs</td>\n",
       "      <td>SajjadAyoubi/persian_qa</td>\n",
       "    </tr>\n",
       "    <tr>\n",
       "      <th>3</th>\n",
       "      <td>یک سوال با توجه به متن تولید کن\\n\\nمتن: شرکت ف...</td>\n",
       "      <td>رشته علوم کامپوتر را چگونه می توان تقسیم کرد؟</td>\n",
       "      <td>fs</td>\n",
       "      <td>SajjadAyoubi/persian_qa</td>\n",
       "    </tr>\n",
       "    <tr>\n",
       "      <th>4</th>\n",
       "      <td>یک سوال با توجه به متن تولید کن\\n\\nمتن: علوم ر...</td>\n",
       "      <td>چه کسی گفته که علم رایانه به همان اندازه در مو...</td>\n",
       "      <td>fs</td>\n",
       "      <td>SajjadAyoubi/persian_qa</td>\n",
       "    </tr>\n",
       "  </tbody>\n",
       "</table>\n",
       "</div>"
      ],
      "text/plain": [
       "                                              inputs  \\\n",
       "0  یک سوال با توجه به متن تولید کن\\n\\nمتن: شرکت ف...   \n",
       "1  یک سوال با توجه به متن تولید کن\\n\\nمتن: شرکت ف...   \n",
       "2  یک سوال با توجه به متن تولید کن\\n\\nمتن: شرکت ف...   \n",
       "3  یک سوال با توجه به متن تولید کن\\n\\nمتن: شرکت ف...   \n",
       "4  یک سوال با توجه به متن تولید کن\\n\\nمتن: علوم ر...   \n",
       "\n",
       "                                             outputs type  \\\n",
       "0     شرکت فولاد مبارکه در سال ۱۳۹۱ چه جایزه ای برد؟   fs   \n",
       "1                     مصرف آب فولاد مبارکه چقدر است؟   fs   \n",
       "2  شرکت فولاد مبارکۀ اصفهان در چه سالی برنده جایز...   fs   \n",
       "3      رشته علوم کامپوتر را چگونه می توان تقسیم کرد؟   fs   \n",
       "4  چه کسی گفته که علم رایانه به همان اندازه در مو...   fs   \n",
       "\n",
       "                        ds  \n",
       "0  SajjadAyoubi/persian_qa  \n",
       "1  SajjadAyoubi/persian_qa  \n",
       "2  SajjadAyoubi/persian_qa  \n",
       "3  SajjadAyoubi/persian_qa  \n",
       "4  SajjadAyoubi/persian_qa  "
      ]
     },
     "execution_count": 17,
     "metadata": {},
     "output_type": "execute_result"
    }
   ],
   "source": [
    "df.head()"
   ]
  },
  {
   "cell_type": "code",
   "execution_count": 18,
   "metadata": {},
   "outputs": [
    {
     "data": {
      "text/plain": [
       "1042794"
      ]
     },
     "execution_count": 18,
     "metadata": {},
     "output_type": "execute_result"
    }
   ],
   "source": [
    "len(df)"
   ]
  },
  {
   "cell_type": "code",
   "execution_count": 19,
   "metadata": {},
   "outputs": [
    {
     "data": {
      "text/plain": [
       "array(['SajjadAyoubi/persian_qa', 'pn_summary', 'SLPL/syntran-fa',\n",
       "       'wiki_summary', 'persiannlp/parsinlu_entailment',\n",
       "       'persiannlp/parsinlu_sentiment',\n",
       "       'persiannlp/parsinlu_query_paraphrasing', 'PNLPhub/Persian-News',\n",
       "       'PNLPhub/FarsTail', 'PNLPhub/snappfood-sentiment-analysis',\n",
       "       'PNLPhub/parsinlu-multiple-choice',\n",
       "       'PNLPhub/digikala-sentiment-analysis', 'PNLPhub/DigiMag'],\n",
       "      dtype=object)"
      ]
     },
     "execution_count": 19,
     "metadata": {},
     "output_type": "execute_result"
    }
   ],
   "source": [
    "df['ds'].unique()"
   ]
  },
  {
   "cell_type": "code",
   "execution_count": 5,
   "metadata": {},
   "outputs": [
    {
     "data": {
      "text/plain": [
       "ds\n",
       "pn_summary                                601492\n",
       "SLPL/syntran-fa                           144314\n",
       "PNLPhub/snappfood-sentiment-analysis      139814\n",
       "wiki_summary                               45654\n",
       "PNLPhub/Persian-News                       26628\n",
       "PNLPhub/DigiMag                            20686\n",
       "persiannlp/parsinlu_sentiment              18155\n",
       "PNLPhub/FarsTail                           16953\n",
       "SajjadAyoubi/persian_qa                    14412\n",
       "PNLPhub/digikala-sentiment-analysis         6519\n",
       "persiannlp/parsinlu_query_paraphrasing      5487\n",
       "persiannlp/parsinlu_entailment              2258\n",
       "PNLPhub/parsinlu-multiple-choice             422\n",
       "Name: count, dtype: int64"
      ]
     },
     "execution_count": 5,
     "metadata": {},
     "output_type": "execute_result"
    }
   ],
   "source": [
    "df['ds'].value_counts()"
   ]
  },
  {
   "cell_type": "code",
   "execution_count": 23,
   "metadata": {},
   "outputs": [
    {
     "data": {
      "text/plain": [
       "ds\n",
       "pn_summary                                109360\n",
       "PNLPhub/snappfood-sentiment-analysis       69814\n",
       "SLPL/syntran-fa                            48102\n",
       "SajjadAyoubi/persian_qa                     8106\n",
       "PNLPhub/DigiMag                             6894\n",
       "persiannlp/parsinlu_sentiment               4538\n",
       "PNLPhub/digikala-sentiment-analysis         3258\n",
       "PNLPhub/FarsTail                            2421\n",
       "persiannlp/parsinlu_query_paraphrasing      1827\n",
       "persiannlp/parsinlu_entailment               750\n",
       "PNLPhub/parsinlu-multiple-choice             422\n",
       "Name: count, dtype: int64"
      ]
     },
     "execution_count": 23,
     "metadata": {},
     "output_type": "execute_result"
    }
   ],
   "source": [
    "new_df = df[df['type'] == 'fs']\n",
    "new_df['ds'].value_counts()"
   ]
  },
  {
   "cell_type": "code",
   "execution_count": 39,
   "metadata": {},
   "outputs": [],
   "source": [
    "zs_df = df[df['type']=='zs']\n",
    "sent_df = zs_df[zs_df['ds']=='SajjadAyoubi/persian_qa']"
   ]
  },
  {
   "cell_type": "code",
   "execution_count": 40,
   "metadata": {},
   "outputs": [
    {
     "data": {
      "text/html": [
       "<div>\n",
       "<style scoped>\n",
       "    .dataframe tbody tr th:only-of-type {\n",
       "        vertical-align: middle;\n",
       "    }\n",
       "\n",
       "    .dataframe tbody tr th {\n",
       "        vertical-align: top;\n",
       "    }\n",
       "\n",
       "    .dataframe thead th {\n",
       "        text-align: right;\n",
       "    }\n",
       "</style>\n",
       "<table border=\"1\" class=\"dataframe\">\n",
       "  <thead>\n",
       "    <tr style=\"text-align: right;\">\n",
       "      <th></th>\n",
       "      <th>inputs</th>\n",
       "      <th>outputs</th>\n",
       "      <th>type</th>\n",
       "      <th>ds</th>\n",
       "    </tr>\n",
       "  </thead>\n",
       "  <tbody>\n",
       "    <tr>\n",
       "      <th>3002</th>\n",
       "      <td>جواب سوال از متن چه میشود؟\\n\\nمتن: شرکت فولاد ...</td>\n",
       "      <td>در شرق شهر مبارکه</td>\n",
       "      <td>zs</td>\n",
       "      <td>SajjadAyoubi/persian_qa</td>\n",
       "    </tr>\n",
       "    <tr>\n",
       "      <th>3003</th>\n",
       "      <td>جواب سوال از متن چه میشود؟\\n\\nمتن: شرکت فولاد ...</td>\n",
       "      <td>۶</td>\n",
       "      <td>zs</td>\n",
       "      <td>SajjadAyoubi/persian_qa</td>\n",
       "    </tr>\n",
       "    <tr>\n",
       "      <th>3004</th>\n",
       "      <td>جواب سوال از متن چه میشود؟\\n\\nمتن: شرکت فولاد ...</td>\n",
       "      <td>تندیس زرین جایزۀ ملی تعالی سازمانی</td>\n",
       "      <td>zs</td>\n",
       "      <td>SajjadAyoubi/persian_qa</td>\n",
       "    </tr>\n",
       "    <tr>\n",
       "      <th>3005</th>\n",
       "      <td>جواب سوال از متن چه میشود؟\\n\\nمتن: شرکت فولاد ...</td>\n",
       "      <td>شرکت فولاد مبارکۀ</td>\n",
       "      <td>zs</td>\n",
       "      <td>SajjadAyoubi/persian_qa</td>\n",
       "    </tr>\n",
       "    <tr>\n",
       "      <th>3006</th>\n",
       "      <td>جواب سوال از متن چه میشود؟\\n\\nمتن: شرکت فولاد ...</td>\n",
       "      <td>۱۳۷۱</td>\n",
       "      <td>zs</td>\n",
       "      <td>SajjadAyoubi/persian_qa</td>\n",
       "    </tr>\n",
       "  </tbody>\n",
       "</table>\n",
       "</div>"
      ],
      "text/plain": [
       "                                                 inputs  \\\n",
       "3002  جواب سوال از متن چه میشود؟\\n\\nمتن: شرکت فولاد ...   \n",
       "3003  جواب سوال از متن چه میشود؟\\n\\nمتن: شرکت فولاد ...   \n",
       "3004  جواب سوال از متن چه میشود؟\\n\\nمتن: شرکت فولاد ...   \n",
       "3005  جواب سوال از متن چه میشود؟\\n\\nمتن: شرکت فولاد ...   \n",
       "3006  جواب سوال از متن چه میشود؟\\n\\nمتن: شرکت فولاد ...   \n",
       "\n",
       "                                 outputs type                       ds  \n",
       "3002                   در شرق شهر مبارکه   zs  SajjadAyoubi/persian_qa  \n",
       "3003                                   ۶   zs  SajjadAyoubi/persian_qa  \n",
       "3004  تندیس زرین جایزۀ ملی تعالی سازمانی   zs  SajjadAyoubi/persian_qa  \n",
       "3005                   شرکت فولاد مبارکۀ   zs  SajjadAyoubi/persian_qa  \n",
       "3006                                ۱۳۷۱   zs  SajjadAyoubi/persian_qa  "
      ]
     },
     "execution_count": 40,
     "metadata": {},
     "output_type": "execute_result"
    }
   ],
   "source": [
    "sent_df.head()"
   ]
  },
  {
   "cell_type": "code",
   "execution_count": 41,
   "metadata": {},
   "outputs": [
    {
     "data": {
      "text/html": [
       "<div>\n",
       "<style scoped>\n",
       "    .dataframe tbody tr th:only-of-type {\n",
       "        vertical-align: middle;\n",
       "    }\n",
       "\n",
       "    .dataframe tbody tr th {\n",
       "        vertical-align: top;\n",
       "    }\n",
       "\n",
       "    .dataframe thead th {\n",
       "        text-align: right;\n",
       "    }\n",
       "</style>\n",
       "<table border=\"1\" class=\"dataframe\">\n",
       "  <thead>\n",
       "    <tr style=\"text-align: right;\">\n",
       "      <th></th>\n",
       "      <th>inputs</th>\n",
       "      <th>outputs</th>\n",
       "      <th>type</th>\n",
       "      <th>ds</th>\n",
       "    </tr>\n",
       "  </thead>\n",
       "  <tbody>\n",
       "    <tr>\n",
       "      <th>7124</th>\n",
       "      <td>جواب سوال از متن چه میشود؟\\n\\nمتن: فراماسونری ...</td>\n",
       "      <td>کارآموز یا مبتدی ، رفیق یا همکار و استاد ماسون</td>\n",
       "      <td>zs</td>\n",
       "      <td>SajjadAyoubi/persian_qa</td>\n",
       "    </tr>\n",
       "    <tr>\n",
       "      <th>5732</th>\n",
       "      <td>جواب سوال از متن چه میشود؟\\n\\nمتن: خواستگاری ب...</td>\n",
       "      <td>خواستگاری</td>\n",
       "      <td>zs</td>\n",
       "      <td>SajjadAyoubi/persian_qa</td>\n",
       "    </tr>\n",
       "    <tr>\n",
       "      <th>6418</th>\n",
       "      <td>جواب سوال از متن چه میشود؟\\n\\nمتن: جیمز جی برا...</td>\n",
       "      <td>ایرلندی-آمریکایی اهل نیوجرسی</td>\n",
       "      <td>zs</td>\n",
       "      <td>SajjadAyoubi/persian_qa</td>\n",
       "    </tr>\n",
       "    <tr>\n",
       "      <th>6057</th>\n",
       "      <td>جواب سوال از متن چه میشود؟\\n\\nمتن: از آنجایی ک...</td>\n",
       "      <td>سوم تا پنجم جمادی‌الثانی</td>\n",
       "      <td>zs</td>\n",
       "      <td>SajjadAyoubi/persian_qa</td>\n",
       "    </tr>\n",
       "    <tr>\n",
       "      <th>7673</th>\n",
       "      <td>جواب سوال از متن چه میشود؟\\n\\nمتن: یهودیان گرو...</td>\n",
       "      <td>پدران کتاب مقدس ابراهیم، اسحاق و یعقوب و شه ما...</td>\n",
       "      <td>zs</td>\n",
       "      <td>SajjadAyoubi/persian_qa</td>\n",
       "    </tr>\n",
       "  </tbody>\n",
       "</table>\n",
       "</div>"
      ],
      "text/plain": [
       "                                                 inputs  \\\n",
       "7124  جواب سوال از متن چه میشود؟\\n\\nمتن: فراماسونری ...   \n",
       "5732  جواب سوال از متن چه میشود؟\\n\\nمتن: خواستگاری ب...   \n",
       "6418  جواب سوال از متن چه میشود؟\\n\\nمتن: جیمز جی برا...   \n",
       "6057  جواب سوال از متن چه میشود؟\\n\\nمتن: از آنجایی ک...   \n",
       "7673  جواب سوال از متن چه میشود؟\\n\\nمتن: یهودیان گرو...   \n",
       "\n",
       "                                                outputs type  \\\n",
       "7124     کارآموز یا مبتدی ، رفیق یا همکار و استاد ماسون   zs   \n",
       "5732                                          خواستگاری   zs   \n",
       "6418                       ایرلندی-آمریکایی اهل نیوجرسی   zs   \n",
       "6057                           سوم تا پنجم جمادی‌الثانی   zs   \n",
       "7673  پدران کتاب مقدس ابراهیم، اسحاق و یعقوب و شه ما...   zs   \n",
       "\n",
       "                           ds  \n",
       "7124  SajjadAyoubi/persian_qa  \n",
       "5732  SajjadAyoubi/persian_qa  \n",
       "6418  SajjadAyoubi/persian_qa  \n",
       "6057  SajjadAyoubi/persian_qa  \n",
       "7673  SajjadAyoubi/persian_qa  "
      ]
     },
     "execution_count": 41,
     "metadata": {},
     "output_type": "execute_result"
    }
   ],
   "source": [
    "sent_df.sample(5)"
   ]
  },
  {
   "cell_type": "code",
   "execution_count": 29,
   "metadata": {},
   "outputs": [
    {
     "data": {
      "text/plain": [
       "'سوال نظر شما در مورد سلامت و ارزش غذایی این شیر چیست؟ در چه دسته بندی قرار میگیرد؟'"
      ]
     },
     "execution_count": 29,
     "metadata": {},
     "output_type": "execute_result"
    }
   ],
   "source": [
    "sent_df['inputs'][819070]"
   ]
  },
  {
   "cell_type": "code",
   "execution_count": 43,
   "metadata": {},
   "outputs": [
    {
     "data": {
      "text/plain": [
       "6306"
      ]
     },
     "execution_count": 43,
     "metadata": {},
     "output_type": "execute_result"
    }
   ],
   "source": [
    "len(sent_df)"
   ]
  },
  {
   "cell_type": "code",
   "execution_count": null,
   "metadata": {},
   "outputs": [],
   "source": []
  },
  {
   "cell_type": "markdown",
   "metadata": {},
   "source": [
    "## Huggingface Dataset"
   ]
  },
  {
   "cell_type": "code",
   "execution_count": 2,
   "metadata": {},
   "outputs": [
    {
     "name": "stderr",
     "output_type": "stream",
     "text": [
      "/home/hojjat/anaconda3/envs/farsinstruct/lib/python3.8/site-packages/tqdm/auto.py:21: TqdmWarning: IProgress not found. Please update jupyter and ipywidgets. See https://ipywidgets.readthedocs.io/en/stable/user_install.html\n",
      "  from .autonotebook import tqdm as notebook_tqdm\n"
     ]
    }
   ],
   "source": [
    "from datasets import load_dataset\n",
    "\n",
    "hf_ds = load_dataset('csv', data_files='../data/instruct_dataset.csv', split='train')"
   ]
  },
  {
   "cell_type": "code",
   "execution_count": 3,
   "metadata": {},
   "outputs": [],
   "source": [
    "hf_ds_new = hf_ds.filter(lambda x: x['ds'].startswith('persiannlp'))"
   ]
  },
  {
   "cell_type": "code",
   "execution_count": 47,
   "metadata": {},
   "outputs": [
    {
     "data": {
      "text/plain": [
       "Dataset({\n",
       "    features: ['inputs', 'outputs', 'type', 'ds'],\n",
       "    num_rows: 25900\n",
       "})"
      ]
     },
     "execution_count": 47,
     "metadata": {},
     "output_type": "execute_result"
    }
   ],
   "source": [
    "hf_ds_new"
   ]
  },
  {
   "cell_type": "code",
   "execution_count": 9,
   "metadata": {},
   "outputs": [],
   "source": [
    "pn_hd = hf_ds.filter(lambda x: x['ds'] == 'pn_summary' and x['type'] == 'fs').select(range(1, 10))"
   ]
  },
  {
   "cell_type": "code",
   "execution_count": 10,
   "metadata": {},
   "outputs": [
    {
     "name": "stderr",
     "output_type": "stream",
     "text": [
      "Creating json from Arrow format: 100%|██████████| 1/1 [00:00<00:00, 1082.96ba/s]\n"
     ]
    },
    {
     "data": {
      "text/plain": [
       "33038"
      ]
     },
     "execution_count": 10,
     "metadata": {},
     "output_type": "execute_result"
    }
   ],
   "source": [
    "pn_hd.to_json('pn_fs.json')"
   ]
  },
  {
   "cell_type": "code",
   "execution_count": 12,
   "metadata": {},
   "outputs": [],
   "source": [
    "import re\n",
    "\n",
    "def remove_instruction(x):\n",
    "    space = re.compile(\"\\\\s+\")\n",
    "    splt_text = x.split('<sep>')\n",
    "    #snt_list = []\n",
    "    #for snt in splt_text:\n",
    "    #    snt_list.append(space.sub(\" \", snt))\n",
    "\n",
    "    return '\\n'.join(splt_text[1:])"
   ]
  },
  {
   "cell_type": "code",
   "execution_count": 14,
   "metadata": {},
   "outputs": [
    {
     "name": "stdout",
     "output_type": "stream",
     "text": [
      "\n",
      "موضوع: واکنش جانسون به استعفای شینزو آبه\n",
      "دسته:بین‌المللی\n",
      "\n"
     ]
    }
   ],
   "source": [
    "xx = \"\"\"\n",
    "موضوع داده شده در کدام یک از دسته بندی های زیر قرار میگیرد؟ دسته ها: اقتصاد ,راه‌ها-شهری ,بانکداری-بیمه ,کشاورزی ,بین‌المللی ,نفت-انرژی ,صنعت ,حمل و نقل ,علم-فناوری ,محلی ,ورزش ,سیاست ,هنر-فرهنگ ,جامعه ,سلامتی ,پژوهش ,آموزش-دانشگاه ,گردشگری\n",
    "<sep>\n",
    "موضوع: واکنش جانسون به استعفای شینزو آبه\n",
    "دسته:بین‌المللی\n",
    "\"\"\"\n",
    "\n",
    "print(remove_instruction(xx))"
   ]
  }
 ],
 "metadata": {
  "kernelspec": {
   "display_name": "farsinstruct",
   "language": "python",
   "name": "python3"
  },
  "language_info": {
   "codemirror_mode": {
    "name": "ipython",
    "version": 3
   },
   "file_extension": ".py",
   "mimetype": "text/x-python",
   "name": "python",
   "nbconvert_exporter": "python",
   "pygments_lexer": "ipython3",
   "version": "3.8.17"
  },
  "orig_nbformat": 4
 },
 "nbformat": 4,
 "nbformat_minor": 2
}
