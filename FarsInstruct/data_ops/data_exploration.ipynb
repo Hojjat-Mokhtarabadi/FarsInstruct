{
 "cells": [
  {
   "cell_type": "code",
   "execution_count": 1,
   "metadata": {},
   "outputs": [],
   "source": [
    "import pandas as pd"
   ]
  },
  {
   "cell_type": "code",
   "execution_count": 2,
   "metadata": {},
   "outputs": [],
   "source": [
    "df = pd.read_csv('../data/3shot_instruct_dataset_validation.csv')"
   ]
  },
  {
   "cell_type": "code",
   "execution_count": 3,
   "metadata": {},
   "outputs": [
    {
     "data": {
      "text/plain": [
       "array(['PNLPhub/snappfood-sentiment-analysis',\n",
       "       'PNLPhub/parsinlu-multiple-choice',\n",
       "       'PNLPhub/digikala-sentiment-analysis'], dtype=object)"
      ]
     },
     "execution_count": 3,
     "metadata": {},
     "output_type": "execute_result"
    }
   ],
   "source": [
    "df['ds'].unique()"
   ]
  },
  {
   "cell_type": "code",
   "execution_count": 4,
   "metadata": {},
   "outputs": [
    {
     "data": {
      "text/plain": [
       "1620"
      ]
     },
     "execution_count": 4,
     "metadata": {},
     "output_type": "execute_result"
    }
   ],
   "source": [
    "ds = df[df['ds'] == 'PNLPhub/digikala-sentiment-analysis']\n",
    "\n",
    "len(ds)"
   ]
  },
  {
   "cell_type": "code",
   "execution_count": 63,
   "metadata": {},
   "outputs": [
    {
     "data": {
      "text/html": [
       "<div>\n",
       "<style scoped>\n",
       "    .dataframe tbody tr th:only-of-type {\n",
       "        vertical-align: middle;\n",
       "    }\n",
       "\n",
       "    .dataframe tbody tr th {\n",
       "        vertical-align: top;\n",
       "    }\n",
       "\n",
       "    .dataframe thead th {\n",
       "        text-align: right;\n",
       "    }\n",
       "</style>\n",
       "<table border=\"1\" class=\"dataframe\">\n",
       "  <thead>\n",
       "    <tr style=\"text-align: right;\">\n",
       "      <th></th>\n",
       "      <th>inputs</th>\n",
       "      <th>outputs</th>\n",
       "      <th>ds</th>\n",
       "      <th>template</th>\n",
       "    </tr>\n",
       "  </thead>\n",
       "  <tbody>\n",
       "    <tr>\n",
       "      <th>14533</th>\n",
       "      <td>ایا متن داده شده احساس \\nخوب\" را منتقل میکند؟\"...</td>\n",
       "      <td>خیر</td>\n",
       "      <td>PNLPhub/snappfood-sentiment-analysis</td>\n",
       "      <td>is_it_pos</td>\n",
       "    </tr>\n",
       "    <tr>\n",
       "      <th>17537</th>\n",
       "      <td>احساس متن  را بنویس؟ ناراحت, خوشحال \\n\\nمتن: ه...</td>\n",
       "      <td>ناراحت</td>\n",
       "      <td>PNLPhub/snappfood-sentiment-analysis</td>\n",
       "      <td>gen_sentiment</td>\n",
       "    </tr>\n",
       "    <tr>\n",
       "      <th>6186</th>\n",
       "      <td>کامنت زیر مثبت است یا منفی؟ \\n\\nکامنت: بسیار ع...</td>\n",
       "      <td>منفی</td>\n",
       "      <td>PNLPhub/snappfood-sentiment-analysis</td>\n",
       "      <td>is_it_pos_or_neg</td>\n",
       "    </tr>\n",
       "    <tr>\n",
       "      <th>3764</th>\n",
       "      <td>ایا متن داده شده احساس \\nبد\" را منتقل میکند؟\"\\...</td>\n",
       "      <td>خیر</td>\n",
       "      <td>PNLPhub/snappfood-sentiment-analysis</td>\n",
       "      <td>is_it_neg</td>\n",
       "    </tr>\n",
       "    <tr>\n",
       "      <th>12617</th>\n",
       "      <td>با توجه به احساس مربوط به این نظر، ایا این سفا...</td>\n",
       "      <td>خیر</td>\n",
       "      <td>PNLPhub/snappfood-sentiment-analysis</td>\n",
       "      <td>recommendation</td>\n",
       "    </tr>\n",
       "  </tbody>\n",
       "</table>\n",
       "</div>"
      ],
      "text/plain": [
       "                                                  inputs outputs  \\\n",
       "14533  ایا متن داده شده احساس \\nخوب\" را منتقل میکند؟\"...     خیر   \n",
       "17537  احساس متن  را بنویس؟ ناراحت, خوشحال \\n\\nمتن: ه...  ناراحت   \n",
       "6186   کامنت زیر مثبت است یا منفی؟ \\n\\nکامنت: بسیار ع...    منفی   \n",
       "3764   ایا متن داده شده احساس \\nبد\" را منتقل میکند؟\"\\...     خیر   \n",
       "12617  با توجه به احساس مربوط به این نظر، ایا این سفا...     خیر   \n",
       "\n",
       "                                         ds          template  \n",
       "14533  PNLPhub/snappfood-sentiment-analysis         is_it_pos  \n",
       "17537  PNLPhub/snappfood-sentiment-analysis     gen_sentiment  \n",
       "6186   PNLPhub/snappfood-sentiment-analysis  is_it_pos_or_neg  \n",
       "3764   PNLPhub/snappfood-sentiment-analysis         is_it_neg  \n",
       "12617  PNLPhub/snappfood-sentiment-analysis    recommendation  "
      ]
     },
     "execution_count": 63,
     "metadata": {},
     "output_type": "execute_result"
    }
   ],
   "source": [
    "df.sample(5)"
   ]
  },
  {
   "cell_type": "code",
   "execution_count": 13,
   "metadata": {},
   "outputs": [
    {
     "data": {
      "text/plain": [
       "21789"
      ]
     },
     "execution_count": 13,
     "metadata": {},
     "output_type": "execute_result"
    }
   ],
   "source": [
    "len(df[df['ds'] == 'PNLPhub/FarsTail'])"
   ]
  },
  {
   "cell_type": "code",
   "execution_count": null,
   "metadata": {},
   "outputs": [],
   "source": []
  },
  {
   "cell_type": "code",
   "execution_count": 146,
   "metadata": {},
   "outputs": [
    {
     "name": "stdout",
     "output_type": "stream",
     "text": [
      "?با توجه به متن داده شده آیا میتوان عبارت را نتیجه گرفت\n",
      "- بله\n",
      "- خیر\n",
      "- شاید\n",
      "\n",
      "آیا شما اصلا راک رول را دوست دارید\n",
      "\n",
      "عبارت: پس شما راک رول را دوست ندارید؟\n"
     ]
    }
   ],
   "source": [
    "# df_n = df[df['type'] == 'zs']\n",
    "dff = df.sample(10)\n",
    "dff.reset_index(inplace=True)\n",
    "print(dff['inputs'][0])"
   ]
  },
  {
   "cell_type": "code",
   "execution_count": 87,
   "metadata": {},
   "outputs": [
    {
     "name": "stdout",
     "output_type": "stream",
     "text": [
      "جمله اول و جمله دوم را با دقت بخوان و از بین گزینه های موجود انتخاب کن. آیا براساس جمله اول جمله دوم درست است؟\n",
      "- همیشه\n",
      "- بعضی اوقات\n",
      "- هیچوقت\n",
      "\n",
      "جمله اول: از جمله مسابقات آیتمی می‌توان به مسابقات قوی‌ترین مردان جهان، پاورلیفتینگ، پرس‌سینه و مچ اندازی اشاره کرد.\n",
      "جمله دوم: بعد از جنگ ایران و عراق این مسابقات را میشد بوفور از تلوزیون دید که تماشاچیان بسیاری هم داشت. \n",
      "جواب:\n"
     ]
    }
   ],
   "source": []
  },
  {
   "cell_type": "code",
   "execution_count": 50,
   "metadata": {},
   "outputs": [
    {
     "data": {
      "text/html": [
       "<div>\n",
       "<style scoped>\n",
       "    .dataframe tbody tr th:only-of-type {\n",
       "        vertical-align: middle;\n",
       "    }\n",
       "\n",
       "    .dataframe tbody tr th {\n",
       "        vertical-align: top;\n",
       "    }\n",
       "\n",
       "    .dataframe thead th {\n",
       "        text-align: right;\n",
       "    }\n",
       "</style>\n",
       "<table border=\"1\" class=\"dataframe\">\n",
       "  <thead>\n",
       "    <tr style=\"text-align: right;\">\n",
       "      <th></th>\n",
       "      <th>inputs</th>\n",
       "      <th>outputs</th>\n",
       "      <th>type</th>\n",
       "      <th>ds</th>\n",
       "      <th>template</th>\n",
       "    </tr>\n",
       "  </thead>\n",
       "  <tbody>\n",
       "    <tr>\n",
       "      <th>0</th>\n",
       "      <td>\\n            [INST]\\n            نوشته زیر بخ...</td>\n",
       "      <td>متن خبری</td>\n",
       "      <td>fs</td>\n",
       "      <td>SajjadAyoubi/persian_qa</td>\n",
       "      <td>question_or_answer_catg_fs</td>\n",
       "    </tr>\n",
       "    <tr>\n",
       "      <th>1</th>\n",
       "      <td>\\n            [INST]\\n            نوشته زیر بخ...</td>\n",
       "      <td>متن خبری</td>\n",
       "      <td>fs</td>\n",
       "      <td>SajjadAyoubi/persian_qa</td>\n",
       "      <td>question_or_answer_catg_fs</td>\n",
       "    </tr>\n",
       "    <tr>\n",
       "      <th>2</th>\n",
       "      <td>\\n            [INST]\\n            نوشته زیر بخ...</td>\n",
       "      <td>متن خبری</td>\n",
       "      <td>fs</td>\n",
       "      <td>SajjadAyoubi/persian_qa</td>\n",
       "      <td>question_or_answer_catg_fs</td>\n",
       "    </tr>\n",
       "    <tr>\n",
       "      <th>3</th>\n",
       "      <td>\\n            [INST]\\n            نوشته زیر بخ...</td>\n",
       "      <td>سوال</td>\n",
       "      <td>fs</td>\n",
       "      <td>SajjadAyoubi/persian_qa</td>\n",
       "      <td>question_or_answer_catg_fs</td>\n",
       "    </tr>\n",
       "    <tr>\n",
       "      <th>4</th>\n",
       "      <td>\\n            [INST]\\n            نوشته زیر بخ...</td>\n",
       "      <td>متن خبری</td>\n",
       "      <td>fs</td>\n",
       "      <td>SajjadAyoubi/persian_qa</td>\n",
       "      <td>question_or_answer_catg_fs</td>\n",
       "    </tr>\n",
       "    <tr>\n",
       "      <th>...</th>\n",
       "      <td>...</td>\n",
       "      <td>...</td>\n",
       "      <td>...</td>\n",
       "      <td>...</td>\n",
       "      <td>...</td>\n",
       "    </tr>\n",
       "    <tr>\n",
       "      <th>294320</th>\n",
       "      <td>\\n            [INST]\\n            متن زیر را گ...</td>\n",
       "      <td>سلامت و زیبایی</td>\n",
       "      <td>fs</td>\n",
       "      <td>PNLPhub/DigiMag</td>\n",
       "      <td>generate_class_fs</td>\n",
       "    </tr>\n",
       "    <tr>\n",
       "      <th>294321</th>\n",
       "      <td>\\n            [INST]\\n            متن زیر را گ...</td>\n",
       "      <td>هنر و سینما</td>\n",
       "      <td>fs</td>\n",
       "      <td>PNLPhub/DigiMag</td>\n",
       "      <td>generate_class_fs</td>\n",
       "    </tr>\n",
       "    <tr>\n",
       "      <th>294322</th>\n",
       "      <td>\\n            [INST]\\n            متن زیر را گ...</td>\n",
       "      <td>بازی ویدیویی</td>\n",
       "      <td>fs</td>\n",
       "      <td>PNLPhub/DigiMag</td>\n",
       "      <td>generate_class_fs</td>\n",
       "    </tr>\n",
       "    <tr>\n",
       "      <th>294323</th>\n",
       "      <td>\\n            [INST]\\n            متن زیر را گ...</td>\n",
       "      <td>سلامت و زیبایی</td>\n",
       "      <td>fs</td>\n",
       "      <td>PNLPhub/DigiMag</td>\n",
       "      <td>generate_class_fs</td>\n",
       "    </tr>\n",
       "    <tr>\n",
       "      <th>294324</th>\n",
       "      <td>\\n            [INST]\\n            متن زیر را گ...</td>\n",
       "      <td>علم و تکنولوژی</td>\n",
       "      <td>fs</td>\n",
       "      <td>PNLPhub/DigiMag</td>\n",
       "      <td>generate_class_fs</td>\n",
       "    </tr>\n",
       "  </tbody>\n",
       "</table>\n",
       "<p>294325 rows × 5 columns</p>\n",
       "</div>"
      ],
      "text/plain": [
       "                                                   inputs         outputs  \\\n",
       "0       \\n            [INST]\\n            نوشته زیر بخ...        متن خبری   \n",
       "1       \\n            [INST]\\n            نوشته زیر بخ...        متن خبری   \n",
       "2       \\n            [INST]\\n            نوشته زیر بخ...        متن خبری   \n",
       "3       \\n            [INST]\\n            نوشته زیر بخ...            سوال   \n",
       "4       \\n            [INST]\\n            نوشته زیر بخ...        متن خبری   \n",
       "...                                                   ...             ...   \n",
       "294320  \\n            [INST]\\n            متن زیر را گ...  سلامت و زیبایی   \n",
       "294321  \\n            [INST]\\n            متن زیر را گ...     هنر و سینما   \n",
       "294322  \\n            [INST]\\n            متن زیر را گ...    بازی ویدیویی   \n",
       "294323  \\n            [INST]\\n            متن زیر را گ...  سلامت و زیبایی   \n",
       "294324  \\n            [INST]\\n            متن زیر را گ...  علم و تکنولوژی   \n",
       "\n",
       "       type                       ds                    template  \n",
       "0        fs  SajjadAyoubi/persian_qa  question_or_answer_catg_fs  \n",
       "1        fs  SajjadAyoubi/persian_qa  question_or_answer_catg_fs  \n",
       "2        fs  SajjadAyoubi/persian_qa  question_or_answer_catg_fs  \n",
       "3        fs  SajjadAyoubi/persian_qa  question_or_answer_catg_fs  \n",
       "4        fs  SajjadAyoubi/persian_qa  question_or_answer_catg_fs  \n",
       "...     ...                      ...                         ...  \n",
       "294320   fs          PNLPhub/DigiMag           generate_class_fs  \n",
       "294321   fs          PNLPhub/DigiMag           generate_class_fs  \n",
       "294322   fs          PNLPhub/DigiMag           generate_class_fs  \n",
       "294323   fs          PNLPhub/DigiMag           generate_class_fs  \n",
       "294324   fs          PNLPhub/DigiMag           generate_class_fs  \n",
       "\n",
       "[294325 rows x 5 columns]"
      ]
     },
     "execution_count": 50,
     "metadata": {},
     "output_type": "execute_result"
    }
   ],
   "source": [
    "# df_nn = df[df['type'] == 'fs']\n",
    "dd = df[df['type'] == 'fs']\n",
    "dd.reset_index(inplace=True, drop=True)\n",
    "dd"
   ]
  },
  {
   "cell_type": "code",
   "execution_count": 53,
   "metadata": {},
   "outputs": [
    {
     "name": "stdout",
     "output_type": "stream",
     "text": [
      "\n",
      "            [INST]\n",
      "            متن زیر مجموعه ای از اطلاعات را در حوزه های مختلف ارائه میدهد. آنرا با دقت بخوان و یک سوال مناسب از آن مطرح کن\n",
      "\n",
      "متن: \n",
      "\n",
      "            حبیب محبیان، معروف به حبیب، خواننده، آهنگساز، نوازنده و ترانه‌سرای سرشناس و صاحب سبک ایرانی بود. او در دههٔ ۱۳۵۰ خورشیدی با آلبوم مرد تنهای شب به شهرت رسید. جنس صدای باس حبیب، استفاده‌اش از گیتار ۱۲ سیمی و آهنگسازی متأثر از موسیقی راک غربی، او را به‌عنوان هنرمندی متفاوت به موسیقی پاپ ایران معرفی کرد. حبیب در ۴ مهر ۱۳۲۶ در شمیران به‌دنیا آمد. در خانوادهٔ او، برادرانش نیز به موسیقی علاقه داشتند اما تنها خود حبیب به موسیقی حرفه‌ای روی آورد. برادران او محمود، قاسم، منصور و منوچهر و خواهران او عفت و مریم هستند. علاقهٔ وی از ابتدا به گیتار بود. دوران نوجوانی حبیب مصادف با پیدایش گروه بیتلز در دههٔ ۶۰ میلادی اروپا شد و این باعث علاقهٔ بیشتر وی به موسیقی گردید. با پذیرفته‌شدن در آزمون صدا و سیما، زیر نظر مرتضی حنانه به فراگیری اصول و تدابیر آهنگسازی روی آورد. بعدها وی توانست به‌عنوان خواننده در تلویزیون استخدام شود. وی بعد از ۲ سال از استخدام در رادیو و تلویزیون به خدمت سربازی رفت و در آنجا نیز خوانندهٔ باشگاه افسران بود.\n",
      "سوال:\n",
      "            حبیب چه وقتی معروف شد؟\n",
      "متن: حبیب محبیان، معروف به حبیب، خواننده، آهنگساز، نوازنده و ترانه‌سرای سرشناس و صاحب سبک ایرانی بود. او در دههٔ ۱۳۵۰ خورشیدی با آلبوم مرد تنهای شب به شهرت رسید. جنس صدای باس حبیب، استفاده‌اش از گیتار ۱۲ سیمی و آهنگسازی متأثر از موسیقی راک غربی، او را به‌عنوان هنرمندی متفاوت به موسیقی پاپ ایران معرفی کرد. حبیب در ۴ مهر ۱۳۲۶ در شمیران به‌دنیا آمد. در خانوادهٔ او، برادرانش نیز به موسیقی علاقه داشتند اما تنها خود حبیب به موسیقی حرفه‌ای روی آورد. برادران او محمود، قاسم، منصور و منوچهر و خواهران او عفت و مریم هستند. علاقهٔ وی از ابتدا به گیتار بود. دوران نوجوانی حبیب مصادف با پیدایش گروه بیتلز در دههٔ ۶۰ میلادی اروپا شد و این باعث علاقهٔ بیشتر وی به موسیقی گردید. با پذیرفته‌شدن در آزمون صدا و سیما، زیر نظر مرتضی حنانه به فراگیری اصول و تدابیر آهنگسازی روی آورد. بعدها وی توانست به‌عنوان خواننده در تلویزیون استخدام شود. وی بعد از ۲ سال از استخدام در رادیو و تلویزیون به خدمت سربازی رفت و در آنجا نیز خوانندهٔ باشگاه افسران بود.\n",
      "سوال:خانواده حبیب چگونه خانواده‌ای بود؟\n",
      "متن: حبیب محبیان، معروف به حبیب، خواننده، آهنگساز، نوازنده و ترانه‌سرای سرشناس و صاحب سبک ایرانی بود. او در دههٔ ۱۳۵۰ خورشیدی با آلبوم مرد تنهای شب به شهرت رسید. جنس صدای باس حبیب، استفاده‌اش از گیتار ۱۲ سیمی و آهنگسازی متأثر از موسیقی راک غربی، او را به‌عنوان هنرمندی متفاوت به موسیقی پاپ ایران معرفی کرد. حبیب در ۴ مهر ۱۳۲۶ در شمیران به‌دنیا آمد. در خانوادهٔ او، برادرانش نیز به موسیقی علاقه داشتند اما تنها خود حبیب به موسیقی حرفه‌ای روی آورد. برادران او محمود، قاسم، منصور و منوچهر و خواهران او عفت و مریم هستند. علاقهٔ وی از ابتدا به گیتار بود. دوران نوجوانی حبیب مصادف با پیدایش گروه بیتلز در دههٔ ۶۰ میلادی اروپا شد و این باعث علاقهٔ بیشتر وی به موسیقی گردید. با پذیرفته‌شدن در آزمون صدا و سیما، زیر نظر مرتضی حنانه به فراگیری اصول و تدابیر آهنگسازی روی آورد. بعدها وی توانست به‌عنوان خواننده در تلویزیون استخدام شود. وی بعد از ۲ سال از استخدام در رادیو و تلویزیون به خدمت سربازی رفت و در آنجا نیز خوانندهٔ باشگاه افسران بود.\n",
      "سوال:[\\INST]\n",
      "\n"
     ]
    }
   ],
   "source": [
    "print(dd['inputs'][5000])"
   ]
  },
  {
   "cell_type": "code",
   "execution_count": 3,
   "metadata": {},
   "outputs": [
    {
     "data": {
      "text/plain": [
       "array(['PNLPhub/snappfood-sentiment-analysis'], dtype=object)"
      ]
     },
     "execution_count": 3,
     "metadata": {},
     "output_type": "execute_result"
    }
   ],
   "source": [
    "df['ds'].unique()"
   ]
  },
  {
   "cell_type": "code",
   "execution_count": 9,
   "metadata": {},
   "outputs": [
    {
     "data": {
      "text/plain": [
       "ds\n",
       "pn_summary                                683514\n",
       "PNLPhub/snappfood-sentiment-analysis      225806\n",
       "wiki_summary                              197833\n",
       "SLPL/syntran-fa                           144314\n",
       "PNLPhub/Persian-News                       79884\n",
       "PNLPhub/DigiMag                            68958\n",
       "persiannlp/parsinlu_sentiment              63544\n",
       "SajjadAyoubi/persian_qa                    43838\n",
       "PNLPhub/FarsTail                           41169\n",
       "PNLPhub/digikala-sentiment-analysis         9122\n",
       "persiannlp/parsinlu_query_paraphrasing      5487\n",
       "PNLPhub/parsinlu-multiple-choice            3811\n",
       "parsinlu_reading_comprehension              3799\n",
       "PNLPhub/PEYMA                               2780\n",
       "persiannlp/parsinlu_entailment              2258\n",
       "Name: count, dtype: int64"
      ]
     },
     "execution_count": 9,
     "metadata": {},
     "output_type": "execute_result"
    }
   ],
   "source": [
    "df['ds'].value_counts()"
   ]
  },
  {
   "cell_type": "code",
   "execution_count": 18,
   "metadata": {},
   "outputs": [
    {
     "data": {
      "text/plain": [
       "ds\n",
       "pn_summary                                7452\n",
       "persiannlp/parsinlu_query_paraphrasing     894\n",
       "SajjadAyoubi/persian_qa                    835\n",
       "PNLPhub/DigiMag                            765\n",
       "PNLPhub/FarsTail                           511\n",
       "persiannlp/parsinlu_entailment             267\n",
       "PNLPhub/parsinlu-multiple-choice            45\n",
       "Name: count, dtype: int64"
      ]
     },
     "execution_count": 18,
     "metadata": {},
     "output_type": "execute_result"
    }
   ],
   "source": [
    "new_df = df[df['type'] == 'fs']\n",
    "new_df['ds'].value_counts()"
   ]
  },
  {
   "cell_type": "code",
   "execution_count": 19,
   "metadata": {},
   "outputs": [],
   "source": [
    "pn_sum = df[df['ds'] == 'pn_summary']"
   ]
  },
  {
   "cell_type": "code",
   "execution_count": 20,
   "metadata": {},
   "outputs": [
    {
     "data": {
      "text/plain": [
       "'مدیر بازرگانی شرکت ملی پخش فرآورده\\u200cهای نفتی، در گفتگو با شانا با بیان این که بر اساس مجوز یکشنبه (۱۸ اسفند ماه) شورای اقتصاد، کارمزد بنزین در جایگاههای عرضه فرآورده\\u200cهای نفتی کلانشهر تهران افزایش یافته است، افزود: این کارمزد با احتساب ۱۰۰ ریال کارمزد ویژه برای آن، ۳۵۰ ریال به ازای فروش هر لیتر بنزین تعیین شده است. [n] محمدرضا مظلومی تصریح کرد: در دیگر کلانشهرهای کشور نیز کارمزد این فرآورده نفتی (بنزین) با احتساب ۴۰ ریال کارمزد ویژه، ۲۹۰ ریال به ازای فروش هر لیتر بنزین در نظر گرفته شده است. [n] به گفته وی، کارمزد در دیگر جایگاههای عرضه فرآورده نیز به ازای هر لیتر فروش بنزین ۲۵۰ ریال است. [n] تا پیش از مصوبه شورای اقتصاد کارمزد فروش بنزین به ازای هر لیتر آن ۲۰۰ ریال محاسبه می\\u200cشد. [n] مدیر بازرگانی شرکت ملی پخش فرآورده\\u200cهای نفتی با بیان این که برای جلوگیری از هرگونه مشکل برای جایگاه داران، در ماههای اخیر ۲۰ درصد از کارمزد جایگاههای عرضه سوخت به صورت علی الحساب به آنها پرداخت شده است، تصریح کرد: کارمزد قطعی (بر اساس نرخهای جدید) از ابتدای سال ۱۳۹۲ محاسبه و پرداخت می\\u200cشود. [n] مظلومی درباره کارمزد تعیین شده برای نفت گاز، نفت سفید و گاز مایع نیز گفت: کارمزد نفت سفید و نفت گاز با ۱۵ ریال افزایش نسبت به سال قبل (۶۰ ریال) به ۷۵ ریال و کارمزد گاز مایع نیز با ۱۰۰ ریال افزایش به ۳۰۰ ریال افزایش یافته است.\\n\\nبا توجه به متن بالا یک خلاصه تولید کن\\n\\nخلاصه:'"
      ]
     },
     "execution_count": 20,
     "metadata": {},
     "output_type": "execute_result"
    }
   ],
   "source": [
    "pn_sum['inputs'][1486]"
   ]
  },
  {
   "cell_type": "code",
   "execution_count": 39,
   "metadata": {},
   "outputs": [],
   "source": [
    "zs_df = df[df['type']=='zs']\n",
    "sent_df = zs_df[zs_df['ds']=='SajjadAyoubi/persian_qa']"
   ]
  },
  {
   "cell_type": "code",
   "execution_count": 40,
   "metadata": {},
   "outputs": [
    {
     "data": {
      "text/html": [
       "<div>\n",
       "<style scoped>\n",
       "    .dataframe tbody tr th:only-of-type {\n",
       "        vertical-align: middle;\n",
       "    }\n",
       "\n",
       "    .dataframe tbody tr th {\n",
       "        vertical-align: top;\n",
       "    }\n",
       "\n",
       "    .dataframe thead th {\n",
       "        text-align: right;\n",
       "    }\n",
       "</style>\n",
       "<table border=\"1\" class=\"dataframe\">\n",
       "  <thead>\n",
       "    <tr style=\"text-align: right;\">\n",
       "      <th></th>\n",
       "      <th>inputs</th>\n",
       "      <th>outputs</th>\n",
       "      <th>type</th>\n",
       "      <th>ds</th>\n",
       "    </tr>\n",
       "  </thead>\n",
       "  <tbody>\n",
       "    <tr>\n",
       "      <th>3002</th>\n",
       "      <td>جواب سوال از متن چه میشود؟\\n\\nمتن: شرکت فولاد ...</td>\n",
       "      <td>در شرق شهر مبارکه</td>\n",
       "      <td>zs</td>\n",
       "      <td>SajjadAyoubi/persian_qa</td>\n",
       "    </tr>\n",
       "    <tr>\n",
       "      <th>3003</th>\n",
       "      <td>جواب سوال از متن چه میشود؟\\n\\nمتن: شرکت فولاد ...</td>\n",
       "      <td>۶</td>\n",
       "      <td>zs</td>\n",
       "      <td>SajjadAyoubi/persian_qa</td>\n",
       "    </tr>\n",
       "    <tr>\n",
       "      <th>3004</th>\n",
       "      <td>جواب سوال از متن چه میشود؟\\n\\nمتن: شرکت فولاد ...</td>\n",
       "      <td>تندیس زرین جایزۀ ملی تعالی سازمانی</td>\n",
       "      <td>zs</td>\n",
       "      <td>SajjadAyoubi/persian_qa</td>\n",
       "    </tr>\n",
       "    <tr>\n",
       "      <th>3005</th>\n",
       "      <td>جواب سوال از متن چه میشود؟\\n\\nمتن: شرکت فولاد ...</td>\n",
       "      <td>شرکت فولاد مبارکۀ</td>\n",
       "      <td>zs</td>\n",
       "      <td>SajjadAyoubi/persian_qa</td>\n",
       "    </tr>\n",
       "    <tr>\n",
       "      <th>3006</th>\n",
       "      <td>جواب سوال از متن چه میشود؟\\n\\nمتن: شرکت فولاد ...</td>\n",
       "      <td>۱۳۷۱</td>\n",
       "      <td>zs</td>\n",
       "      <td>SajjadAyoubi/persian_qa</td>\n",
       "    </tr>\n",
       "  </tbody>\n",
       "</table>\n",
       "</div>"
      ],
      "text/plain": [
       "                                                 inputs  \\\n",
       "3002  جواب سوال از متن چه میشود؟\\n\\nمتن: شرکت فولاد ...   \n",
       "3003  جواب سوال از متن چه میشود؟\\n\\nمتن: شرکت فولاد ...   \n",
       "3004  جواب سوال از متن چه میشود؟\\n\\nمتن: شرکت فولاد ...   \n",
       "3005  جواب سوال از متن چه میشود؟\\n\\nمتن: شرکت فولاد ...   \n",
       "3006  جواب سوال از متن چه میشود؟\\n\\nمتن: شرکت فولاد ...   \n",
       "\n",
       "                                 outputs type                       ds  \n",
       "3002                   در شرق شهر مبارکه   zs  SajjadAyoubi/persian_qa  \n",
       "3003                                   ۶   zs  SajjadAyoubi/persian_qa  \n",
       "3004  تندیس زرین جایزۀ ملی تعالی سازمانی   zs  SajjadAyoubi/persian_qa  \n",
       "3005                   شرکت فولاد مبارکۀ   zs  SajjadAyoubi/persian_qa  \n",
       "3006                                ۱۳۷۱   zs  SajjadAyoubi/persian_qa  "
      ]
     },
     "execution_count": 40,
     "metadata": {},
     "output_type": "execute_result"
    }
   ],
   "source": [
    "sent_df.head()"
   ]
  },
  {
   "cell_type": "code",
   "execution_count": 41,
   "metadata": {},
   "outputs": [
    {
     "data": {
      "text/html": [
       "<div>\n",
       "<style scoped>\n",
       "    .dataframe tbody tr th:only-of-type {\n",
       "        vertical-align: middle;\n",
       "    }\n",
       "\n",
       "    .dataframe tbody tr th {\n",
       "        vertical-align: top;\n",
       "    }\n",
       "\n",
       "    .dataframe thead th {\n",
       "        text-align: right;\n",
       "    }\n",
       "</style>\n",
       "<table border=\"1\" class=\"dataframe\">\n",
       "  <thead>\n",
       "    <tr style=\"text-align: right;\">\n",
       "      <th></th>\n",
       "      <th>inputs</th>\n",
       "      <th>outputs</th>\n",
       "      <th>type</th>\n",
       "      <th>ds</th>\n",
       "    </tr>\n",
       "  </thead>\n",
       "  <tbody>\n",
       "    <tr>\n",
       "      <th>7124</th>\n",
       "      <td>جواب سوال از متن چه میشود؟\\n\\nمتن: فراماسونری ...</td>\n",
       "      <td>کارآموز یا مبتدی ، رفیق یا همکار و استاد ماسون</td>\n",
       "      <td>zs</td>\n",
       "      <td>SajjadAyoubi/persian_qa</td>\n",
       "    </tr>\n",
       "    <tr>\n",
       "      <th>5732</th>\n",
       "      <td>جواب سوال از متن چه میشود؟\\n\\nمتن: خواستگاری ب...</td>\n",
       "      <td>خواستگاری</td>\n",
       "      <td>zs</td>\n",
       "      <td>SajjadAyoubi/persian_qa</td>\n",
       "    </tr>\n",
       "    <tr>\n",
       "      <th>6418</th>\n",
       "      <td>جواب سوال از متن چه میشود؟\\n\\nمتن: جیمز جی برا...</td>\n",
       "      <td>ایرلندی-آمریکایی اهل نیوجرسی</td>\n",
       "      <td>zs</td>\n",
       "      <td>SajjadAyoubi/persian_qa</td>\n",
       "    </tr>\n",
       "    <tr>\n",
       "      <th>6057</th>\n",
       "      <td>جواب سوال از متن چه میشود؟\\n\\nمتن: از آنجایی ک...</td>\n",
       "      <td>سوم تا پنجم جمادی‌الثانی</td>\n",
       "      <td>zs</td>\n",
       "      <td>SajjadAyoubi/persian_qa</td>\n",
       "    </tr>\n",
       "    <tr>\n",
       "      <th>7673</th>\n",
       "      <td>جواب سوال از متن چه میشود؟\\n\\nمتن: یهودیان گرو...</td>\n",
       "      <td>پدران کتاب مقدس ابراهیم، اسحاق و یعقوب و شه ما...</td>\n",
       "      <td>zs</td>\n",
       "      <td>SajjadAyoubi/persian_qa</td>\n",
       "    </tr>\n",
       "  </tbody>\n",
       "</table>\n",
       "</div>"
      ],
      "text/plain": [
       "                                                 inputs  \\\n",
       "7124  جواب سوال از متن چه میشود؟\\n\\nمتن: فراماسونری ...   \n",
       "5732  جواب سوال از متن چه میشود؟\\n\\nمتن: خواستگاری ب...   \n",
       "6418  جواب سوال از متن چه میشود؟\\n\\nمتن: جیمز جی برا...   \n",
       "6057  جواب سوال از متن چه میشود؟\\n\\nمتن: از آنجایی ک...   \n",
       "7673  جواب سوال از متن چه میشود؟\\n\\nمتن: یهودیان گرو...   \n",
       "\n",
       "                                                outputs type  \\\n",
       "7124     کارآموز یا مبتدی ، رفیق یا همکار و استاد ماسون   zs   \n",
       "5732                                          خواستگاری   zs   \n",
       "6418                       ایرلندی-آمریکایی اهل نیوجرسی   zs   \n",
       "6057                           سوم تا پنجم جمادی‌الثانی   zs   \n",
       "7673  پدران کتاب مقدس ابراهیم، اسحاق و یعقوب و شه ما...   zs   \n",
       "\n",
       "                           ds  \n",
       "7124  SajjadAyoubi/persian_qa  \n",
       "5732  SajjadAyoubi/persian_qa  \n",
       "6418  SajjadAyoubi/persian_qa  \n",
       "6057  SajjadAyoubi/persian_qa  \n",
       "7673  SajjadAyoubi/persian_qa  "
      ]
     },
     "execution_count": 41,
     "metadata": {},
     "output_type": "execute_result"
    }
   ],
   "source": [
    "sent_df.sample(5)"
   ]
  },
  {
   "cell_type": "code",
   "execution_count": 29,
   "metadata": {},
   "outputs": [
    {
     "data": {
      "text/plain": [
       "'سوال نظر شما در مورد سلامت و ارزش غذایی این شیر چیست؟ در چه دسته بندی قرار میگیرد؟'"
      ]
     },
     "execution_count": 29,
     "metadata": {},
     "output_type": "execute_result"
    }
   ],
   "source": [
    "sent_df['inputs'][819070]"
   ]
  },
  {
   "cell_type": "code",
   "execution_count": 43,
   "metadata": {},
   "outputs": [
    {
     "data": {
      "text/plain": [
       "6306"
      ]
     },
     "execution_count": 43,
     "metadata": {},
     "output_type": "execute_result"
    }
   ],
   "source": [
    "len(sent_df)"
   ]
  },
  {
   "cell_type": "code",
   "execution_count": null,
   "metadata": {},
   "outputs": [],
   "source": []
  },
  {
   "attachments": {},
   "cell_type": "markdown",
   "metadata": {},
   "source": [
    "## Huggingface Dataset"
   ]
  },
  {
   "cell_type": "code",
   "execution_count": 2,
   "metadata": {},
   "outputs": [
    {
     "name": "stderr",
     "output_type": "stream",
     "text": [
      "/home/hojjat/anaconda3/envs/farsinstruct/lib/python3.8/site-packages/tqdm/auto.py:21: TqdmWarning: IProgress not found. Please update jupyter and ipywidgets. See https://ipywidgets.readthedocs.io/en/stable/user_install.html\n",
      "  from .autonotebook import tqdm as notebook_tqdm\n"
     ]
    }
   ],
   "source": [
    "from datasets import load_dataset\n",
    "\n",
    "hf_ds = load_dataset('csv', data_files='../data/instruct_dataset.csv', split='train')"
   ]
  },
  {
   "cell_type": "code",
   "execution_count": 3,
   "metadata": {},
   "outputs": [],
   "source": [
    "hf_ds_new = hf_ds.filter(lambda x: x['ds'].startswith('persiannlp'))"
   ]
  },
  {
   "cell_type": "code",
   "execution_count": 47,
   "metadata": {},
   "outputs": [
    {
     "data": {
      "text/plain": [
       "Dataset({\n",
       "    features: ['inputs', 'outputs', 'type', 'ds'],\n",
       "    num_rows: 25900\n",
       "})"
      ]
     },
     "execution_count": 47,
     "metadata": {},
     "output_type": "execute_result"
    }
   ],
   "source": [
    "hf_ds_new"
   ]
  },
  {
   "cell_type": "code",
   "execution_count": 9,
   "metadata": {},
   "outputs": [],
   "source": [
    "pn_hd = hf_ds.filter(lambda x: x['ds'] == 'pn_summary' and x['type'] == 'fs').select(range(1, 10))"
   ]
  },
  {
   "cell_type": "code",
   "execution_count": 10,
   "metadata": {},
   "outputs": [
    {
     "name": "stderr",
     "output_type": "stream",
     "text": [
      "Creating json from Arrow format: 100%|██████████| 1/1 [00:00<00:00, 1082.96ba/s]\n"
     ]
    },
    {
     "data": {
      "text/plain": [
       "33038"
      ]
     },
     "execution_count": 10,
     "metadata": {},
     "output_type": "execute_result"
    }
   ],
   "source": [
    "pn_hd.to_json('pn_fs.json')"
   ]
  },
  {
   "cell_type": "code",
   "execution_count": 12,
   "metadata": {},
   "outputs": [],
   "source": [
    "import re\n",
    "\n",
    "def remove_instruction(x):\n",
    "    space = re.compile(\"\\\\s+\")\n",
    "    splt_text = x.split('<sep>')\n",
    "    #snt_list = []\n",
    "    #for snt in splt_text:\n",
    "    #    snt_list.append(space.sub(\" \", snt))\n",
    "\n",
    "    return '\\n'.join(splt_text[1:])"
   ]
  },
  {
   "cell_type": "code",
   "execution_count": 14,
   "metadata": {},
   "outputs": [
    {
     "name": "stdout",
     "output_type": "stream",
     "text": [
      "\n",
      "موضوع: واکنش جانسون به استعفای شینزو آبه\n",
      "دسته:بین‌المللی\n",
      "\n"
     ]
    }
   ],
   "source": [
    "xx = \"\"\"\n",
    "موضوع داده شده در کدام یک از دسته بندی های زیر قرار میگیرد؟ دسته ها: اقتصاد ,راه‌ها-شهری ,بانکداری-بیمه ,کشاورزی ,بین‌المللی ,نفت-انرژی ,صنعت ,حمل و نقل ,علم-فناوری ,محلی ,ورزش ,سیاست ,هنر-فرهنگ ,جامعه ,سلامتی ,پژوهش ,آموزش-دانشگاه ,گردشگری\n",
    "<sep>\n",
    "موضوع: واکنش جانسون به استعفای شینزو آبه\n",
    "دسته:بین‌المللی\n",
    "\"\"\"\n",
    "\n",
    "print(remove_instruction(xx))"
   ]
  },
  {
   "cell_type": "code",
   "execution_count": null,
   "metadata": {},
   "outputs": [],
   "source": []
  },
  {
   "cell_type": "code",
   "execution_count": null,
   "metadata": {},
   "outputs": [],
   "source": []
  }
 ],
 "metadata": {
  "kernelspec": {
   "display_name": "farsinstruct",
   "language": "python",
   "name": "python3"
  },
  "language_info": {
   "codemirror_mode": {
    "name": "ipython",
    "version": 3
   },
   "file_extension": ".py",
   "mimetype": "text/x-python",
   "name": "python",
   "nbconvert_exporter": "python",
   "pygments_lexer": "ipython3",
   "version": "3.9.18"
  },
  "orig_nbformat": 4
 },
 "nbformat": 4,
 "nbformat_minor": 2
}
