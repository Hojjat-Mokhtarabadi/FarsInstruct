{
 "cells": [
  {
   "cell_type": "code",
   "execution_count": 18,
   "metadata": {},
   "outputs": [
    {
     "data": {
      "application/vnd.jupyter.widget-view+json": {
       "model_id": "b57de9dba91f4cde85dbdd378cb9be04",
       "version_major": 2,
       "version_minor": 0
      },
      "text/plain": [
       "Map:   0%|          | 0/100 [00:00<?, ? examples/s]"
      ]
     },
     "metadata": {},
     "output_type": "display_data"
    }
   ],
   "source": [
    "from transformers import AutoTokenizer\n",
    "from eval_dataset import FarsInstructEvalDataset\n",
    "\n",
    "# checkpoint = \"/media/abbas/Backup/mGPT-1.3B-persian/\"\n",
    "# checkpoint = \"/media/abbas/Backup/aya\"\n",
    "# checkpoint = \"/media/abbas/Backup/PersianMind-v1.0\"\n",
    "# checkpoint = \"/mnt/beegfs/wrkdir/u111187/Hojjat_Workstation/FarsInstruct/base_checkpoints/ava-llama3-v2/\"\n",
    "# checkpoint = \"/mnt/beegfs/wrkdir/u111187/Hojjat_Workstation/FarsInstruct/lora_checkpoints/hf_ckpt_ava_raw_fine_tune_with_really_small_samples\"\n",
    "# checkpoint = \"/mnt/beegfs/wrkdir/u111187/Hojjat_Workstation/FarsInstruct/lora_checkpoints/hf_ckpt_micro_ava_sajjadqa--qacatg-titlgen-genqWRa_pnsum--sumartcl-whatctgblngsto_slpl--genqwitha-qora_wikisum--artclsum-gnralans_digi--whichctg_persiannews--chscatg_parssentiment--revasp-revcat_exap--rel-ordr_absa--plr_pner--fndprsn\"\n",
    "path = \"/mnt/beegfs/wrkdir/u111187/Hojjat_Workstation/FarsInstruct/FarsInstruct/data/1shot_instruct_dataset_test_all.csv\"\n",
    "tokenizer = AutoTokenizer.from_pretrained(checkpoint, padding_side=\"left\")\n",
    "\n",
    "ds = FarsInstructEvalDataset(tokenizer, 129, 'none', 'test', shots=1, path=path)\n",
    "encoded_ds = ds.get_tokenized_data('PNLPhub/snappfood-sentiment-analysis', 'what_is_sentiment', multiple_choice=False)\n"
   ]
  },
  {
   "cell_type": "code",
   "execution_count": 19,
   "metadata": {},
   "outputs": [
    {
     "data": {
      "text/plain": [
       "Dataset({\n",
       "    features: ['input_ids', 'attention_mask', 'labels'],\n",
       "    num_rows: 100\n",
       "})"
      ]
     },
     "execution_count": 19,
     "metadata": {},
     "output_type": "execute_result"
    }
   ],
   "source": [
    "encoded_ds"
   ]
  },
  {
   "cell_type": "code",
   "execution_count": 20,
   "metadata": {},
   "outputs": [
    {
     "name": "stdout",
     "output_type": "stream",
     "text": [
      "<|im_end|><|im_end|><|im_end|><|im_end|><|im_end|><|im_end|><|im_end|><|im_end|><|im_end|><|im_end|><|im_end|><|im_end|><|im_end|><|im_end|><|im_end|><|im_end|><|im_end|><|im_end|><|im_end|><|im_end|><|im_end|><|im_end|><|im_end|><|im_end|><|im_end|><|im_end|><|im_end|><|im_end|><|im_end|><|im_end|><|im_end|><|im_end|><|im_end|><|im_end|><|im_end|><|im_end|><|im_end|><|im_end|><|im_end|><|im_end|><|im_end|><|im_end|><|im_end|><|im_end|><|im_end|><|im_end|><|im_end|><|im_end|><|im_end|><|im_end|><|im_end|><|im_end|><|im_end|><|im_end|><|im_end|><|im_end|><|im_end|><|im_end|><|im_end|><|im_end|><|im_end|><|im_end|><|im_end|><|im_end|><|im_end|><|im_end|><|im_end|><|im_end|><|im_end|><|im_end|><|im_end|>کاربری پس از خرید یک محصول نظر زیر را در مورد آن دارد. بررسی کن که آیا او از خریدش خوشحال است یا ناراحت؟\n",
      "\n",
      "نظر: غذا خیلی سرد تحویل گرفتم، گذاشتمش کنار، نمیشه خورد\n",
      "احساس کاربر:\n",
      "!!!!!!!!!!!!!!!!!!!!!!!!!!!!!!!!!!!!!!!!!!!!!!!!!!!!!!!!!!!!!!!!!!!!!!!\"\"\"\"\"\"\"\"\"\"\"\"\"\"\"\"\"\"\"\"\"\"\"\"\"\"\"\"\"\"\"\"\"\"\"\"\"\"\"\"\"\"\"\"\"\"\"\"\"\"\"\"\"\"\"\"\"\"\n",
      "<|im_end|><|im_end|><|im_end|><|im_end|><|im_end|><|im_end|><|im_end|><|im_end|><|im_end|><|im_end|><|im_end|><|im_end|><|im_end|><|im_end|><|im_end|><|im_end|><|im_end|><|im_end|><|im_end|><|im_end|><|im_end|><|im_end|><|im_end|><|im_end|><|im_end|><|im_end|><|im_end|><|im_end|><|im_end|><|im_end|><|im_end|><|im_end|><|im_end|><|im_end|><|im_end|><|im_end|><|im_end|><|im_end|><|im_end|><|im_end|><|im_end|><|im_end|><|im_end|><|im_end|><|im_end|><|im_end|><|im_end|><|im_end|><|im_end|><|im_end|><|im_end|><|im_end|><|im_end|><|im_end|><|im_end|><|im_end|><|im_end|><|im_end|><|im_end|><|im_end|><|im_end|><|im_end|><|im_end|><|im_end|><|im_end|><|im_end|><|im_end|><|im_end|><|im_end|><|im_end|><|im_end|><|im_end|><|im_end|><|im_end|><|im_end|><|im_end|><|im_end|><|im_end|><|im_end|><|im_end|><|im_end|><|im_end|><|im_end|><|im_end|><|im_end|><|im_end|><|im_end|><|im_end|><|im_end|><|im_end|><|im_end|><|im_end|><|im_end|><|im_end|><|im_end|><|im_end|><|im_end|><|im_end|><|im_end|><|im_end|><|im_end|><|im_end|><|im_end|><|im_end|><|im_end|><|im_end|><|im_end|><|im_end|><|im_end|><|im_end|><|im_end|><|im_end|><|im_end|><|im_end|><|im_end|><|im_end|><|im_end|><|im_end|><|im_end|><|im_end|><|im_end|><|im_end|><|im_end|><|im_end|><|im_end|><|im_end|>ناراحت\n"
     ]
    }
   ],
   "source": [
    "print(tokenizer.decode(encoded_ds['input_ids'][0]))\n",
    "print(tokenizer.decode(encoded_ds['attention_mask'][0]))\n",
    "print(tokenizer.decode(encoded_ds['labels'][0]))"
   ]
  },
  {
   "cell_type": "code",
   "execution_count": 21,
   "metadata": {},
   "outputs": [],
   "source": [
    "from transformers import DataCollatorWithPadding\n",
    "from torch.utils.data import DataLoader\n",
    "\n",
    "data_collator = DataCollatorWithPadding(tokenizer,\n",
    "                                        return_tensors='pt')\n",
    "        \n",
    "val_dataloader = DataLoader(encoded_ds, collate_fn=data_collator, batch_size=32)"
   ]
  },
  {
   "cell_type": "code",
   "execution_count": 22,
   "metadata": {},
   "outputs": [
    {
     "data": {
      "application/vnd.jupyter.widget-view+json": {
       "model_id": "c157aa7e7e014a46b1d2ead68b2101bb",
       "version_major": 2,
       "version_minor": 0
      },
      "text/plain": [
       "Loading checkpoint shards:   0%|          | 0/4 [00:00<?, ?it/s]"
      ]
     },
     "metadata": {},
     "output_type": "display_data"
    },
    {
     "name": "stderr",
     "output_type": "stream",
     "text": [
      "WARNING:root:Some parameters are on the meta device device because they were offloaded to the cpu.\n",
      "WARNING:accelerate.utils.other:Detected kernel version 5.3.18, which is below the recommended minimum of 5.5.0; this can cause the process to hang. It is recommended to upgrade the kernel to the minimum version or higher.\n"
     ]
    }
   ],
   "source": [
    "from transformers import AutoModelForCausalLM, AutoModelForSeq2SeqLM\n",
    "from accelerate import Accelerator\n",
    "import torch\n",
    "\n",
    "\n",
    "device = \"cuda\" if torch.cuda.is_available() else \"cpu\"\n",
    "\n",
    "from transformers import BitsAndBytesConfig\n",
    "\n",
    "quantization_config = BitsAndBytesConfig(\n",
    "    load_in_4bit=True,\n",
    "    bnb_4bit_use_double_quant=True,\n",
    "    bnb_4bit_quant_type=\"nf4\"\n",
    ")\n",
    "\n",
    "try:\n",
    "    model = AutoModelForCausalLM.from_pretrained(checkpoint,\n",
    "                                                #quantization_config=quantization_config,\n",
    "                                                torch_dtype=torch.float16,\n",
    "                                                device_map=\"auto\"\n",
    "    )\n",
    "except:\n",
    "    model = AutoModelForSeq2SeqLM.from_pretrained(checkpoint,\n",
    "                                                quantization_config=quantization_config,\n",
    "                                                torch_dtype=torch.float16,\n",
    "                                                device_map=\"auto\"\n",
    "    )\n",
    "\n",
    "accelerator = Accelerator(cpu=False)\n",
    "\n",
    "val_dataloader, model = accelerator.prepare(val_dataloader, model)"
   ]
  },
  {
   "cell_type": "code",
   "execution_count": 23,
   "metadata": {},
   "outputs": [
    {
     "data": {
      "text/plain": [
       "'/mnt/beegfs/wrkdir/u111187/Hojjat_Workstation/FarsInstruct/base_checkpoints/ava-llama3-v2/'"
      ]
     },
     "execution_count": 23,
     "metadata": {},
     "output_type": "execute_result"
    }
   ],
   "source": [
    "model.name_or_path"
   ]
  },
  {
   "cell_type": "code",
   "execution_count": 24,
   "metadata": {},
   "outputs": [],
   "source": [
    "import torch \n",
    "import numpy as np\n",
    "import datasets\n",
    "from hazm import sent_tokenize\n",
    "\n",
    "\n",
    "def postprocess_text(preds, labels):\n",
    "        preds = [pred.strip() for pred in preds]\n",
    "        labels = [label.strip() for label in labels]\n",
    "\n",
    "        # rougeLSum expects newline after each sentence\n",
    "        preds = [\"\\n\".join(sent_tokenize(pred)) for pred in preds]\n",
    "        labels = [\"\\n\".join(sent_tokenize(label)) for label in labels]\n",
    "\n",
    "        return preds, labels\n",
    "\n",
    "\n",
    "def evall():\n",
    "    dec_preds = []\n",
    "    dec_labels = []\n",
    "    model.eval()\n",
    "    metric = datasets.load_metric('rouge')\n",
    "    for step, batch in enumerate(val_dataloader):\n",
    "        with torch.no_grad():\n",
    "            generated_tokens = accelerator.unwrap_model(model).generate(\n",
    "                input_ids=batch['input_ids'],\n",
    "                attention_mask=batch['attention_mask'],\n",
    "                max_new_tokens=64,\n",
    "                top_k=10,\n",
    "                # eos_token_id=128001\n",
    "            )\n",
    "\n",
    "            generated_tokens = accelerator.pad_across_processes(\n",
    "                generated_tokens, dim=1, pad_index=tokenizer.pad_token_id\n",
    "            )\n",
    "            labels = batch[\"labels\"]\n",
    "            \n",
    "            generated_tokens, labels = accelerator.gather_for_metrics((generated_tokens, labels))\n",
    "            generated_tokens = generated_tokens.cpu().numpy()\n",
    "            labels = labels.cpu().numpy()\n",
    "\n",
    "            labels = np.where(labels != -100, labels, tokenizer.pad_token_id)\n",
    "            if isinstance(generated_tokens, tuple):\n",
    "                generated_tokens = generated_tokens[0]\n",
    "            decoded_preds = tokenizer.batch_decode(generated_tokens, skip_special_tokens=True)\n",
    "            if model.name_or_path != \"/media/abbas/Backup/aya\":\n",
    "                decoded_preds = tokenizer.batch_decode(generated_tokens[:, batch['input_ids'].shape[1]:], skip_special_tokens=True)\n",
    "            else:\n",
    "                decoded_preds = tokenizer.batch_decode(generated_tokens, skip_special_tokens=True)\n",
    "                \n",
    "            decoded_labels = tokenizer.batch_decode(labels, skip_special_tokens=True)\n",
    "\n",
    "            decoded_preds, decoded_labels = postprocess_text(decoded_preds, decoded_labels)\n",
    "            metric.add_batch(\n",
    "                predictions=decoded_preds,\n",
    "                references=decoded_labels,\n",
    "            )\n",
    "\n",
    "            # print(decoded_preds)\n",
    "            # print(tokenizer.batch_decode(batch['input_ids']))\n",
    "\n",
    "            dec_preds = decoded_preds\n",
    "            dec_labels = decoded_labels\n",
    "\n",
    "    scores = metric.compute(\n",
    "        rouge_types=[\"rouge1\", \"rouge2\", \"rougeL\", \"rougeLsum\"], \n",
    "        use_stemmer=False, \n",
    "        lang='fa')\n",
    "\n",
    "    from prettytable import PrettyTable\n",
    "    table = PrettyTable(title='Rouge Metric')\n",
    "    table.field_names = [\"Score\", \"Type\", \"Precision\", \"Recall\", \"F-Measure\"]\n",
    "    for i, score_name in enumerate(scores):\n",
    "        score = dict(scores[score_name]._asdict())\n",
    "        for score_type in score:\n",
    "            values = score[score_type]\n",
    "            table.add_row([f'{score_name}', f'{score_type}', f'{values.precision * 100:0.2f} ', f'{values.recall * 100:0.2f}', f'{values.fmeasure * 100:0.2f}'])\n",
    "\n",
    "        if i < len(scores) - 1:\n",
    "            table.add_row([''] * len(table.field_names))\n",
    "            table.add_row(['***'] * len(table.field_names))\n",
    "            table.add_row([''] * len(table.field_names))\n",
    "\n",
    "    rouge_table_valid = table\n",
    "    print(table.get_string())\n",
    "\n",
    "    return dec_preds, dec_labels\n",
    "    # result = {k: round(v * 100, 4) for k, v in result.items()}\n"
   ]
  },
  {
   "cell_type": "markdown",
   "metadata": {},
   "source": [
    "## Snappfood sentiment"
   ]
  },
  {
   "cell_type": "code",
   "execution_count": 25,
   "metadata": {},
   "outputs": [
    {
     "name": "stderr",
     "output_type": "stream",
     "text": [
      "/home/u111187/.local/lib/python3.10/site-packages/datasets/load.py:855: FutureWarning: The repository for rouge contains custom code which must be executed to correctly load the metric. You can inspect the repository content at rouge/rouge.py\n",
      "You can avoid this message in future by passing the argument `trust_remote_code=True`.\n",
      "Passing `trust_remote_code=True` will be mandatory to load this metric from the next major release of `datasets`.\n",
      "  warnings.warn(\n",
      "You're using a PreTrainedTokenizerFast tokenizer. Please note that with a fast tokenizer, using the `__call__` method is faster than using a method to encode the text followed by a call to the `pad` method to get a padded encoding.\n",
      "/home/u111187/.local/lib/python3.10/site-packages/transformers/generation/configuration_utils.py:377: UserWarning: `do_sample` is set to `False`. However, `top_k` is set to `10` -- this flag is only used in sample-based generation modes. You should set `do_sample=True` or unset `top_k`.\n",
      "  warnings.warn(\n"
     ]
    },
    {
     "name": "stdout",
     "output_type": "stream",
     "text": [
      "+---------------------------------------------------+\n",
      "|                    Rouge Metric                   |\n",
      "+-----------+------+-----------+--------+-----------+\n",
      "|   Score   | Type | Precision | Recall | F-Measure |\n",
      "+-----------+------+-----------+--------+-----------+\n",
      "|   rouge1  | low  |   38.30   | 75.00  |   41.27   |\n",
      "|   rouge1  | mid  |   47.99   | 83.00  |   50.79   |\n",
      "|   rouge1  | high |   56.53   | 90.00  |   59.23   |\n",
      "|           |      |           |        |           |\n",
      "|    ***    | ***  |    ***    |  ***   |    ***    |\n",
      "|           |      |           |        |           |\n",
      "|   rouge2  | low  |   0.00    |  0.00  |    0.00   |\n",
      "|   rouge2  | mid  |   0.00    |  0.00  |    0.00   |\n",
      "|   rouge2  | high |   0.00    |  0.00  |    0.00   |\n",
      "|           |      |           |        |           |\n",
      "|    ***    | ***  |    ***    |  ***   |    ***    |\n",
      "|           |      |           |        |           |\n",
      "|   rougeL  | low  |   39.00   | 75.00  |   41.94   |\n",
      "|   rougeL  | mid  |   48.09   | 83.00  |   50.82   |\n",
      "|   rougeL  | high |   56.61   | 90.00  |   59.24   |\n",
      "|           |      |           |        |           |\n",
      "|    ***    | ***  |    ***    |  ***   |    ***    |\n",
      "|           |      |           |        |           |\n",
      "| rougeLsum | low  |   39.40   | 75.00  |   42.27   |\n",
      "| rougeLsum | mid  |   48.05   | 83.00  |   50.82   |\n",
      "| rougeLsum | high |   57.09   | 90.00  |   59.60   |\n",
      "+-----------+------+-----------+--------+-----------+\n"
     ]
    },
    {
     "data": {
      "text/plain": [
       "(['ناراحت دلیل: نان دسر کاملا خشک و مانده بود.',\n",
       "  'ناراحت',\n",
       "  'ونم از این مغازه.',\n",
       "  'ناراحت'],\n",
       " ['ناراحت', 'خوشحال', 'خوشحال', 'ناراحت'])"
      ]
     },
     "execution_count": 25,
     "metadata": {},
     "output_type": "execute_result"
    }
   ],
   "source": [
    "# ava -- raw\n",
    "evall()"
   ]
  },
  {
   "cell_type": "code",
   "execution_count": 14,
   "metadata": {},
   "outputs": [
    {
     "name": "stderr",
     "output_type": "stream",
     "text": [
      "/tmp/ipykernel_126378/618092861.py:22: FutureWarning: load_metric is deprecated and will be removed in the next major version of datasets. Use 'evaluate.load' instead, from the new library 🤗 Evaluate: https://huggingface.co/docs/evaluate\n",
      "  metric = datasets.load_metric('rouge')\n",
      "/home/u111187/.local/lib/python3.10/site-packages/datasets/load.py:855: FutureWarning: The repository for rouge contains custom code which must be executed to correctly load the metric. You can inspect the repository content at rouge/rouge.py\n",
      "You can avoid this message in future by passing the argument `trust_remote_code=True`.\n",
      "Passing `trust_remote_code=True` will be mandatory to load this metric from the next major release of `datasets`.\n",
      "  warnings.warn(\n",
      "You're using a PreTrainedTokenizerFast tokenizer. Please note that with a fast tokenizer, using the `__call__` method is faster than using a method to encode the text followed by a call to the `pad` method to get a padded encoding.\n"
     ]
    },
    {
     "name": "stdout",
     "output_type": "stream",
     "text": [
      "[2024-06-11 23:35:11,635] [INFO] [real_accelerator.py:203:get_accelerator] Setting ds_accelerator to cuda (auto detect)\n",
      "Warning: The default cache directory for DeepSpeed Triton autotune, /home/u111187/.triton/autotune, appears to be on an NFS system. While this is generally acceptable, if you experience slowdowns or hanging when DeepSpeed exits, it is recommended to set the TRITON_CACHE_DIR environment variable to a non-NFS path.\n",
      "\u001b[93m [WARNING] \u001b[0m async_io requires the dev libaio .so object and headers but these were not found.\n",
      "\u001b[93m [WARNING] \u001b[0m async_io: please install the libaio-devel package with yum\n",
      "\u001b[93m [WARNING] \u001b[0m If libaio is already installed (perhaps from source), try setting the CFLAGS and LDFLAGS environment variables to where it can be found.\n",
      "\u001b[93m [WARNING] \u001b[0m Please specify the CUTLASS repo directory as environment variable $CUTLASS_PATH\n"
     ]
    },
    {
     "name": "stderr",
     "output_type": "stream",
     "text": [
      "/usr/bin/ld: cannot find -laio: No such file or directory\n",
      "collect2: error: ld returned 1 exit status\n"
     ]
    },
    {
     "name": "stdout",
     "output_type": "stream",
     "text": [
      "\u001b[93m [WARNING] \u001b[0m NVIDIA Inference is only supported on Ampere and newer architectures\n",
      "\u001b[93m [WARNING] \u001b[0m sparse_attn requires a torch version >= 1.5 and < 2.0 but detected 2.2\n",
      "\u001b[93m [WARNING] \u001b[0m using untested triton version (2.2.0), only 1.0.0 is known to be compatible\n"
     ]
    },
    {
     "name": "stderr",
     "output_type": "stream",
     "text": [
      "/home/u111187/.local/lib/python3.10/site-packages/transformers/generation/configuration_utils.py:377: UserWarning: `do_sample` is set to `False`. However, `top_k` is set to `10` -- this flag is only used in sample-based generation modes. You should set `do_sample=True` or unset `top_k`.\n",
      "  warnings.warn(\n",
      "A decoder-only architecture is being used, but right-padding was detected! For correct generation results, please set `padding_side='left'` when initializing the tokenizer.\n"
     ]
    },
    {
     "name": "stdout",
     "output_type": "stream",
     "text": [
      "+---------------------------------------------------+\n",
      "|                    Rouge Metric                   |\n",
      "+-----------+------+-----------+--------+-----------+\n",
      "|   Score   | Type | Precision | Recall | F-Measure |\n",
      "+-----------+------+-----------+--------+-----------+\n",
      "|   rouge1  | low  |   14.07   | 43.00  |   19.29   |\n",
      "|   rouge1  | mid  |   18.49   | 52.00  |   25.20   |\n",
      "|   rouge1  | high |   23.12   | 61.00  |   31.29   |\n",
      "|           |      |           |        |           |\n",
      "|    ***    | ***  |    ***    |  ***   |    ***    |\n",
      "|           |      |           |        |           |\n",
      "|   rouge2  | low  |   0.00    |  0.00  |    0.00   |\n",
      "|   rouge2  | mid  |   0.00    |  0.00  |    0.00   |\n",
      "|   rouge2  | high |   0.00    |  0.00  |    0.00   |\n",
      "|           |      |           |        |           |\n",
      "|    ***    | ***  |    ***    |  ***   |    ***    |\n",
      "|           |      |           |        |           |\n",
      "|   rougeL  | low  |   13.72   | 42.98  |   18.85   |\n",
      "|   rougeL  | mid  |   18.48   | 52.00  |   25.16   |\n",
      "|   rougeL  | high |   23.02   | 62.00  |   31.15   |\n",
      "|           |      |           |        |           |\n",
      "|    ***    | ***  |    ***    |  ***   |    ***    |\n",
      "|           |      |           |        |           |\n",
      "| rougeLsum | low  |   14.21   | 43.00  |   19.52   |\n",
      "| rougeLsum | mid  |   18.41   | 52.00  |   25.08   |\n",
      "| rougeLsum | high |   22.91   | 61.02  |   31.10   |\n",
      "+-----------+------+-----------+--------+-----------+\n"
     ]
    },
    {
     "data": {
      "text/plain": [
       "(['خوشحال نیستم',\n",
       "  'خوشحال نیستم از خریدم.\\nبرای من مناسب نبود.\\nبرای کسانی که لاکتوز تحملشون خوبه خوبه.\\nبرای منم که تحملشون متوسط بود خیلی مزه ی بد و نامطبوع داشت.\\nبا این قیمت حتما باید خیلی بهتر از این باش',\n",
       "  'من هم از خریدش راضی هستم.\\nخوب بود، فقط من میخواستم یک تن ماهی خشک سفارش بدم ولی گفتن ماهی خشک ندارن، من دیگه از دیجی کالا ماهی نمیخرم.\\nممنون از دیجی کالا.\\nممنون از',\n",
       "  'خوشحال نیستم!'],\n",
       " ['ناراحت', 'خوشحال', 'خوشحال', 'ناراحت'])"
      ]
     },
     "execution_count": 14,
     "metadata": {},
     "output_type": "execute_result"
    }
   ],
   "source": [
    "## ava -- fine tuned -- <|temp|>\n",
    "evall()"
   ]
  },
  {
   "cell_type": "markdown",
   "metadata": {},
   "source": [
    "## Query paraphrase -- similar or not"
   ]
  },
  {
   "cell_type": "code",
   "execution_count": 16,
   "metadata": {},
   "outputs": [
    {
     "name": "stderr",
     "output_type": "stream",
     "text": [
      "/home/u111187/.local/lib/python3.10/site-packages/datasets/load.py:855: FutureWarning: The repository for rouge contains custom code which must be executed to correctly load the metric. You can inspect the repository content at rouge/rouge.py\n",
      "You can avoid this message in future by passing the argument `trust_remote_code=True`.\n",
      "Passing `trust_remote_code=True` will be mandatory to load this metric from the next major release of `datasets`.\n",
      "  warnings.warn(\n",
      "You're using a PreTrainedTokenizerFast tokenizer. Please note that with a fast tokenizer, using the `__call__` method is faster than using a method to encode the text followed by a call to the `pad` method to get a padded encoding.\n",
      "/home/u111187/.local/lib/python3.10/site-packages/transformers/generation/configuration_utils.py:377: UserWarning: `do_sample` is set to `False`. However, `top_k` is set to `10` -- this flag is only used in sample-based generation modes. You should set `do_sample=True` or unset `top_k`.\n",
      "  warnings.warn(\n"
     ]
    },
    {
     "name": "stdout",
     "output_type": "stream",
     "text": [
      "+---------------------------------------------------+\n",
      "|                    Rouge Metric                   |\n",
      "+-----------+------+-----------+--------+-----------+\n",
      "|   Score   | Type | Precision | Recall | F-Measure |\n",
      "+-----------+------+-----------+--------+-----------+\n",
      "|   rouge1  | low  |   1.82    | 41.40  |    3.25   |\n",
      "|   rouge1  | mid  |   2.55    | 46.00  |    4.01   |\n",
      "|   rouge1  | high |   3.58    | 50.20  |    5.07   |\n",
      "|           |      |           |        |           |\n",
      "|    ***    | ***  |    ***    |  ***   |    ***    |\n",
      "|           |      |           |        |           |\n",
      "|   rouge2  | low  |   0.00    |  0.00  |    0.00   |\n",
      "|   rouge2  | mid  |   0.00    |  0.00  |    0.00   |\n",
      "|   rouge2  | high |   0.00    |  0.00  |    0.00   |\n",
      "|           |      |           |        |           |\n",
      "|    ***    | ***  |    ***    |  ***   |    ***    |\n",
      "|           |      |           |        |           |\n",
      "|   rougeL  | low  |   1.82    | 41.40  |    3.21   |\n",
      "|   rougeL  | mid  |   2.57    | 45.80  |    4.01   |\n",
      "|   rougeL  | high |   3.58    | 50.20  |    5.08   |\n",
      "|           |      |           |        |           |\n",
      "|    ***    | ***  |    ***    |  ***   |    ***    |\n",
      "|           |      |           |        |           |\n",
      "| rougeLsum | low  |   1.81    | 41.20  |    3.22   |\n",
      "| rougeLsum | mid  |   2.51    | 45.60  |    3.97   |\n",
      "| rougeLsum | high |   3.53    | 50.20  |    5.00   |\n",
      "+-----------+------+-----------+--------+-----------+\n"
     ]
    },
    {
     "data": {
      "text/plain": [
       "(['صحیح متن اول و دوم هم معنی هستند.\\nهر دو سؤال از کجا باید برود تا شب را تنها بگذارد، اما با استفاده از کلمات و عبارات مختلف.',\n",
       "  'صحیح متن اول و دوم هم معنی هستند.\\nهر دو از تی ام بکس دانلود اهنگ کی بودی چی بودی تو را درخواست می کنند.',\n",
       "  'صحیح، دو متن هم معنی هستند.\\nآنها هر دو سؤال می کنند که کیسه صفرا در کجای بدن قرار دارد، اما متن دوم سؤال را به صورت یک جمله بیان می کند.',\n",
       "  'صحیح، دو متن هم معنی هستند.\\nهر دو درباره غذاهایی هستند که می توان در دستگاه های خاصی مانند توستر و ساندویچ ساز درست کرد.',\n",
       "  'غلط متن اول در مورد راهکارهای درمان افسردگی و متن دوم در مورد روش\\u200cهای مهاجرت به آمریکا است.\\nاین دو موضوع کاملاً متفاوت هستند و هیچ ارتباطی با هم ندارند.\\nبنابراین، این دو متن هم معنی نیستند.',\n",
       "  'متن اول و دوم هم معنی نیستند.\\nمتن اول سؤال می کند که چه مدت طول می کشد تا بتوانیم رآکتور هسته ای را جدا کنیم، در حالی که متن دوم سؤال می کند که ساخت یک رآکتور هسته ای چقدر طول می کشد.\\nاین دو',\n",
       "  'صحیح، دو متن هم معنی هستند.\\nهر دو در مورد نحوه تشخیص اینکه آیا یک حساب کاربری در تلگرام یا واتساپ هک شده است، بحث می کنند.',\n",
       "  'صحیح، این دو متن هم معنی هستند.\\nهر دو سؤال در مورد چگونگی کاهش چربی زیر شکم است.',\n",
       "  'صحیح، دو متن هم معنی هستند.\\nهر دو متن درباره مواد غذایی برای کبد چرب صحبت می کنند.',\n",
       "  'صحیح\\nمتن اول و دوم هم معنی هستند.\\nهر دو سؤال از یک شخص می پرسد که چگونه می تواند در انگلیسی بهتر شود.\\nهر دو سؤال به دنبال راه هایی برای بهبود مهارت های زبان انگلیسی است.\\nبنابراین، این دو متن هم معنی هستند.',\n",
       "  'متن اول و دوم هم معنی نیستند.\\nمتن اول در مورد میوه های ذکر شده در قرآن است، در حالی که متن دوم در مورد پروتئین در میوه ها است.',\n",
       "  'صحیح\\nمتن اول و دوم به طور کلی هم معنی هستند.\\nهر دو سؤال از همان دلیل پاسخ می دهند: قرآن به زبان عربی نوشته شده است زیرا این زبان زبان پیامبر اسلام محمد بود و او قرآن را بر اساس وحی الهی به زبان عربی نوشت.\\nتفاوت بین دو س',\n",
       "  'صحیح، دو متن هم معنی هستند.\\nآنها هر دو سؤال می کنند که چه رنگ لباسی برای پوست سبزه مناسب است.\\nبا این حال، متن دوم کمی کوتاه تر است و ممکن است به نظر برسد که سؤال کمی متفاوت است، اما در واقع همان سؤال است.',\n",
       "  'متن اول صحیح است.\\nخوردن برخی از غذاها و نوشیدنی ها مانند آب لیمو، آب نارنجی، آب سیب، آب آناناس، آب آناناس، آب آناناس، آب آناناس، آب آناناس، آب آناناس، آب آناناس، آب آناناس',\n",
       "  'صحیح، دو متن هم معنی هستند.\\nهر دو در مورد انتقال عکس ها از رایانه به آیفون هستند، اما متن اول نحوه همگام سازی iTunes را برای این کار توضیح می دهد، در حالی که متن دوم نحوه انتقال عکس ها را بدون استفاده از iTunes توضیح می دهد.',\n",
       "  'صحیح، این دو متن هم معنی هستند.\\nهر دو در مورد علت بو دهان بعد از کشیدن دندان بحث می کنند.',\n",
       "  'صحیح، دو متن هم معنی هستند.\\nهر دو در مورد غذاهایی که اسید معده را کاهش می دهند بحث می کنند.',\n",
       "  'صحیح',\n",
       "  'این دو متن یکسان نیستند.\\nمتن اول سؤال می کند و متن دوم یک پاسخ است.\\nآنها در مورد همان موضوع صحبت می کنند، اما در فرم و محتوای مختلف هستند.\\nبنابراین، آنها هم معنی نیستند.',\n",
       "  'صحیح، دو متن هم معنی هستند.\\nهر دو در مورد غذاهای مفید برای کم خونی بحث می کنند، اگرچه متن دوم به طور خاص به کم خونی در زنان باردار اشاره می کند.'],\n",
       " ['صحیح',\n",
       "  'صحیح',\n",
       "  'صحیح',\n",
       "  'غلط',\n",
       "  'غلط',\n",
       "  'غلط',\n",
       "  'غلط',\n",
       "  'غلط',\n",
       "  'صحیح',\n",
       "  'صحیح',\n",
       "  'غلط',\n",
       "  'صحیح',\n",
       "  'صحیح',\n",
       "  'غلط',\n",
       "  'غلط',\n",
       "  'غلط',\n",
       "  'صحیح',\n",
       "  'غلط',\n",
       "  'صحیح',\n",
       "  'غلط'])"
      ]
     },
     "execution_count": 16,
     "metadata": {},
     "output_type": "execute_result"
    }
   ],
   "source": [
    "# ava -- raw\n",
    "evall()"
   ]
  },
  {
   "cell_type": "markdown",
   "metadata": {},
   "source": [
    "## Query paraphrase -- compare two sents"
   ]
  },
  {
   "cell_type": "code",
   "execution_count": null,
   "metadata": {},
   "outputs": [],
   "source": [
    "# "
   ]
  },
  {
   "cell_type": "code",
   "execution_count": 8,
   "metadata": {},
   "outputs": [
    {
     "name": "stderr",
     "output_type": "stream",
     "text": [
      "/tmp/ipykernel_124966/1123409467.py:22: FutureWarning: load_metric is deprecated and will be removed in the next major version of datasets. Use 'evaluate.load' instead, from the new library 🤗 Evaluate: https://huggingface.co/docs/evaluate\n",
      "  metric = datasets.load_metric('rouge')\n",
      "/home/u111187/.local/lib/python3.10/site-packages/datasets/load.py:855: FutureWarning: The repository for rouge contains custom code which must be executed to correctly load the metric. You can inspect the repository content at rouge/rouge.py\n",
      "You can avoid this message in future by passing the argument `trust_remote_code=True`.\n",
      "Passing `trust_remote_code=True` will be mandatory to load this metric from the next major release of `datasets`.\n",
      "  warnings.warn(\n",
      "You're using a PreTrainedTokenizerFast tokenizer. Please note that with a fast tokenizer, using the `__call__` method is faster than using a method to encode the text followed by a call to the `pad` method to get a padded encoding.\n"
     ]
    },
    {
     "name": "stdout",
     "output_type": "stream",
     "text": [
      "[2024-06-11 22:33:02,917] [INFO] [real_accelerator.py:203:get_accelerator] Setting ds_accelerator to cuda (auto detect)\n",
      "Warning: The default cache directory for DeepSpeed Triton autotune, /home/u111187/.triton/autotune, appears to be on an NFS system. While this is generally acceptable, if you experience slowdowns or hanging when DeepSpeed exits, it is recommended to set the TRITON_CACHE_DIR environment variable to a non-NFS path.\n",
      "\u001b[93m [WARNING] \u001b[0m async_io requires the dev libaio .so object and headers but these were not found.\n",
      "\u001b[93m [WARNING] \u001b[0m async_io: please install the libaio-devel package with yum\n",
      "\u001b[93m [WARNING] \u001b[0m If libaio is already installed (perhaps from source), try setting the CFLAGS and LDFLAGS environment variables to where it can be found.\n",
      "\u001b[93m [WARNING] \u001b[0m Please specify the CUTLASS repo directory as environment variable $CUTLASS_PATH\n"
     ]
    },
    {
     "name": "stderr",
     "output_type": "stream",
     "text": [
      "/usr/bin/ld: cannot find -laio: No such file or directory\n",
      "collect2: error: ld returned 1 exit status\n"
     ]
    },
    {
     "name": "stdout",
     "output_type": "stream",
     "text": [
      "\u001b[93m [WARNING] \u001b[0m NVIDIA Inference is only supported on Ampere and newer architectures\n",
      "\u001b[93m [WARNING] \u001b[0m sparse_attn requires a torch version >= 1.5 and < 2.0 but detected 2.2\n",
      "\u001b[93m [WARNING] \u001b[0m using untested triton version (2.2.0), only 1.0.0 is known to be compatible\n"
     ]
    },
    {
     "name": "stderr",
     "output_type": "stream",
     "text": [
      "/home/u111187/.local/lib/python3.10/site-packages/transformers/generation/configuration_utils.py:377: UserWarning: `do_sample` is set to `False`. However, `top_k` is set to `10` -- this flag is only used in sample-based generation modes. You should set `do_sample=True` or unset `top_k`.\n",
      "  warnings.warn(\n"
     ]
    },
    {
     "name": "stdout",
     "output_type": "stream",
     "text": [
      "+---------------------------------------------------+\n",
      "|                    Rouge Metric                   |\n",
      "+-----------+------+-----------+--------+-----------+\n",
      "|   Score   | Type | Precision | Recall | F-Measure |\n",
      "+-----------+------+-----------+--------+-----------+\n",
      "|   rouge1  | low  |   2.51    | 57.00  |    4.73   |\n",
      "|   rouge1  | mid  |   2.81    | 61.40  |    5.27   |\n",
      "|   rouge1  | high |   3.10    | 65.60  |    5.78   |\n",
      "|           |      |           |        |           |\n",
      "|    ***    | ***  |    ***    |  ***   |    ***    |\n",
      "|           |      |           |        |           |\n",
      "|   rouge2  | low  |   0.00    |  0.00  |    0.00   |\n",
      "|   rouge2  | mid  |   0.00    |  0.00  |    0.00   |\n",
      "|   rouge2  | high |   0.00    |  0.00  |    0.00   |\n",
      "|           |      |           |        |           |\n",
      "|    ***    | ***  |    ***    |  ***   |    ***    |\n",
      "|           |      |           |        |           |\n",
      "|   rougeL  | low  |   2.51    | 56.80  |    4.72   |\n",
      "|   rougeL  | mid  |   2.80    | 61.40  |    5.25   |\n",
      "|   rougeL  | high |   3.08    | 65.40  |    5.77   |\n",
      "|           |      |           |        |           |\n",
      "|    ***    | ***  |    ***    |  ***   |    ***    |\n",
      "|           |      |           |        |           |\n",
      "| rougeLsum | low  |   2.50    | 57.19  |    4.72   |\n",
      "| rougeLsum | mid  |   2.80    | 61.40  |    5.26   |\n",
      "| rougeLsum | high |   3.09    | 66.00  |    5.79   |\n",
      "+-----------+------+-----------+--------+-----------+\n"
     ]
    },
    {
     "data": {
      "text/plain": [
       "(['بله، سوال دوم از سوال اصلی بازنویسی شده است.\\nهر دو سوال از کجا باید برم برای یک شب را می پرسند، اما سوال دوم از کلمه \"منو تنها\" به \"منو راحت\" تغییر می کند.\\nاین تغییر به طور کلی به منظور ایجاد یک سوال',\n",
       "  'بله، سوال دوم از سوال اصلی بازنویسی شده است.',\n",
       "  'بله، سوال دوم از سوال اصلی بازنویسی شده است.',\n",
       "  'بله، سوال دوم از سوال اصلی بازنویسی شده است.\\nهر دو سوال در مورد غذاهای مختلفی است که می توان در یک وسیله خاص (توستر یا ساندویچ ساز) درست کرد.',\n",
       "  'خیر، سوال دوم از سوال اصلی بازنویسی نشده است.\\nسوال اصلی در مورد راهکارهای درمان افسردگی است، در حالی که سوال دوم در مورد روش\\u200cهای مهاجرت به آمریکا است.',\n",
       "  'بله، سوال دوم از سوال اصلی بازنویسی شده است.\\nهر دو سوال در مورد ساخت یک رآکتور هسته ای هستند، اما سوال دوم به طور مستقیم از سوال اصلی بازنویسی شده است.',\n",
       "  'بله، سوال دوم از سوال اصلی بازنویسی شده است.\\nهر دو سوال از کجا می توانیم متوجه شیم که در یک پلتفرم پیام رسانی هک شده ایم، با این تفاوت که سوال دوم به واتساپ اشاره دارد در حالی که سوال اصلی به تلگر',\n",
       "  'بله، سوال دوم از سوال اصلی بازنویسی شده است.\\nهر دو سوال در مورد چربی زیر شکم و چگونگی آن است، اما سوال دوم به طور مستقیم از سوال اصلی بازنویسی شده است.',\n",
       "  'بله، سوال دوم از سوال اصلی بازنویسی شده است.\\nهر دو سوال از همان موضوع و مفاهیم استفاده می کنند، اما سوال دوم به صورت مختصر تر و به طور مستقیم تر از سوال اصلی است.',\n",
       "  'بله، سوال دوم از سوال اصلی بازنویسی شده است.\\nهر دو سوال به بهبود مکالمه زبان انگلیسی اشاره می کنند، اما سوال دوم به طور مستقیم تر و ساده تر از سوال اصلی است.',\n",
       "  'خیر، سوال دوم از سوال اصلی بازنویسی نشده است.\\nسوال اصلی در مورد میوه هایی است که در قرآن ذکر شده است، در حالی که سوال دوم در مورد پروتئین در میوه ها است.',\n",
       "  'بله، سوال دوم از سوال اصلی بازنویسی شده است.\\nهر دو سوال به زبان عربی نوشته شدن قرآن اشاره می کنند، اما سوال دوم به صورت «به زبان عربی نوشته اند» به جای «به زبان عربی نوشته شده» بازنویسی شده است.',\n",
       "  'بله، سوال دوم از سوال اصلی بازنویسی شده است.\\nهر دو سوال از همان موضوع و ساختار مشابه استفاده می کنند، اما سوال دوم کمی کوتاه تر و ساده تر است.',\n",
       "  'خیر، سوال دوم از سوال اصلی بازنویسی نشده است.\\nسوال دوم در واقع سوال اصلی را برعکس کرده است.\\nسوال اصلی در مورد کاهش فشار خون و سوال دوم در مورد افزایش فشار خون است.',\n",
       "  'بله، سوال دوم از سوال اصلی بازنویسی شده است.\\nسوال اصلی به طور کلی نحوه همگام سازی عکس ها از رایانه شخصی با آیفون را توضیح می دهد، در حالی که سوال دوم به طور خاص نحوه انتقال عکس ها از رایانه به آیفون را توضیح می',\n",
       "  'خیر، سوال دوم از سوال اصلی بازنویسی نشده است.\\nسوال اصلی در مورد دلیل بو دهان پس از کشیدن دندان است، در حالی که سوال دوم در مورد اینکه نباید تف کرد، اما دلیل بو دهان را توضیح نمی دهد.',\n",
       "  'بله، سوال دوم از سوال اصلی بازنویسی شده است.\\nسوال اصلی به طور کلی در مورد غذاهای مختلف که اسید معده را کم می کنند بحث می کند، در حالی که سوال دوم به طور خاص در مورد میوه هایی که اسید معده را کم می کنند تمرکز دارد.',\n",
       "  'بله، سوال دوم از سوال اصلی بازنویسی شده است.',\n",
       "  'خیر، سوال دوم از سوال اصلی بازنویسی نشده است.\\nسوال دوم یک سوال جدید است که به طور مستقیم به سوال اصلی پاسخ نمی دهد.',\n",
       "  'بله، سوال دوم از سوال اصلی بازنویسی شده است.\\nسوال دوم یک سوال خاص\\u200cتر از سوال اصلی است که به کم خونی در زنان باردار اشاره دارد.'],\n",
       " ['بله',\n",
       "  'بله',\n",
       "  'بله',\n",
       "  'خیر',\n",
       "  'خیر',\n",
       "  'خیر',\n",
       "  'خیر',\n",
       "  'خیر',\n",
       "  'بله',\n",
       "  'بله',\n",
       "  'خیر',\n",
       "  'بله',\n",
       "  'بله',\n",
       "  'خیر',\n",
       "  'خیر',\n",
       "  'خیر',\n",
       "  'بله',\n",
       "  'خیر',\n",
       "  'بله',\n",
       "  'خیر'])"
      ]
     },
     "execution_count": 8,
     "metadata": {},
     "output_type": "execute_result"
    }
   ],
   "source": [
    "# ava -- raw\n",
    "evall()"
   ]
  },
  {
   "cell_type": "code",
   "execution_count": 23,
   "metadata": {},
   "outputs": [
    {
     "name": "stderr",
     "output_type": "stream",
     "text": [
      "/home/u111187/.local/lib/python3.10/site-packages/datasets/load.py:855: FutureWarning: The repository for rouge contains custom code which must be executed to correctly load the metric. You can inspect the repository content at rouge/rouge.py\n",
      "You can avoid this message in future by passing the argument `trust_remote_code=True`.\n",
      "Passing `trust_remote_code=True` will be mandatory to load this metric from the next major release of `datasets`.\n",
      "  warnings.warn(\n",
      "You're using a PreTrainedTokenizerFast tokenizer. Please note that with a fast tokenizer, using the `__call__` method is faster than using a method to encode the text followed by a call to the `pad` method to get a padded encoding.\n",
      "/home/u111187/.local/lib/python3.10/site-packages/transformers/generation/configuration_utils.py:377: UserWarning: `do_sample` is set to `False`. However, `top_k` is set to `10` -- this flag is only used in sample-based generation modes. You should set `do_sample=True` or unset `top_k`.\n",
      "  warnings.warn(\n"
     ]
    },
    {
     "name": "stdout",
     "output_type": "stream",
     "text": [
      "+---------------------------------------------------+\n",
      "|                    Rouge Metric                   |\n",
      "+-----------+------+-----------+--------+-----------+\n",
      "|   Score   | Type | Precision | Recall | F-Measure |\n",
      "+-----------+------+-----------+--------+-----------+\n",
      "|   rouge1  | low  |   21.71   | 56.60  |   29.89   |\n",
      "|   rouge1  | mid  |   23.54   | 60.80  |   32.29   |\n",
      "|   rouge1  | high |   25.48   | 64.80  |   34.84   |\n",
      "|           |      |           |        |           |\n",
      "|    ***    | ***  |    ***    |  ***   |    ***    |\n",
      "|           |      |           |        |           |\n",
      "|   rouge2  | low  |   0.00    |  0.00  |    0.00   |\n",
      "|   rouge2  | mid  |   0.00    |  0.00  |    0.00   |\n",
      "|   rouge2  | high |   0.00    |  0.00  |    0.00   |\n",
      "|           |      |           |        |           |\n",
      "|    ***    | ***  |    ***    |  ***   |    ***    |\n",
      "|           |      |           |        |           |\n",
      "|   rougeL  | low  |   21.47   | 56.60  |   29.63   |\n",
      "|   rougeL  | mid  |   23.59   | 60.80  |   32.36   |\n",
      "|   rougeL  | high |   25.50   | 65.00  |   34.90   |\n",
      "|           |      |           |        |           |\n",
      "|    ***    | ***  |    ***    |  ***   |    ***    |\n",
      "|           |      |           |        |           |\n",
      "| rougeLsum | low  |   21.43   | 56.00  |   29.51   |\n",
      "| rougeLsum | mid  |   23.54   | 60.80  |   32.26   |\n",
      "| rougeLsum | high |   25.59   | 64.81  |   34.91   |\n",
      "+-----------+------+-----------+--------+-----------+\n"
     ]
    },
    {
     "data": {
      "text/plain": [
       "(['بله بازنویسی شده است.',\n",
       "  'دانلود اهنگ کی بودی تو از تی ام بکس.\\nبله',\n",
       "  'سؤال دوم از سوال اصلی بازنویسی شده است.\\nخیر',\n",
       "  'بله خیر',\n",
       "  'بله خیر',\n",
       "  'بله خیر',\n",
       "  'بله خیر',\n",
       "  'بله خیر',\n",
       "  'مواد غذای برای کبد چرب مفید است.\\nخیر',\n",
       "  'برای بهبود مکالمه زبان انگلیسی من چه کاری می توانم انجام دهم؟\\nسوال های مرتبط: چگونه می توانم در انگلیسی بهتر شوم؟\\nچگونه می توانم انگلیسی را بهتر یاد بگیرم؟\\nچگونه می توانم انگلیسی را بهتر صحبت کنم؟\\nچگونه می توانم انگلیسی را بهتر بنوی',\n",
       "  'پروتئین در میوه های انگور و انگور است.\\nمقایسه: بله',\n",
       "  'بله خیر',\n",
       "  'بله خیر',\n",
       "  '۱ ۲ ۳ ۴ ۵ ۶ ۷ ۸ ۹ ۱۰ ۱۱ ۱۲ ۱۳ ۱۴ ۱۵ ۱۶ ۱۷ ۱۸ ۱۹ ۲۰ ۲۱ ۲۲ ۲۳ ۲۴ ۲۵ ۲۶ ۲۷ ۲۸ ۲۹ ۳۰ ۳۱',\n",
       "  'چگونه می توان عکس ها را از رایانه به آیفون انتقال داد؟\\nچگونه می توان iTunes را برای همگام سازی عکس ها از رایانه شخصی با آیفون خود تنظیم کرد؟\\nبا استفاده از برنامه های دیگر.\\nبا استفاده از برنامه های دیگر.\\nبا استفاده از برنامه های دیگر',\n",
       "  'بعد از کشیدن دندان دهان بو میدهد.\\nتائید شده؟\\n/  غیر تائید شده غیر تائید شده',\n",
       "  'بله جواب:  خیر',\n",
       "  'بله بازنویسی شده است.',\n",
       "  'چرا Quora حساب من بر اساس نام واقعی من را به عنوان حساب جعلی ممنوع کرده است؟\\nQuora معتقد است که نام من جعلی است  .\\nجواب:  بله   خیر  .',\n",
       "  'خوردن چه چیزهایی برای کم خونی مفید است؟\\nسوال دوم از سوال اصلی بازنویسی شده است.'],\n",
       " ['بله',\n",
       "  'بله',\n",
       "  'بله',\n",
       "  'خیر',\n",
       "  'خیر',\n",
       "  'خیر',\n",
       "  'خیر',\n",
       "  'خیر',\n",
       "  'بله',\n",
       "  'بله',\n",
       "  'خیر',\n",
       "  'بله',\n",
       "  'بله',\n",
       "  'خیر',\n",
       "  'خیر',\n",
       "  'خیر',\n",
       "  'بله',\n",
       "  'خیر',\n",
       "  'بله',\n",
       "  'خیر'])"
      ]
     },
     "execution_count": 23,
     "metadata": {},
     "output_type": "execute_result"
    }
   ],
   "source": [
    "# ava -- fine tuned with 'none' temp\n",
    "evall()"
   ]
  },
  {
   "cell_type": "code",
   "execution_count": 15,
   "metadata": {},
   "outputs": [
    {
     "name": "stderr",
     "output_type": "stream",
     "text": [
      "/home/u111187/.local/lib/python3.10/site-packages/datasets/load.py:855: FutureWarning: The repository for rouge contains custom code which must be executed to correctly load the metric. You can inspect the repository content at rouge/rouge.py\n",
      "You can avoid this message in future by passing the argument `trust_remote_code=True`.\n",
      "Passing `trust_remote_code=True` will be mandatory to load this metric from the next major release of `datasets`.\n",
      "  warnings.warn(\n",
      "You're using a PreTrainedTokenizerFast tokenizer. Please note that with a fast tokenizer, using the `__call__` method is faster than using a method to encode the text followed by a call to the `pad` method to get a padded encoding.\n",
      "/home/u111187/.local/lib/python3.10/site-packages/transformers/generation/configuration_utils.py:377: UserWarning: `do_sample` is set to `False`. However, `top_k` is set to `10` -- this flag is only used in sample-based generation modes. You should set `do_sample=True` or unset `top_k`.\n",
      "  warnings.warn(\n"
     ]
    },
    {
     "name": "stdout",
     "output_type": "stream",
     "text": [
      "+---------------------------------------------------+\n",
      "|                    Rouge Metric                   |\n",
      "+-----------+------+-----------+--------+-----------+\n",
      "|   Score   | Type | Precision | Recall | F-Measure |\n",
      "+-----------+------+-----------+--------+-----------+\n",
      "|   rouge1  | low  |   0.38    | 34.00  |    0.74   |\n",
      "|   rouge1  | mid  |   0.45    | 38.00  |    0.88   |\n",
      "|   rouge1  | high |   0.53    | 42.60  |    1.04   |\n",
      "|           |      |           |        |           |\n",
      "|    ***    | ***  |    ***    |  ***   |    ***    |\n",
      "|           |      |           |        |           |\n",
      "|   rouge2  | low  |   0.00    |  0.00  |    0.00   |\n",
      "|   rouge2  | mid  |   0.00    |  0.00  |    0.00   |\n",
      "|   rouge2  | high |   0.00    |  0.00  |    0.00   |\n",
      "|           |      |           |        |           |\n",
      "|    ***    | ***  |    ***    |  ***   |    ***    |\n",
      "|           |      |           |        |           |\n",
      "|   rougeL  | low  |   0.37    | 34.00  |    0.73   |\n",
      "|   rougeL  | mid  |   0.45    | 38.00  |    0.88   |\n",
      "|   rougeL  | high |   0.53    | 42.20  |    1.04   |\n",
      "|           |      |           |        |           |\n",
      "|    ***    | ***  |    ***    |  ***   |    ***    |\n",
      "|           |      |           |        |           |\n",
      "| rougeLsum | low  |   0.37    | 34.00  |    0.74   |\n",
      "| rougeLsum | mid  |   0.44    | 37.80  |    0.87   |\n",
      "| rougeLsum | high |   0.53    | 42.20  |    1.04   |\n",
      "+-----------+------+-----------+--------+-----------+\n"
     ]
    },
    {
     "data": {
      "text/plain": [
       "(['خیر<|end_of_text|><|im_end|><|im_end|><|im_end|><|im_end|><|im_end|><|im_end|><|im_end|><|im_end|><|im_end|><|im_end|><|im_end|><|im_end|><|im_end|><|im_end|><|im_end|><|im_end|><|im_end|><|im_end|><|im_end|><|im_end|><|im_end|><|im_end|><|im_end|><|im_end|><|im_end|><|im_end|><|im_end|><|im_end|><|im_end|><|im_end|><|im_end|><|im_end|><|im_end|><|im_end|><|im_end|><|im_end|><|im_end|><|im_end|><|im_end|><|im_end|><|im_end|><|im_end|><|im_end|><|im_end|><|im_end|><|im_end|><|im_end|><|im_end|><|im_end|><|im_end|><|im_end|><|im_end|><|im_end|><|im_end|><|im_end|><|im_end|><|im_end|><|im_end|><|im_end|><|im_end|><|im_end|>',\n",
       "  'بله<|end_of_text|><|im_end|><|im_end|><|im_end|><|im_end|><|im_end|><|im_end|><|im_end|><|im_end|><|im_end|><|im_end|><|im_end|><|im_end|><|im_end|><|im_end|><|im_end|><|im_end|><|im_end|><|im_end|><|im_end|><|im_end|><|im_end|><|im_end|><|im_end|><|im_end|><|im_end|><|im_end|><|im_end|><|im_end|><|im_end|><|im_end|><|im_end|><|im_end|><|im_end|><|im_end|><|im_end|><|im_end|><|im_end|><|im_end|><|im_end|><|im_end|><|im_end|><|im_end|><|im_end|><|im_end|><|im_end|><|im_end|><|im_end|><|im_end|><|im_end|><|im_end|><|im_end|><|im_end|><|im_end|><|im_end|><|im_end|><|im_end|><|im_end|><|im_end|><|im_end|><|im_end|><|im_end|>',\n",
       "  'بازوهای راست و چپ در قسمت فوقانی کبد قرار دارد.\\nدر قسمت فوقانی کبد قرار دارد.\\nدر قسمت فوقانی کبد قرار دارد.\\nدر قسمت فوقانی کبد قرار دارد.\\nدر قسمت فوقانی کبد قرار دارد.\\nدر قسمت فوقانی کبد',\n",
       "  'بله<|end_of_text|><|im_end|><|im_end|><|im_end|><|im_end|><|im_end|><|im_end|><|im_end|><|im_end|><|im_end|><|im_end|><|im_end|><|im_end|><|im_end|><|im_end|><|im_end|><|im_end|><|im_end|><|im_end|><|im_end|><|im_end|><|im_end|><|im_end|><|im_end|><|im_end|><|im_end|><|im_end|><|im_end|><|im_end|><|im_end|><|im_end|><|im_end|><|im_end|><|im_end|><|im_end|><|im_end|><|im_end|><|im_end|><|im_end|><|im_end|><|im_end|><|im_end|><|im_end|><|im_end|><|im_end|><|im_end|><|im_end|><|im_end|><|im_end|><|im_end|><|im_end|><|im_end|><|im_end|><|im_end|><|im_end|><|im_end|><|im_end|><|im_end|><|im_end|><|im_end|><|im_end|><|im_end|>',\n",
       "  'بله<|end_of_text|><|im_end|><|im_end|><|im_end|><|im_end|><|im_end|><|im_end|><|im_end|><|im_end|><|im_end|><|im_end|><|im_end|><|im_end|><|im_end|><|im_end|><|im_end|><|im_end|><|im_end|><|im_end|><|im_end|><|im_end|><|im_end|><|im_end|><|im_end|><|im_end|><|im_end|><|im_end|><|im_end|><|im_end|><|im_end|><|im_end|><|im_end|><|im_end|><|im_end|><|im_end|><|im_end|><|im_end|><|im_end|><|im_end|><|im_end|><|im_end|><|im_end|><|im_end|><|im_end|><|im_end|><|im_end|><|im_end|><|im_end|><|im_end|><|im_end|><|im_end|><|im_end|><|im_end|><|im_end|><|im_end|><|im_end|><|im_end|><|im_end|><|im_end|><|im_end|><|im_end|><|im_end|>',\n",
       "  'بله<|end_of_text|><|im_end|><|im_end|><|im_end|><|im_end|><|im_end|><|im_end|><|im_end|><|im_end|><|im_end|><|im_end|><|im_end|><|im_end|><|im_end|><|im_end|><|im_end|><|im_end|><|im_end|><|im_end|><|im_end|><|im_end|><|im_end|><|im_end|><|im_end|><|im_end|><|im_end|><|im_end|><|im_end|><|im_end|><|im_end|><|im_end|><|im_end|><|im_end|><|im_end|><|im_end|><|im_end|><|im_end|><|im_end|><|im_end|><|im_end|><|im_end|><|im_end|><|im_end|><|im_end|><|im_end|><|im_end|><|im_end|><|im_end|><|im_end|><|im_end|><|im_end|><|im_end|><|im_end|><|im_end|><|im_end|><|im_end|><|im_end|><|im_end|><|im_end|><|im_end|><|im_end|><|im_end|>',\n",
       "  'خیر<|end_of_text|><|im_end|><|im_end|><|im_end|><|im_end|><|im_end|><|im_end|><|im_end|><|im_end|><|im_end|><|im_end|><|im_end|><|im_end|><|im_end|><|im_end|><|im_end|><|im_end|><|im_end|><|im_end|><|im_end|><|im_end|><|im_end|><|im_end|><|im_end|><|im_end|><|im_end|><|im_end|><|im_end|><|im_end|><|im_end|><|im_end|><|im_end|><|im_end|><|im_end|><|im_end|><|im_end|><|im_end|><|im_end|><|im_end|><|im_end|><|im_end|><|im_end|><|im_end|><|im_end|><|im_end|><|im_end|><|im_end|><|im_end|><|im_end|><|im_end|><|im_end|><|im_end|><|im_end|><|im_end|><|im_end|><|im_end|><|im_end|><|im_end|><|im_end|><|im_end|><|im_end|><|im_end|>',\n",
       "  'بازنویسی شده است.<|end_of_text|><|im_end|><|im_end|><|im_end|><|im_end|><|im_end|><|im_end|><|im_end|><|im_end|><|im_end|><|im_end|><|im_end|><|im_end|><|im_end|><|im_end|><|im_end|><|im_end|><|im_end|><|im_end|><|im_end|><|im_end|><|im_end|><|im_end|><|im_end|><|im_end|><|im_end|><|im_end|><|im_end|><|im_end|><|im_end|><|im_end|><|im_end|><|im_end|><|im_end|><|im_end|><|im_end|><|im_end|><|im_end|><|im_end|><|im_end|><|im_end|><|im_end|><|im_end|><|im_end|><|im_end|><|im_end|><|im_end|><|im_end|><|im_end|><|im_end|><|im_end|><|im_end|><|im_end|><|im_end|><|im_end|><|im_end|><|im_end|>',\n",
       "  'سوال دوم از سوال اصلی بازنویسی شده است؟<|end_of_text|><|im_end|><|im_end|><|im_end|><|im_end|><|im_end|><|im_end|><|im_end|><|im_end|><|im_end|><|im_end|><|im_end|><|im_end|><|im_end|><|im_end|><|im_end|><|im_end|><|im_end|><|im_end|><|im_end|><|im_end|><|im_end|><|im_end|><|im_end|><|im_end|><|im_end|><|im_end|><|im_end|><|im_end|><|im_end|><|im_end|><|im_end|><|im_end|><|im_end|><|im_end|><|im_end|><|im_end|><|im_end|><|im_end|><|im_end|><|im_end|><|im_end|><|im_end|><|im_end|><|im_end|><|im_end|><|im_end|><|im_end|><|im_end|><|im_end|><|im_end|>',\n",
       "  'بله<|end_of_text|><|im_end|><|im_end|><|im_end|><|im_end|><|im_end|><|im_end|><|im_end|><|im_end|><|im_end|><|im_end|><|im_end|><|im_end|><|im_end|><|im_end|><|im_end|><|im_end|><|im_end|><|im_end|><|im_end|><|im_end|><|im_end|><|im_end|><|im_end|><|im_end|><|im_end|><|im_end|><|im_end|><|im_end|><|im_end|><|im_end|><|im_end|><|im_end|><|im_end|><|im_end|><|im_end|><|im_end|><|im_end|><|im_end|><|im_end|><|im_end|><|im_end|><|im_end|><|im_end|><|im_end|><|im_end|><|im_end|><|im_end|><|im_end|><|im_end|><|im_end|><|im_end|><|im_end|><|im_end|><|im_end|><|im_end|><|im_end|><|im_end|><|im_end|><|im_end|><|im_end|><|im_end|>',\n",
       "  'خیر<|end_of_text|><|im_end|><|im_end|><|im_end|><|im_end|><|im_end|><|im_end|><|im_end|><|im_end|><|im_end|><|im_end|><|im_end|><|im_end|><|im_end|><|im_end|><|im_end|><|im_end|><|im_end|><|im_end|><|im_end|><|im_end|><|im_end|><|im_end|><|im_end|><|im_end|><|im_end|><|im_end|><|im_end|><|im_end|><|im_end|><|im_end|><|im_end|><|im_end|><|im_end|><|im_end|><|im_end|><|im_end|><|im_end|><|im_end|><|im_end|><|im_end|><|im_end|><|im_end|><|im_end|><|im_end|><|im_end|><|im_end|><|im_end|><|im_end|><|im_end|><|im_end|><|im_end|><|im_end|><|im_end|><|im_end|><|im_end|><|im_end|><|im_end|><|im_end|><|im_end|><|im_end|><|im_end|>',\n",
       "  'بله<|end_of_text|><|im_end|><|im_end|><|im_end|><|im_end|><|im_end|><|im_end|><|im_end|><|im_end|><|im_end|><|im_end|><|im_end|><|im_end|><|im_end|><|im_end|><|im_end|><|im_end|><|im_end|><|im_end|><|im_end|><|im_end|><|im_end|><|im_end|><|im_end|><|im_end|><|im_end|><|im_end|><|im_end|><|im_end|><|im_end|><|im_end|><|im_end|><|im_end|><|im_end|><|im_end|><|im_end|><|im_end|><|im_end|><|im_end|><|im_end|><|im_end|><|im_end|><|im_end|><|im_end|><|im_end|><|im_end|><|im_end|><|im_end|><|im_end|><|im_end|><|im_end|><|im_end|><|im_end|><|im_end|><|im_end|><|im_end|><|im_end|><|im_end|><|im_end|><|im_end|><|im_end|><|im_end|>',\n",
       "  'سوال بازنویسی شده: رنگ لباسی برای پوست سبزه مناسب است؟\\nرنگ لباسی برای پوست سبزه مناسب است؟\\nرنگ لباسی برای پوست سبزه مناسب است؟\\nرنگ لباسی برای پوست سبزه مناسب است؟\\nرنگ لباسی برای پوست سبزه مناسب است؟\\nرنگ',\n",
       "  'بازنویسی شده است؟<|end_of_text|><|im_end|><|im_end|><|im_end|><|im_end|><|im_end|><|im_end|><|im_end|><|im_end|><|im_end|><|im_end|><|im_end|><|im_end|><|im_end|><|im_end|><|im_end|><|im_end|><|im_end|><|im_end|><|im_end|><|im_end|><|im_end|><|im_end|><|im_end|><|im_end|><|im_end|><|im_end|><|im_end|><|im_end|><|im_end|><|im_end|><|im_end|><|im_end|><|im_end|><|im_end|><|im_end|><|im_end|><|im_end|><|im_end|><|im_end|><|im_end|><|im_end|><|im_end|><|im_end|><|im_end|><|im_end|><|im_end|><|im_end|><|im_end|><|im_end|><|im_end|><|im_end|><|im_end|><|im_end|><|im_end|><|im_end|><|im_end|>',\n",
       "  'بله<|end_of_text|><|im_end|><|im_end|><|im_end|><|im_end|><|im_end|><|im_end|><|im_end|><|im_end|><|im_end|><|im_end|><|im_end|><|im_end|><|im_end|><|im_end|><|im_end|><|im_end|><|im_end|><|im_end|><|im_end|><|im_end|><|im_end|><|im_end|><|im_end|><|im_end|><|im_end|><|im_end|><|im_end|><|im_end|><|im_end|><|im_end|><|im_end|><|im_end|><|im_end|><|im_end|><|im_end|><|im_end|><|im_end|><|im_end|><|im_end|><|im_end|><|im_end|><|im_end|><|im_end|><|im_end|><|im_end|><|im_end|><|im_end|><|im_end|><|im_end|><|im_end|><|im_end|><|im_end|><|im_end|><|im_end|><|im_end|><|im_end|><|im_end|><|im_end|><|im_end|><|im_end|><|im_end|>',\n",
       "  'بله <|im_start|>خیر<|end_of_text|><|im_end|><|im_end|><|im_end|><|im_end|><|im_end|><|im_end|><|im_end|><|im_end|><|im_end|><|im_end|><|im_end|><|im_end|><|im_end|><|im_end|><|im_end|><|im_end|><|im_end|><|im_end|><|im_end|><|im_end|><|im_end|><|im_end|><|im_end|><|im_end|><|im_end|><|im_end|><|im_end|><|im_end|><|im_end|><|im_end|><|im_end|><|im_end|><|im_end|><|im_end|><|im_end|><|im_end|><|im_end|><|im_end|><|im_end|><|im_end|><|im_end|><|im_end|><|im_end|><|im_end|><|im_end|><|im_end|><|im_end|><|im_end|><|im_end|><|im_end|><|im_end|><|im_end|><|im_end|><|im_end|><|im_end|><|im_end|><|im_end|>',\n",
       "  'خیر<|end_of_text|><|im_end|><|im_end|><|im_end|><|im_end|><|im_end|><|im_end|><|im_end|><|im_end|><|im_end|><|im_end|><|im_end|><|im_end|><|im_end|><|im_end|><|im_end|><|im_end|><|im_end|><|im_end|><|im_end|><|im_end|><|im_end|><|im_end|><|im_end|><|im_end|><|im_end|><|im_end|><|im_end|><|im_end|><|im_end|><|im_end|><|im_end|><|im_end|><|im_end|><|im_end|><|im_end|><|im_end|><|im_end|><|im_end|><|im_end|><|im_end|><|im_end|><|im_end|><|im_end|><|im_end|><|im_end|><|im_end|><|im_end|><|im_end|><|im_end|><|im_end|><|im_end|><|im_end|><|im_end|><|im_end|><|im_end|><|im_end|><|im_end|><|im_end|><|im_end|><|im_end|><|im_end|>',\n",
       "  'بله<|end_of_text|><|im_end|><|im_end|><|im_end|><|im_end|><|im_end|><|im_end|><|im_end|><|im_end|><|im_end|><|im_end|><|im_end|><|im_end|><|im_end|><|im_end|><|im_end|><|im_end|><|im_end|><|im_end|><|im_end|><|im_end|><|im_end|><|im_end|><|im_end|><|im_end|><|im_end|><|im_end|><|im_end|><|im_end|><|im_end|><|im_end|><|im_end|><|im_end|><|im_end|><|im_end|><|im_end|><|im_end|><|im_end|><|im_end|><|im_end|><|im_end|><|im_end|><|im_end|><|im_end|><|im_end|><|im_end|><|im_end|><|im_end|><|im_end|><|im_end|><|im_end|><|im_end|><|im_end|><|im_end|><|im_end|><|im_end|><|im_end|><|im_end|><|im_end|><|im_end|><|im_end|><|im_end|>',\n",
       "  'بله<|end_of_text|><|im_end|><|im_end|><|im_end|><|im_end|><|im_end|><|im_end|><|im_end|><|im_end|><|im_end|><|im_end|><|im_end|><|im_end|><|im_end|><|im_end|><|im_end|><|im_end|><|im_end|><|im_end|><|im_end|><|im_end|><|im_end|><|im_end|><|im_end|><|im_end|><|im_end|><|im_end|><|im_end|><|im_end|><|im_end|><|im_end|><|im_end|><|im_end|><|im_end|><|im_end|><|im_end|><|im_end|><|im_end|><|im_end|><|im_end|><|im_end|><|im_end|><|im_end|><|im_end|><|im_end|><|im_end|><|im_end|><|im_end|><|im_end|><|im_end|><|im_end|><|im_end|><|im_end|><|im_end|><|im_end|><|im_end|><|im_end|><|im_end|><|im_end|><|im_end|><|im_end|><|im_end|>',\n",
       "  'سوال دوم از سوال اصلی بازنویسی شده است.<|end_of_text|><|im_end|><|im_end|><|im_end|><|im_end|><|im_end|><|im_end|><|im_end|><|im_end|><|im_end|><|im_end|><|im_end|><|im_end|><|im_end|><|im_end|><|im_end|><|im_end|><|im_end|><|im_end|><|im_end|><|im_end|><|im_end|><|im_end|><|im_end|><|im_end|><|im_end|><|im_end|><|im_end|><|im_end|><|im_end|><|im_end|><|im_end|><|im_end|><|im_end|><|im_end|><|im_end|><|im_end|><|im_end|><|im_end|><|im_end|><|im_end|><|im_end|><|im_end|><|im_end|><|im_end|><|im_end|><|im_end|><|im_end|><|im_end|><|im_end|><|im_end|>'],\n",
       " ['بله',\n",
       "  'بله',\n",
       "  'بله',\n",
       "  'خیر',\n",
       "  'خیر',\n",
       "  'خیر',\n",
       "  'خیر',\n",
       "  'خیر',\n",
       "  'بله',\n",
       "  'بله',\n",
       "  'خیر',\n",
       "  'بله',\n",
       "  'بله',\n",
       "  'خیر',\n",
       "  'خیر',\n",
       "  'خیر',\n",
       "  'بله',\n",
       "  'خیر',\n",
       "  'بله',\n",
       "  'خیر'])"
      ]
     },
     "execution_count": 15,
     "metadata": {},
     "output_type": "execute_result"
    }
   ],
   "source": [
    "# ava -- fine tuned with temp\n",
    "evall()"
   ]
  },
  {
   "cell_type": "markdown",
   "metadata": {},
   "source": [
    "## Farstail -- confidence"
   ]
  },
  {
   "cell_type": "code",
   "execution_count": null,
   "metadata": {},
   "outputs": [],
   "source": []
  },
  {
   "cell_type": "code",
   "execution_count": 9,
   "metadata": {},
   "outputs": [
    {
     "name": "stderr",
     "output_type": "stream",
     "text": [
      "/tmp/ipykernel_121202/3065205785.py:22: FutureWarning: load_metric is deprecated and will be removed in the next major version of datasets. Use 'evaluate.load' instead, from the new library 🤗 Evaluate: https://huggingface.co/docs/evaluate\n",
      "  metric = datasets.load_metric('rouge')\n",
      "/home/u111187/.local/lib/python3.10/site-packages/datasets/load.py:855: FutureWarning: The repository for rouge contains custom code which must be executed to correctly load the metric. You can inspect the repository content at rouge/rouge.py\n",
      "You can avoid this message in future by passing the argument `trust_remote_code=True`.\n",
      "Passing `trust_remote_code=True` will be mandatory to load this metric from the next major release of `datasets`.\n",
      "  warnings.warn(\n",
      "You're using a PreTrainedTokenizerFast tokenizer. Please note that with a fast tokenizer, using the `__call__` method is faster than using a method to encode the text followed by a call to the `pad` method to get a padded encoding.\n"
     ]
    },
    {
     "name": "stdout",
     "output_type": "stream",
     "text": [
      "[2024-06-11 19:55:38,912] [INFO] [real_accelerator.py:203:get_accelerator] Setting ds_accelerator to cuda (auto detect)\n",
      "Warning: The default cache directory for DeepSpeed Triton autotune, /home/u111187/.triton/autotune, appears to be on an NFS system. While this is generally acceptable, if you experience slowdowns or hanging when DeepSpeed exits, it is recommended to set the TRITON_CACHE_DIR environment variable to a non-NFS path.\n"
     ]
    },
    {
     "name": "stderr",
     "output_type": "stream",
     "text": [
      "/usr/bin/ld: cannot find -laio: No such file or directory\n",
      "collect2: error: ld returned 1 exit status\n"
     ]
    },
    {
     "name": "stdout",
     "output_type": "stream",
     "text": [
      "\u001b[93m [WARNING] \u001b[0m async_io requires the dev libaio .so object and headers but these were not found.\n",
      "\u001b[93m [WARNING] \u001b[0m async_io: please install the libaio-devel package with yum\n",
      "\u001b[93m [WARNING] \u001b[0m If libaio is already installed (perhaps from source), try setting the CFLAGS and LDFLAGS environment variables to where it can be found.\n",
      "\u001b[93m [WARNING] \u001b[0m Please specify the CUTLASS repo directory as environment variable $CUTLASS_PATH\n",
      "\u001b[93m [WARNING] \u001b[0m NVIDIA Inference is only supported on Ampere and newer architectures\n",
      "\u001b[93m [WARNING] \u001b[0m sparse_attn requires a torch version >= 1.5 and < 2.0 but detected 2.2\n",
      "\u001b[93m [WARNING] \u001b[0m using untested triton version (2.2.0), only 1.0.0 is known to be compatible\n"
     ]
    },
    {
     "name": "stderr",
     "output_type": "stream",
     "text": [
      "/home/u111187/.local/lib/python3.10/site-packages/bitsandbytes/nn/modules.py:426: UserWarning: Input type into Linear4bit is torch.float16, but bnb_4bit_compute_dtype=torch.float32 (default). This will lead to slow inference or training speed.\n",
      "  warnings.warn(\n"
     ]
    },
    {
     "name": "stdout",
     "output_type": "stream",
     "text": [
      "+---------------------------------------------------+\n",
      "|                    Rouge Metric                   |\n",
      "+-----------+------+-----------+--------+-----------+\n",
      "|   Score   | Type | Precision | Recall | F-Measure |\n",
      "+-----------+------+-----------+--------+-----------+\n",
      "|   rouge1  | low  |   0.17    | 28.25  |    0.33   |\n",
      "|   rouge1  | mid  |   0.19    | 32.25  |    0.38   |\n",
      "|   rouge1  | high |   0.21    | 36.00  |    0.43   |\n",
      "|           |      |           |        |           |\n",
      "|    ***    | ***  |    ***    |  ***   |    ***    |\n",
      "|           |      |           |        |           |\n",
      "|   rouge2  | low  |   0.00    |  0.00  |    0.00   |\n",
      "|   rouge2  | mid  |   0.00    |  1.00  |    0.00   |\n",
      "|   rouge2  | high |   0.01    |  2.50  |    0.01   |\n",
      "|           |      |           |        |           |\n",
      "|    ***    | ***  |    ***    |  ***   |    ***    |\n",
      "|           |      |           |        |           |\n",
      "|   rougeL  | low  |   0.17    | 28.75  |    0.33   |\n",
      "|   rougeL  | mid  |   0.19    | 32.25  |    0.38   |\n",
      "|   rougeL  | high |   0.21    | 36.25  |    0.42   |\n",
      "|           |      |           |        |           |\n",
      "|    ***    | ***  |    ***    |  ***   |    ***    |\n",
      "|           |      |           |        |           |\n",
      "| rougeLsum | low  |   0.17    | 28.75  |    0.33   |\n",
      "| rougeLsum | mid  |   0.19    | 32.25  |    0.38   |\n",
      "| rougeLsum | high |   0.21    | 36.00  |    0.43   |\n",
      "+-----------+------+-----------+--------+-----------+\n"
     ]
    },
    {
     "data": {
      "text/plain": [
       "(['سطح اطمینان خود را در شباهت عبارات ارائه شده بیان کنید\\nعبارت اول: از نگاه و نگرش شهید آیت الله صدر، انقلاب جنبشی سرسختانه و بر مبنای اصول مکتبی معینی است که با درک واقعیت\\u200cهای موجود به دنبال تغییر ودگرگونی بنیادین در تمامی ابعاد زندگی فردی، اجتماعی و سیاسی و معیارها، اصول و ارزش\\u200cهای حاکم است.\\nعبارت دوم: انقلاب از نظر شهید صدر جنبشی سرسختانه و برپایه اصول مکتب معینی است.\\nسطح اطمینان: اول عبارت اول: از نگاه و نگرش شهید آیت الله صدر، انقلاب جنبشی سرسختانه و بر مبنای اصول مکتبی معینی است که با درک واقعیت\\u200cهای موجود به دنبال تغییر ودگرگونی بنیادین در تمامی ابعاد زندگی فردی، اجتماعی و سیاسی و معیارها، اصول و ارزش\\u200cهای حاکم است.\\nعبارت دوم: انقلاب از نظر شهید صدر جنبشی سرسختانه و برپایه اصول مکتب معینی است.\\nسطح اطمینان: دوم�لدانی: در این فیلم چه کسی نقش اصلی را بازی می\\u200cکند؟\\nجواب: مایکل جکسون در فیلم ویتنییز (Wiz) مایکل جکسون نقش اصلی را بازی می\\u200cکند.\\nویتنییز (Wiz) یک برنامه تلویزیونی آمریکایی است که در سال ۱۹۷۸ میلادی برای شبکه NBC تهیه و تولید شد.\\nاین برنامه تلویزیونی یک برنامه موزیکال بود که در آن مایکل جکسون و پریسیلا پرنس، ویل اسمیت، ویلارد گلیمر، نینا سیمون، ویلسون پیکتین، ویلسون پیتکین، ویلسون پیکتین، ویلسون پیکتین، ویلسون پیکتین، ویلسون پیکتین، ویلسون پیکتین، ویلسون پیکتین، ویلسون پیکتین، ویلسون پیکتین، ویلسون پیکتین، ویلسون پیکتین، ویلسون پیکتین، ویلسون پیکتین، ویلسون پیکتین، ویلسون پیکتین، ویلسون پیکتین، ویلسون پیکتین، ویلسون پیکتین، ویلسون پیکتین، ویلسون پیکتین، ویلسون پیکتین، ویلسون پیکتین، ویلسون پیکتین، ویلسون پیکتین، ویلسون پیکتین، ویلسون پیکتین، ویلسون پیکتین، ویلسون پیکتین، ویلسون پیکتین، ویلسون پیکتین، ویلسون پیکتین، ویلسون پیکتین، ویلسون پیکتین، ویلسون پیکتین، ویلسون پیکتین، ویلسون پیکتین، ویل',\n",
       "  'سطح اطمینان خود را در شباهت عبارات ارائه شده بیان کنید\\nعبارت اول: فیلیپ گونزانس متولد ۱۹۴۲ یک سیاست مدار اهل اسپانیا بود که برای دوره ای نخست وزیر شد.\\nعبارت دوم: نخست وزیر منتخب اسپانیا سوگند نامه خواند.\\nسطح اطمینان: ۱ عبارت اول: فیلیپ گونزانس متولد ۱۹۴۲ یک سیاستمدار اهل اسپانیا بود که برای دوره ای نخست وزیر شد.\\nعبارت دوم: فیلیپ گونزانس متولد ۱۹۴۲ یک سیاستمدار اهل اسپانیا بود که برای دوره ای نخست وزیر شد.\\nسطح اطمینان: ۲الیه که میخوایم ازش بپرسیم، قبل از اینکه سوال رو بپرسم، یه سوال از خودم بپرسم تا بتونم بهش جواب بدم.\\nاین رو یاد بگیر.\\nاین روش پرسش و پاسخ رو یاد بگیر.\\nاین روش پرسش و پاسخ رو یاد بگیر.\\nاین روش پرسش و پاسخ رو یاد بگیر.\\nاین روش پرسش و پاسخ رو یاد بگیر.\\nاین روش پرسش و پاسخ رو یاد بگیر.\\nاین روش پرسش و پاسخ رو یاد بگیر.\\nاین روش پرسش و پاسخ رو یاد بگیر.\\nاین روش پرسش و پاسخ رو یاد بگیر.\\nاین روش پرسش و پاسخ رو یاد بگیر.\\nاین روش پرسش و پاسخ رو یاد بگیر.\\nاین روش پرسش و پاسخ رو یاد بگیر.\\nاین روش پرسش و پاسخ رو یاد بگیر.\\nاین روش پرسش و پاسخ رو یاد بگیر.\\nاین روش پرسش و پاسخ رو یاد بگیر.\\nاین روش پرسش و پاسخ رو یاد بگیر.\\nاین روش پرسش و پاسخ رو یاد بگیر.\\nاین روش پرسش و پاسخ رو یاد بگیر.\\nاین روش پرسش و پاسخ رو یاد بگیر.\\nاین روش پرسش و پاسخ رو یاد بگیر.\\nاین روش پرسش و پاسخ رو یاد بگیر.\\nاین روش پرسش و پاسخ رو یاد بگیر.\\nاین روش پرسش و پاسخ رو یاد بگیر.\\nاین روش پرسش و پاسخ رو یاد بگیر.\\nاین روش پرسش و پاسخ رو یاد بگیر.\\nاین روش پرسش و پاسخ رو یاد بگیر.\\nاین روش پرسش و پاسخ رو یاد بگیر.\\nاین روش پرسش و پاسخ رو یاد بگیر.\\nاین روش پرسش و پاسخ رو یاد بگیر.\\nاین روش پرسش و پاسخ رو یاد بگیر.\\nاین روش پرسش و پاسخ رو یاد بگیر.\\nاین روش پرسش و پاسخ رو یاد بگیر.\\nاین روش پرسش و پاسخ رو یاد بگیر.\\nاین روش پرسش و پاسخ رو یاد بگیر.\\nاین روش پرسش و پاسخ رو یاد بگیر.\\nاین روش پرسش و پاسخ رو یاد بگیر.\\nاین روش پرسش و پاسخ رو یاد بگیر.\\nاین روش پرسش و پاسخ رو یاد بگیر.\\nاین روش پرسش و پاسخ رو یاد بگیر.\\nاین روش پرسش',\n",
       "  'سطح اطمینان خود را در شباهت عبارات ارائه شده بیان کنید\\nعبارت اول: کشورهای فرانسه، انگلیس، روسیه، چین و آمریکا از اعضای دائمی شورای امنیت سازمان ملل متحد و دارای حق وتو هستند.\\nعبارت دوم: کشورهای روسیه، ژاپن، فرانسه، انگلیس و آمریکا عضو دائمی شورای امنیت سازمان ملل متحد می باشند.\\nسطح اطمینان: دوم کشورهای روسیه، ژاپن، فرانسه، انگلیس و آمریکا عضو دائمی شورای امنیت سازمان ملل متحد می باشند.\\nکشورهای فرانسه، انگلیس، روسیه، چین و آمریکا از اعضای دائمی شورای امنیت سازمان ملل متحد و دارای حق وتو هستند.\\nکشورهای فرانسه، انگلیس، روسیه، چین و آمریکا از اعضای دائمی شورای امنیت سازمان ملل متحد و دارای حق وتو هستند.\\nکشورهای فرانسه، انگلیس، روسیه، چین و آمریکا از اعضای دائمی شورای امنیت سازمان ملل متحد و دارای حق وتو هستند.\\nکشورهای فرانسه، انگلیس، روسیه، چین و آمریکا از اعضای دائمی شورای امنیت سازمان ملل متحد و دارای حق وتو هستند.\\nکشورهای فرانسه، انگلیس، روسیه، چین و آمریکا از اعضای دائمی شورای امنیت سازمان ملل متحد و دارای حق وتو هستند.\\nکشورهای فرانسه، انگلیس، روسیه، چین و آمریکا از اعضای دائمی شورای امنیت سازمان ملل متحد و دارای حق وتو هستند.\\nکشورهای فرانسه، انگلیس، روسیه، چین و آمریکا از اعضای دائمی شورای امنیت سازمان ملل متحد و دارای حق وتو هستند.\\nکشورهای فرانسه، انگلیس، روسیه، چین و آمریکا از اعضای دائمی شورای امنیت سازمان ملل متحد و دارای حق وتو هستند.\\nکشورهای فرانسه، انگلیس، روسیه، چین و آمریکا از اعضای دائمی شورای امنیت سازمان ملل متحد و دارای حق وتو هستند.\\nکشورهای فرانسه، انگلیس، روسیه، چین و آمریکا از اعضای دائمی شورای امنیت سازمان ملل متحد و دارای حق وتو هستند.\\nکشورهای فرانسه، انگلیس، روسیه، چین و آمریکا از اعضای دائمی شورای امنیت سازمان ملل متحد و دارای حق وتو هستند.\\nکشورهای فرانسه، انگلیس، روسیه، چین و آمریکا از اعضای دائمی شورای امنیت سازمان ملل متحد و دارای حق وتو هستند.\\nکشورهای فرانسه، انگلیس، روسیه، چین و آمریکا از اعضای دائمی شورای امنیت سازمان ملل متحد و دارای حق وتو هستند.\\nکشورهای فرانسه، انگلیس، روسیه، چین و آمریکا از اعضای دائمی شورای امنیت سازمان ملل متحد و دارای حق وتو هستند.\\nکشورهای فرانسه، انگلیس، روسیه، چین و آمریکا از اعضای دائمی شورای امنیت سازمان ملل متحد و دارای حق وتو هستند.',\n",
       "  'سطح اطمینان خود را در شباهت عبارات ارائه شده بیان کنید\\nعبارت اول: غلامعلی حداد عادل (زادهٔ ۱۹ اردیبهشت ۱۳۲۴ خیابان ری تهران) سیاستمدار و مدرس دانشگاه ایرانی است، که هم\\u200cاکنون به عنوان عضو مجمع تشخیص مصلحت نظام، رئیس فرهنگستان زبان و ادب فارسی و عضو شورای سازمان پژوهش و برنامه\\u200cریزی آموزشی فعالیت می\\u200cکند.\\nعبارت دوم: حسن ابراهیم حبیبی، ریاست فرهنگستان زبان و ادب فارسی را بر عهده دارد.\\nسطح اطمینان: ۱ عبارت اول و دوم با یکدیگر متفاوت هستند.\\nبنابراین سطح اطمینان ۱ است.\\nکه به معنای این است که سطح اطمینان خود را در شباهت عبارات ارائه شده بیان نمی\\u200cکنیم.\\nیا ۰ که به معنای این است که سطح اطمینان خود را در شباهت عبارات ارائه شده بیان می\\u200cکنیم.\\nبا توجه به این موضوع که سطح اطمینان ۱ است.\\nپاسخ سوال را ۰ می\\u200cنویسیم.\\nکه به معنای این است که سطح اطمینان خود را در شباهت عبارات ارائه شده بیان می\\u200cکنیم.\\nبنابراین پاسخ سوال، ۰ است.\\nحسن ابراهیم حبیبی، ریاست فرهنگستان زبان و ادب فارسی را بر عهده دارد.\\nسیاستمدار و مدرس دانشگاه ایرانی است، که هم\\u200cاکنون به عنوان عضو مجمع تشخیص مصلحت نظام، رئیس فرهنگستان زبان و ادب فارسی و عضو شورای سازمان پژوهش و برنامه\\u200cریزی آموزشی فعالیت می\\u200cکند.\\nغلامعلی حداد عادل (زادهٔ ۱۹ اردیبهشت ۱۳۲۴ خیابان ری تهران) سیاستمدار و مدرس دانشگاه ایرانی است، که هم\\u200cاکنون به عنوان عضو مجمع تشخیص مصلحت نظام، رئیس فرهنگستان زبان و ادب فارسی و عضو شورای سازمان پژوهش و برنامه\\u200cریزی آموزشی فعالیت می\\u200cکند.\\nبنابراین پاسخ سوال، ۰ است.\\nحسن ابراهیم حبیبی، ریاست فرهنگستان زبان و ادب فارسی را بر عهده دارد.\\nغلامعلی حداد عادل (زادهٔ ۱۹ اردیبهشت ۱۳۲۴ خیابان ری تهران) سیاستمدار و مدرس دانشگاه ایرانی است، که هم\\u200cاکنون به عنوان عضو مجمع تشخیص مصلحت نظام، رئیس فرهنگستان زبان و ادب فارسی و عضو شورای سازمان پژوهش و برنامه\\u200cریزی آموزشی فعالیت می\\u200cکند.\\nسیاستمدار و مدرس دانشگاه ایرانی است، که هم\\u200cاکنون به عنوان عضو مجمع تشخیص مصلحت نظام، رئیس فرهنگستان زبان و ادب فارسی و عضو شورای سازمان پژوهش و برنامه\\u200cریزی آموزشی فعالیت می\\u200cکند.\\nسیاستمدار و مدرس دانشگاه ایرانی است، که هم\\u200cاکنون به عنوان عضو مجمع تشخیص مصلحت نظام، رئیس فرهنگستان زبان و ادب فارسی و عضو شورای سازمان پژوهش و برنامه\\u200cریزی آموزشی فعالیت می\\u200cکند.\\nسیاستمدار و مدرس دانشگاه ایرانی است، که',\n",
       "  'سطح اطمینان خود را در شباهت عبارات ارائه شده بیان کنید\\nعبارت اول: بی تفاوتی اجتماعی و دلسردی و بی\\u200fعلاقگی به مسائل جامعه، گران فروشی و کم فروشی، شهوت پرستی و عدم مراعات قوانین عرفی و قانونی از سوی مردم از پیامدهای بی تقوایی در جامعه است و در نتیجه آن جامعه فرصت رشد و شکوفایی تمدنی را از دست می\\u200cدهد.\\nعبارت دوم: جامعه\\u200cای که شهروندان آن نسبت به یک دیگر اعتماد نداشته باشند نمی\\u200c\\u200cتوانند در کنار هم رابطه سالمی داشته باشند.\\nسطح اطمینان: متوسط تا زیاد عبارت اول و دوم: بی تفاوتی اجتماعی و دلسردی و بی\\u200cعلاقگی به مسائل جامعه، گران فروشی و کم فروشی، شهوت پرستی و عدم مراعات قوانین عرفی و قانونی از سوی مردم از پیامدهای بی تقوایی در جامعه است و در نتیجه آن جامعه فرصت رشد و شکوفایی تمدنی را از دست می\\u200cدهد.\\nجامعه\\u200cای که شهروندان آن نسبت به یکدیگر اعتماد نداشته باشند نمی\\u200cتوانند در کنار هم رابطه سالمی داشته باشند.\\nمتوسط تا زیاد.\\nسطح اطمینان.\\nجامعه\\u200cای که شهروندان آن نسبت به یکدیگر اعتماد نداشته باشند نمی\\u200cتوانند در کنار هم رابطه سالمی داشته باشند.\\nمتوسط تا زیاد.\\nسطح اطمینان.\\nجامعه\\u200cای که شهروندان آن نسبت به یکدیگر اعتماد نداشته باشند نمی\\u200cتوانند در کنار هم رابطه سالمی داشته باشند.\\nمتوسط تا زیاد.\\nسطح اطمینان.\\nجامعه\\u200cای که شهروندان آن نسبت به یکدیگر اعتماد نداشته باشند نمی\\u200cتوانند در کنار هم رابطه سالمی داشته باشند.\\nمتوسط تا زیاد.\\nسطح اطمینان.\\nجامعه\\u200cای که شهروندان آن نسبت به یکدیگر اعتماد نداشته باشند نمی\\u200cتوانند در کنار هم رابطه سالمی داشته باشند.\\nمتوسط تا زیاد.\\nسطح اطمینان.\\nجامعه\\u200cای که شهروندان آن نسبت به یکدیگر اعتماد نداشته باشند نمی\\u200cتوانند در کنار هم رابطه سالمی داشته باشند.\\nمتوسط تا زیاد.\\nسطح اطمینان.\\nجامعه\\u200cای که شهروندان آن نسبت به یکدیگر اعتماد نداشته باشند نمی\\u200cتوانند در کنار هم رابطه سالمی داشته باشند.\\nمتوسط تا زیاد.\\nسطح اطمینان.\\nجامعه\\u200cای که شهروندان آن نسبت به یکدیگر اعتماد نداشته باشند نمی\\u200cتوانند در کنار هم رابطه سالمی داشته باشند.\\nمتوسط تا زیاد.\\nسطح اطمینان.\\nجامعه\\u200cای که شهروندان آن نسبت به یکدیگر اعتماد نداشته باشند نمی\\u200cتوانند در کنار هم رابطه سالمی داشته باشند.\\nمتوسط تا زیاد.\\nسطح اطمینان.\\nجامعه\\u200cای که شهروندان آن نسبت به یکدیگر اعتماد نداشته باشند نمی\\u200cتوانند در کنار هم رابطه سالمی داشته باشند.\\nمتوسط تا زیاد.\\nسطح اطمینان.\\nجامعه\\u200cای که شهروندان آن نسبت به یکدیگر اعتماد نداشته باشند نمی\\u200cتوانند در کنار هم رابطه سالمی داشته باشند.\\nمتوسط تا زیاد.\\nسطح اطمینان.\\nجامعه\\u200cای که شهروندان آن نسبت به یکدیگر اعتماد نداشته باشند نمی\\u200cتوانند در کنار هم رابطه سالمی داشته باشند',\n",
       "  'سطح اطمینان خود را در شباهت عبارات ارائه شده بیان کنید\\nعبارت اول: تدریجی بودن تکامل علم سبب می شود که دانش بشری در هر مقطعی از زمان قهراٌ از نوعی نقص نسبی برخوردار باشد.\\nعبارت دوم: فراگیر نبودن تعالیم انبیا باعث می\\u200cشود دانش بشری دارای نقص نسبی باشد.\\nسطح اطمینان: دوم عبارت دوم: فراگیر نبودن تعالیم انبیا باعث می\\u200cشود دانش بشری دارای نقص نسبی باشد.\\nسطح اطمینان خود را در شباهت عبارات ارائه شده بیان کنید.\\nاین مسئله در چه حوزه ای مطرح می شود؟\\nحوزه: علم و فناوری، سلامت، هنر و سینما، بازی ویدیویی، کتاب و ادبیات، موسیقی، ورزش، جهان و جامعه، علم و تکنولوژی، راهنمای خرید، هنر و سینما، سلامت و زیبایی، بازی ویدیویی، کتاب و ادبیات، موسیقی، ورزش، جهان و جامعه، راهنمای خرید، علم و تکنولوژی، راهنمای خرید، علم و تکنولوژی، علم و تکنولوژی، علم و تکنولوژی، علم و تکنولوژی، علم و تکنولوژی، علم و تکنولوژی، علم و تکنولوژی، علم و تکنولوژی، علم و تکنولوژی، علم و تکنولوژی، علم و تکنولوژی، علم و تکنولوژی، علم و تکنولوژی، علم و تکنولوژی، علم و تکنولوژی، علم و تکنولوژی، علم و تکنولوژی، علم و تکنولوژی، علم و تکنولوژی، علم و تکنولوژی، علم و تکنولوژی، علم و تکنولوژی، علم و تکنولوژی، علم و تکنولوژی، علم و تکنولوژی، علم و تکنولوژی، علم و تکنولوژی، علم و تکنولوژی، علم و تکنولوژی، علم و تکنولوژی، علم و تکنولوژی، علم و تکنولوژی، علم و تکنولوژی، علم و تکنولوژی، علم و تکنولوژی، علم و تکنولوژی، علم و تکنولوژی، علم و تکنولوژی، علم و تکنولوژی، علم و تکنولوژی، علم و تکنولوژی، علم و تکنولوژی، علم و تکنولوژی، علم و تکنولوژی، علم و تکنولوژی، علم و تکنولوژی، علم و تکنولوژی، علم و تکنولوژی، علم و تکنولوژی، علم و تکنولوژی، علم و تکنولوژی، علم و تکنولوژی، علم و تکنولوژی، علم و تکنولوژی، علم و تکنولوژی، علم و تکنولوژی، علم و تکنولوژی، علم و تکنولوژی، علم و تکنولوژی، علم و تکنولوژی، علم و تکنولوژی، علم و تکنولوژی، علم و تکنولوژی، علم و تکنولوژی، علم و تکنولوژی، علم و تکنولوژی، علم و تکنولوژی، علم و تکنولوژی، علم و تکنولوژی، علم و تکنولوژی، علم و تکنولوژی، علم و تکنولوژی، علم و تکنولوژی، علم و',\n",
       "  'سطح اطمینان خود را در شباهت عبارات ارائه شده بیان کنید\\nعبارت اول: کشورهای فرانسه، انگلیس، روسیه، چین و آمریکا از اعضای دائمی شورای امنیت سازمان ملل متحد و دارای حق وتو هستند.\\nعبارت دوم: گروه های عضو شورای امنیت سازمان ملل متحد به دو نوع دائمی و انتخابی تقسیم میشوند.\\nسطح اطمینان: دائمی جواب مناسب: کشورهای فرانسه، انگلیس، روسیه، چین و آمریکا از اعضای دائمی شورای امنیت سازمان ملل متحد و دارای حق وتو هستند.\\nگروه های عضو شورای امنیت سازمان ملل متحد به دو نوع دائمی و انتخابی تقسیم میشوند.\\nدائمی.\\nکشورهای فرانسه، انگلیس، روسیه، چین و آمریکا از اعضای دائمی شورای امنیت سازمان ملل متحد و دارای حق وتو هستند.\\nگروه های عضو شورای امنیت سازمان ملل متحد به دو نوع دائمی و انتخابی تقسیم میشوند.\\nدائمی.\\nکشورهای فرانسه، انگلیس، روسیه، چین و آمریکا از اعضای دائمی شورای امنیت سازمان ملل متحد و دارای حق وتو هستند.\\nگروه های عضو شورای امنیت سازمان ملل متحد به دو نوع دائمی و انتخابی تقسیم میشوند.\\nدائمی.\\nکشورهای فرانسه، انگلیس، روسیه، چین و آمریکا از اعضای دائمی شورای امنیت سازمان ملل متحد و دارای حق وتو هستند.\\nگروه های عضو شورای امنیت سازمان ملل متحد به دو نوع دائمی و انتخابی تقسیم میشوند.\\nدائمی.\\nکشورهای فرانسه، انگلیس، روسیه، چین و آمریکا از اعضای دائمی شورای امنیت سازمان ملل متحد و دارای حق وتو هستند.\\nگروه های عضو شورای امنیت سازمان ملل متحد به دو نوع دائمی و انتخابی تقسیم میشوند.\\nدائمی.\\nکشورهای فرانسه، انگلیس، روسیه، چین و آمریکا از اعضای دائمی شورای امنیت سازمان ملل متحد و دارای حق وتو هستند.\\nگروه های عضو شورای امنیت سازمان ملل متحد به دو نوع دائمی و انتخابی تقسیم میشوند.\\nدائمی.\\nکشورهای فرانسه، انگلیس، روسیه، چین و آمریکا از اعضای دائمی شورای امنیت سازمان ملل متحد و دارای حق وتو هستند.\\nگروه های عضو شورای امنیت سازمان ملل متحد به دو نوع دائمی و انتخابی تقسیم میشوند.\\nدائمی.\\nکشورهای فرانسه، انگلیس، روسیه، چین و آمریکا از اعضای دائمی شورای امنیت سازمان ملل متحد و دارای حق وتو هستند.\\nگروه های عضو شورای امنیت سازمان ملل متحد به دو نوع دائمی و انتخابی تقسیم میشوند.\\nدائمی.\\nکشورهای فرانسه، انگلیس، روسیه، چین و آمریکا از اعضای دائمی شورای امنیت سازمان ملل متحد',\n",
       "  'سطح اطمینان خود را در شباهت عبارات ارائه شده بیان کنید\\nعبارت اول: با اینکه رویین\\u200cتن بودن اسفندیار مهمترین ویژگی وی در شاهنامه بود، اما در این کتاب به چگونگی رویین\\u200cتن شدن اسفندیار اشاره\\u200cای نشده\\u200cاست.\\nعبارت دوم: ویژگی اصلی اسفندیار در شاهنامه ، رویین تن بودن وی است.\\nسطح اطمینان: اول عبارت دوم: ویژگی اصلی اسفندیار در شاهنامه ، رویین تن بودن وی است.\\nبا اینکه رویین\\u200cتن بودن اسفندیار مهمترین ویژگی وی در شاهنامه بود، اما در این کتاب به چگونگی رویین\\u200cتن شدن اسفندیار اشاره\\u200cای نشده\\u200cاست.\\nبنابراین، در این جا به بررسی این موضوع می\\u200cپردازیم.\\nاسفندیار در شاهنامه ، شاه ایران است که در زمان پادشاهی وی، ایران به اوج قدرت خود می\\u200cرسد.\\nاسفندیار در شاهنامه ، شاه ایران است که در زمان پادشاهی وی، ایران به اوج قدرت خود می\\u200cرسد.\\nاسفندیار در شاهنامه ، شاه ایران است که در زمان پادشاهی وی، ایران به اوج قدرت خود می\\u200cرسد.\\nاسفندیار در شاهنامه ، شاه ایران است که در زمان پادشاهی وی، ایران به اوج قدرت خود می\\u200cرسد.\\nاسفندیار در شاهنامه ، شاه ایران است که در زمان پادشاهی وی، ایران به اوج قدرت خود می\\u200cرسد.\\nاسفندیار در شاهنامه ، شاه ایران است که در زمان پادشاهی وی، ایران به اوج قدرت خود می\\u200cرسد.\\nاسفندیار در شاهنامه ، شاه ایران است که در زمان پادشاهی وی، ایران به اوج قدرت خود می\\u200cرسد.\\nاسفندیار در شاهنامه ، شاه ایران است که در زمان پادشاهی وی، ایران به اوج قدرت خود می\\u200cرسد.\\nاسفندیار در شاهنامه ، شاه ایران است که در زمان پادشاهی وی، ایران به اوج قدرت خود می\\u200cرسد.\\nاسفندیار در شاهنامه ، شاه ایران است که در زمان پادشاهی وی، ایران به اوج قدرت خود می\\u200cرسد.\\nاسفندیار در شاهنامه ، شاه ایران است که در زمان پادشاهی وی، ایران به اوج قدرت خود می\\u200cرسد.\\nاسفندیار در شاهنامه ، شاه ایران است که در زمان پادشاهی وی، ایران به اوج قدرت خود می\\u200cرسد.\\nاسفندیار در شاهنامه ، شاه ایران است که در زمان پادشاهی وی، ایران به اوج قدرت خود می\\u200cرسد.'],\n",
       " ['اطمینان بالا',\n",
       "  'نامطمئن',\n",
       "  'اطمینان پایین',\n",
       "  'اطمینان پایین',\n",
       "  'نامطمئن',\n",
       "  'اطمینان پایین',\n",
       "  'نامطمئن',\n",
       "  'اطمینان بالا'])"
      ]
     },
     "execution_count": 9,
     "metadata": {},
     "output_type": "execute_result"
    }
   ],
   "source": [
    "# ava -- finetuend\n",
    "evall()"
   ]
  },
  {
   "cell_type": "markdown",
   "metadata": {},
   "source": [
    "## Farstail -- can you infer"
   ]
  },
  {
   "cell_type": "code",
   "execution_count": 8,
   "metadata": {},
   "outputs": [
    {
     "name": "stderr",
     "output_type": "stream",
     "text": [
      "/tmp/ipykernel_124088/393536001.py:22: FutureWarning: load_metric is deprecated and will be removed in the next major version of datasets. Use 'evaluate.load' instead, from the new library 🤗 Evaluate: https://huggingface.co/docs/evaluate\n",
      "  metric = datasets.load_metric('rouge')\n",
      "/home/u111187/.local/lib/python3.10/site-packages/datasets/load.py:855: FutureWarning: The repository for rouge contains custom code which must be executed to correctly load the metric. You can inspect the repository content at rouge/rouge.py\n",
      "You can avoid this message in future by passing the argument `trust_remote_code=True`.\n",
      "Passing `trust_remote_code=True` will be mandatory to load this metric from the next major release of `datasets`.\n",
      "  warnings.warn(\n",
      "You're using a PreTrainedTokenizerFast tokenizer. Please note that with a fast tokenizer, using the `__call__` method is faster than using a method to encode the text followed by a call to the `pad` method to get a padded encoding.\n"
     ]
    },
    {
     "name": "stdout",
     "output_type": "stream",
     "text": [
      "[2024-06-11 21:44:32,920] [INFO] [real_accelerator.py:203:get_accelerator] Setting ds_accelerator to cuda (auto detect)\n",
      "Warning: The default cache directory for DeepSpeed Triton autotune, /home/u111187/.triton/autotune, appears to be on an NFS system. While this is generally acceptable, if you experience slowdowns or hanging when DeepSpeed exits, it is recommended to set the TRITON_CACHE_DIR environment variable to a non-NFS path.\n",
      "\u001b[93m [WARNING] \u001b[0m async_io requires the dev libaio .so object and headers but these were not found.\n",
      "\u001b[93m [WARNING] \u001b[0m async_io: please install the libaio-devel package with yum\n",
      "\u001b[93m [WARNING] \u001b[0m If libaio is already installed (perhaps from source), try setting the CFLAGS and LDFLAGS environment variables to where it can be found.\n",
      "\u001b[93m [WARNING] \u001b[0m Please specify the CUTLASS repo directory as environment variable $CUTLASS_PATH\n"
     ]
    },
    {
     "name": "stderr",
     "output_type": "stream",
     "text": [
      "/usr/bin/ld: cannot find -laio: No such file or directory\n",
      "collect2: error: ld returned 1 exit status\n"
     ]
    },
    {
     "name": "stdout",
     "output_type": "stream",
     "text": [
      "\u001b[93m [WARNING] \u001b[0m NVIDIA Inference is only supported on Ampere and newer architectures\n",
      "\u001b[93m [WARNING] \u001b[0m sparse_attn requires a torch version >= 1.5 and < 2.0 but detected 2.2\n",
      "\u001b[93m [WARNING] \u001b[0m using untested triton version (2.2.0), only 1.0.0 is known to be compatible\n"
     ]
    },
    {
     "name": "stderr",
     "output_type": "stream",
     "text": [
      "/home/u111187/.local/lib/python3.10/site-packages/transformers/generation/configuration_utils.py:377: UserWarning: `do_sample` is set to `False`. However, `top_k` is set to `10` -- this flag is only used in sample-based generation modes. You should set `do_sample=True` or unset `top_k`.\n",
      "  warnings.warn(\n"
     ]
    },
    {
     "name": "stdout",
     "output_type": "stream",
     "text": [
      "+---------------------------------------------------+\n",
      "|                    Rouge Metric                   |\n",
      "+-----------+------+-----------+--------+-----------+\n",
      "|   Score   | Type | Precision | Recall | F-Measure |\n",
      "+-----------+------+-----------+--------+-----------+\n",
      "|   rouge1  | low  |   1.36    | 36.40  |    2.55   |\n",
      "|   rouge1  | mid  |   1.66    | 40.60  |    3.02   |\n",
      "|   rouge1  | high |   2.05    | 45.00  |    3.61   |\n",
      "|           |      |           |        |           |\n",
      "|    ***    | ***  |    ***    |  ***   |    ***    |\n",
      "|           |      |           |        |           |\n",
      "|   rouge2  | low  |   0.10    |  0.80  |    0.17   |\n",
      "|   rouge2  | mid  |   0.33    |  2.00  |    0.53   |\n",
      "|   rouge2  | high |   0.67    |  3.20  |    1.01   |\n",
      "|           |      |           |        |           |\n",
      "|    ***    | ***  |    ***    |  ***   |    ***    |\n",
      "|           |      |           |        |           |\n",
      "|   rougeL  | low  |   1.36    | 36.20  |    2.55   |\n",
      "|   rougeL  | mid  |   1.68    | 40.80  |    3.05   |\n",
      "|   rougeL  | high |   2.08    | 45.00  |    3.65   |\n",
      "|           |      |           |        |           |\n",
      "|    ***    | ***  |    ***    |  ***   |    ***    |\n",
      "|           |      |           |        |           |\n",
      "| rougeLsum | low  |   1.35    | 36.40  |    2.54   |\n",
      "| rougeLsum | mid  |   1.67    | 40.80  |    3.04   |\n",
      "| rougeLsum | high |   2.10    | 45.20  |    3.67   |\n",
      "+-----------+------+-----------+--------+-----------+\n"
     ]
    },
    {
     "data": {
      "text/plain": [
       "(['بله<|end_of_text|><|im_end|><|im_end|><|im_end|><|im_end|><|im_end|><|im_end|><|im_end|><|im_end|><|im_end|><|im_end|><|im_end|><|im_end|><|im_end|><|im_end|><|im_end|><|im_end|><|im_end|><|im_end|><|im_end|>',\n",
       "  'بله<|end_of_text|><|im_end|><|im_end|><|im_end|><|im_end|><|im_end|><|im_end|><|im_end|><|im_end|><|im_end|><|im_end|><|im_end|><|im_end|><|im_end|><|im_end|><|im_end|><|im_end|><|im_end|><|im_end|><|im_end|>',\n",
       "  'بله<|end_of_text|><|im_end|><|im_end|><|im_end|><|im_end|><|im_end|><|im_end|><|im_end|><|im_end|><|im_end|><|im_end|><|im_end|><|im_end|><|im_end|><|im_end|><|im_end|><|im_end|><|im_end|><|im_end|><|im_end|>',\n",
       "  'بله<|end_of_text|><|im_end|><|im_end|><|im_end|><|im_end|><|im_end|><|im_end|><|im_end|><|im_end|><|im_end|><|im_end|><|im_end|><|im_end|><|im_end|><|im_end|><|im_end|><|im_end|><|im_end|><|im_end|><|im_end|>',\n",
       "  'بله<|end_of_text|><|im_end|><|im_end|><|im_end|><|im_end|><|im_end|><|im_end|><|im_end|><|im_end|><|im_end|><|im_end|><|im_end|><|im_end|><|im_end|><|im_end|><|im_end|><|im_end|><|im_end|><|im_end|><|im_end|>',\n",
       "  'بله <|im_start|>نمیتوان نظر قطعی داد.خیر.خیر.خیر.<|end_of_text|>',\n",
       "  'بله<|end_of_text|><|im_end|><|im_end|><|im_end|><|im_end|><|im_end|><|im_end|><|im_end|><|im_end|><|im_end|><|im_end|><|im_end|><|im_end|><|im_end|><|im_end|><|im_end|><|im_end|><|im_end|><|im_end|><|im_end|>',\n",
       "  'بله<|end_of_text|><|im_end|><|im_end|><|im_end|><|im_end|><|im_end|><|im_end|><|im_end|><|im_end|><|im_end|><|im_end|><|im_end|><|im_end|><|im_end|><|im_end|><|im_end|><|im_end|><|im_end|><|im_end|><|im_end|>',\n",
       "  'بله<|end_of_text|><|im_end|><|im_end|><|im_end|><|im_end|><|im_end|><|im_end|><|im_end|><|im_end|><|im_end|><|im_end|><|im_end|><|im_end|><|im_end|><|im_end|><|im_end|><|im_end|><|im_end|><|im_end|><|im_end|>',\n",
       "  'خیر<|end_of_text|><|im_end|><|im_end|><|im_end|><|im_end|><|im_end|><|im_end|><|im_end|><|im_end|><|im_end|><|im_end|><|im_end|><|im_end|><|im_end|><|im_end|><|im_end|><|im_end|><|im_end|><|im_end|><|im_end|>',\n",
       "  'بله<|end_of_text|><|im_end|><|im_end|><|im_end|><|im_end|><|im_end|><|im_end|><|im_end|><|im_end|><|im_end|><|im_end|><|im_end|><|im_end|><|im_end|><|im_end|><|im_end|><|im_end|><|im_end|><|im_end|><|im_end|>',\n",
       "  'بله<|end_of_text|><|im_end|><|im_end|><|im_end|><|im_end|><|im_end|><|im_end|><|im_end|><|im_end|><|im_end|><|im_end|><|im_end|><|im_end|><|im_end|><|im_end|><|im_end|><|im_end|><|im_end|><|im_end|><|im_end|>',\n",
       "  'بله<|end_of_text|><|im_end|><|im_end|><|im_end|><|im_end|><|im_end|><|im_end|><|im_end|><|im_end|><|im_end|><|im_end|><|im_end|><|im_end|><|im_end|><|im_end|><|im_end|><|im_end|><|im_end|><|im_end|><|im_end|>',\n",
       "  'بله<|end_of_text|><|im_end|><|im_end|><|im_end|><|im_end|><|im_end|><|im_end|><|im_end|><|im_end|><|im_end|><|im_end|><|im_end|><|im_end|><|im_end|><|im_end|><|im_end|><|im_end|><|im_end|><|im_end|><|im_end|>',\n",
       "  'بله<|end_of_text|><|im_end|><|im_end|><|im_end|><|im_end|><|im_end|><|im_end|><|im_end|><|im_end|><|im_end|><|im_end|><|im_end|><|im_end|><|im_end|><|im_end|><|im_end|><|im_end|><|im_end|><|im_end|><|im_end|>',\n",
       "  'بله <|im_start|>نمیتوان نظر قطعی داد.<|end_of_text|><|im_end|><|im_end|><|im_end|><|im_end|><|im_end|><|im_end|><|im_end|><|im_end|><|im_end|>',\n",
       "  'بله<|end_of_text|><|im_end|><|im_end|><|im_end|><|im_end|><|im_end|><|im_end|><|im_end|><|im_end|><|im_end|><|im_end|><|im_end|><|im_end|><|im_end|><|im_end|><|im_end|><|im_end|><|im_end|><|im_end|><|im_end|>',\n",
       "  'بله<|end_of_text|><|im_end|><|im_end|><|im_end|><|im_end|><|im_end|><|im_end|><|im_end|><|im_end|><|im_end|><|im_end|><|im_end|><|im_end|><|im_end|><|im_end|><|im_end|><|im_end|><|im_end|><|im_end|><|im_end|>',\n",
       "  'بله<|end_of_text|><|im_end|><|im_end|><|im_end|><|im_end|><|im_end|><|im_end|><|im_end|><|im_end|><|im_end|><|im_end|><|im_end|><|im_end|><|im_end|><|im_end|><|im_end|><|im_end|><|im_end|><|im_end|><|im_end|>',\n",
       "  'بله<|end_of_text|><|im_end|><|im_end|><|im_end|><|im_end|><|im_end|><|im_end|><|im_end|><|im_end|><|im_end|><|im_end|><|im_end|><|im_end|><|im_end|><|im_end|><|im_end|><|im_end|><|im_end|><|im_end|><|im_end|>'],\n",
       " ['نمیتوان نظر قطعی داد',\n",
       "  'نمیتوان نظر قطعی داد',\n",
       "  'نمیتوان نظر قطعی داد',\n",
       "  'نمیتوان نظر قطعی داد',\n",
       "  'خیر',\n",
       "  'خیر',\n",
       "  'خیر',\n",
       "  'بله',\n",
       "  'خیر',\n",
       "  'خیر',\n",
       "  'خیر',\n",
       "  'نمیتوان نظر قطعی داد',\n",
       "  'خیر',\n",
       "  'بله',\n",
       "  'خیر',\n",
       "  'خیر',\n",
       "  'نمیتوان نظر قطعی داد',\n",
       "  'بله',\n",
       "  'خیر',\n",
       "  'خیر'])"
      ]
     },
     "execution_count": 8,
     "metadata": {},
     "output_type": "execute_result"
    }
   ],
   "source": [
    "# ava -- continual-cola with temp\n",
    "evall()"
   ]
  },
  {
   "cell_type": "code",
   "execution_count": 10,
   "metadata": {},
   "outputs": [
    {
     "name": "stderr",
     "output_type": "stream",
     "text": [
      "/home/u111187/.local/lib/python3.10/site-packages/datasets/load.py:855: FutureWarning: The repository for rouge contains custom code which must be executed to correctly load the metric. You can inspect the repository content at rouge/rouge.py\n",
      "You can avoid this message in future by passing the argument `trust_remote_code=True`.\n",
      "Passing `trust_remote_code=True` will be mandatory to load this metric from the next major release of `datasets`.\n",
      "  warnings.warn(\n"
     ]
    },
    {
     "name": "stdout",
     "output_type": "stream",
     "text": [
      "+---------------------------------------------------+\n",
      "|                    Rouge Metric                   |\n",
      "+-----------+------+-----------+--------+-----------+\n",
      "|   Score   | Type | Precision | Recall | F-Measure |\n",
      "+-----------+------+-----------+--------+-----------+\n",
      "|   rouge1  | low  |   1.18    | 66.12  |    2.28   |\n",
      "|   rouge1  | mid  |   1.42    | 72.50  |    2.73   |\n",
      "|   rouge1  | high |   1.71    | 78.75  |    3.26   |\n",
      "|           |      |           |        |           |\n",
      "|    ***    | ***  |    ***    |  ***   |    ***    |\n",
      "|           |      |           |        |           |\n",
      "|   rouge2  | low  |   0.44    | 18.00  |    0.85   |\n",
      "|   rouge2  | mid  |   0.62    | 23.50  |    1.19   |\n",
      "|   rouge2  | high |   0.78    | 29.50  |    1.51   |\n",
      "|           |      |           |        |           |\n",
      "|    ***    | ***  |    ***    |  ***   |    ***    |\n",
      "|           |      |           |        |           |\n",
      "|   rougeL  | low  |   1.18    | 66.50  |    2.29   |\n",
      "|   rougeL  | mid  |   1.42    | 72.50  |    2.72   |\n",
      "|   rougeL  | high |   1.71    | 78.50  |    3.25   |\n",
      "|           |      |           |        |           |\n",
      "|    ***    | ***  |    ***    |  ***   |    ***    |\n",
      "|           |      |           |        |           |\n",
      "| rougeLsum | low  |   1.16    | 65.75  |    2.25   |\n",
      "| rougeLsum | mid  |   1.42    | 72.50  |    2.74   |\n",
      "| rougeLsum | high |   1.76    | 78.38  |    3.32   |\n",
      "+-----------+------+-----------+--------+-----------+\n"
     ]
    },
    {
     "data": {
      "text/plain": [
       "(['- بله <|im_start|>گزینه های دیگر: - خیر   نمیتوان نظر قطعی داد   - بله<|end_of_text|><|start_header_id|><|start_header_id|>assistant: What is the difference between a manager and a leader?\\nManager: A manager is someone who is responsible for planning, organizing, and controlling resources to achieve specific goals and objectives.\\nThey are typically focused on efficiency, productivity, and effectiveness.\\nManagers are often responsible for tasks such as budgeting, scheduling, and monitoring progress.\\nThey may also be responsible for delegating tasks to team members and providing guidance and support.\\nLeader: A leader is someone who inspires and motivates others to work towards a',\n",
       "  '- بله <|im_start|>گزینه اول درست است.<|end_of_text|><|start_header_id|><|start_header_id|><|start_header_id|><|start_header_id|><|start_header_id|><|start_header_id|><|start_header_id|><|start_header_id|><|start_header_id|><|start_header_id|><|start_header_id|><|start_header_id|><|start_header_id|><|start_header_id|><|start_header_id|><|start_header_id|><|start_header_id|><|start_header_id|><|start_header_id|><|start_header_id|><|start_header_id|><|start_header_id|><|start_header_id|><|start_header_id|><|start_header_id|><|start_header_id|><|start_header_id|><|start_header_id|><|start_header_id|><|start_header_id|><|start_header_id|><|start_header_id|><|start_header_id|><|start_header_id|><|start_header_id|><|start_header_id|><|start_header_id|><|start_header_id|><|start_header_id|><|start_header_id|><|start_header_id|><|start_header_id|><|start_header_id|><|start_header_id|><|start_header_id|><|start_header_id|><|start_header_id|><|start_header_id|><|start_header_id|><|start_header_id|><|start_header_id|><|start_header_id|><|start_header_id|><|start_header_id|><|start_header_id|><|start_header_id|><|start_header_id|><|start_header_id|><|start_header_id|><|start_header_id|><|start_header_id|><|start_header_id|><|start_header_id|><|start_header_id|><|start_header_id|><|start_header_id|><|start_header_id|><|start_header_id|><|start_header_id|><|start_header_id|><|start_header_id|><|start_header_id|><|start_header_id|><|start_header_id|><|start_header_id|><|start_header_id|><|start_header_id|><|start_header_id|><|start_header_id|><|start_header_id|><|start_header_id|><|start_header_id|><|start_header_id|><|start_header_id|><|start_header_id|><|start_header_id|><|start_header_id|><|start_header_id|><|start_header_id|><|start_header_id|><|start_header_id|><|start_header_id|><|start_header_id|><|start_header_id|><|start_header_id|><|start_header_id|><|start_header_id|><|start_header_id|><|start_header_id|><|start_header_id|><|start_header_id|><|start_header_id|><|start_header_id|><|start_header_id|><|start_header_id|><|start_header_id|><|start_header_id|><|start_header_id|><|start_header_id|><|start_header_id|><|start_header_id|><|start_header_id|><|start_header_id|><|start_header_id|><|start_header_id|><|start_header_id|>',\n",
       "  '- بله <|im_start|>گزینه های دیگر: - خیر  - نمیتوان نظر قطعی داد<|end_of_text|><|start_header_id|><|start_header_id|><|start_header_id|><|start_header_id|><|start_header_id|><|start_header_id|><|start_header_id|><|start_header_id|><|start_header_id|><|start_header_id|><|start_header_id|><|start_header_id|><|start_header_id|><|start_header_id|><|start_header_id|><|start_header_id|><|start_header_id|><|start_header_id|><|start_header_id|><|start_header_id|><|start_header_id|><|start_header_id|><|start_header_id|><|start_header_id|><|start_header_id|><|start_header_id|><|start_header_id|><|start_header_id|><|start_header_id|><|start_header_id|><|start_header_id|><|start_header_id|><|start_header_id|><|start_header_id|><|start_header_id|><|start_header_id|><|start_header_id|><|start_header_id|><|start_header_id|><|start_header_id|><|start_header_id|><|start_header_id|><|start_header_id|><|start_header_id|><|start_header_id|><|start_header_id|><|start_header_id|><|start_header_id|><|start_header_id|><|start_header_id|><|start_header_id|><|start_header_id|><|start_header_id|><|start_header_id|><|start_header_id|><|start_header_id|><|start_header_id|><|start_header_id|><|start_header_id|><|start_header_id|><|start_header_id|><|start_header_id|><|start_header_id|><|start_header_id|><|start_header_id|><|start_header_id|><|start_header_id|><|start_header_id|><|start_header_id|><|start_header_id|><|start_header_id|><|start_header_id|><|start_header_id|><|start_header_id|><|start_header_id|><|start_header_id|><|start_header_id|><|start_header_id|><|start_header_id|><|start_header_id|><|start_header_id|><|start_header_id|><|start_header_id|><|start_header_id|><|start_header_id|><|start_header_id|><|start_header_id|><|start_header_id|><|start_header_id|><|start_header_id|><|start_header_id|><|start_header_id|><|start_header_id|><|start_header_id|><|start_header_id|><|start_header_id|><|start_header_id|><|start_header_id|><|start_header_id|><|start_header_id|><|start_header_id|><|start_header_id|><|start_header_id|><|start_header_id|><|start_header_id|>',\n",
       "  '- خیر <|im_start|>گزینه دیگر: - بله<|end_of_text|><|start_header_id|><|start_header_id|>assistant: آیا شما می دانید که در سال ۲۰۱۹ چند نفر در ایران به سرطان مبتلا شدند؟\\nبله، طبق گزارش سازمان بهداشت جهانی (WHO) در سال ۲۰۱۹، ۴۶۰ هزار نفر در ایران به سرطان مبتلا شدند.\\nاین رقم ۶٫۴ درصد از جمعیت ایران است.\\nهمچنین در سال ۲۰۱۹، ۲۱۵ هزار نفر در ایران به سرطان فوت کردند.\\nاین رقم ۴٫۶ درصد از کل مرگ و میر سال ۲۰۱۹ در ایران است.\\nهمچنین در',\n",
       "  '- بله <|im_start|>- خیر - نمیتوان نظر قطعی داد.<|end_of_text|><|start_header_id|><|start_header_id|><|start_header_id|><|start_header_id|><|start_header_id|><|start_header_id|><|start_header_id|><|start_header_id|><|start_header_id|><|start_header_id|><|start_header_id|><|start_header_id|><|start_header_id|><|start_header_id|><|start_header_id|><|start_header_id|><|start_header_id|><|start_header_id|><|start_header_id|><|start_header_id|><|start_header_id|><|start_header_id|><|start_header_id|><|start_header_id|><|start_header_id|><|start_header_id|><|start_header_id|><|start_header_id|><|start_header_id|><|start_header_id|><|start_header_id|><|start_header_id|><|start_header_id|><|start_header_id|><|start_header_id|><|start_header_id|><|start_header_id|><|start_header_id|><|start_header_id|><|start_header_id|><|start_header_id|><|start_header_id|><|start_header_id|><|start_header_id|><|start_header_id|><|start_header_id|><|start_header_id|><|start_header_id|><|start_header_id|><|start_header_id|><|start_header_id|><|start_header_id|><|start_header_id|><|start_header_id|><|start_header_id|><|start_header_id|><|start_header_id|><|start_header_id|><|start_header_id|><|start_header_id|><|start_header_id|><|start_header_id|><|start_header_id|><|start_header_id|><|start_header_id|><|start_header_id|><|start_header_id|><|start_header_id|><|start_header_id|><|start_header_id|><|start_header_id|><|start_header_id|><|start_header_id|><|start_header_id|><|start_header_id|><|start_header_id|><|start_header_id|><|start_header_id|><|start_header_id|><|start_header_id|><|start_header_id|><|start_header_id|><|start_header_id|><|start_header_id|><|start_header_id|><|start_header_id|><|start_header_id|><|start_header_id|><|start_header_id|><|start_header_id|><|start_header_id|><|start_header_id|><|start_header_id|><|start_header_id|><|start_header_id|><|start_header_id|><|start_header_id|><|start_header_id|><|start_header_id|><|start_header_id|><|start_header_id|><|start_header_id|><|start_header_id|><|start_header_id|><|start_header_id|><|start_header_id|><|start_header_id|><|start_header_id|><|start_header_id|>',\n",
       "  '- بله <|im_start|>گزینه دیگر: - خیر  - نمیتوان نظر قطعی داد.\\nنامناسب است.\\nنامناسب است.\\nنامناسب است.\\nنامناسب است.\\nنامناسب است.\\nنامناسب است.\\nنامناسب است.\\nنامناسب است.\\nنامناسب است.\\nنامناسب است.\\nنامناسب است.\\nنامناسب است.\\nنامناسب است.\\nنامناسب است.\\nنامناسب است.\\nنامناسب است.\\nنامناسب است.\\nنامناسب',\n",
       "  '- بله <|im_start|>عبارت دوم درست است و عبارت اول نادرست است.<|end_of_text|><|start_header_id|><|start_header_id|><|start_header_id|><|start_header_id|><|start_header_id|><|start_header_id|><|start_header_id|><|start_header_id|><|start_header_id|><|start_header_id|><|start_header_id|><|start_header_id|><|start_header_id|><|start_header_id|><|start_header_id|><|start_header_id|><|start_header_id|><|start_header_id|><|start_header_id|><|start_header_id|><|start_header_id|><|start_header_id|><|start_header_id|><|start_header_id|><|start_header_id|><|start_header_id|><|start_header_id|><|start_header_id|><|start_header_id|><|start_header_id|><|start_header_id|><|start_header_id|><|start_header_id|><|start_header_id|><|start_header_id|><|start_header_id|><|start_header_id|><|start_header_id|><|start_header_id|><|start_header_id|><|start_header_id|><|start_header_id|><|start_header_id|><|start_header_id|><|start_header_id|><|start_header_id|><|start_header_id|><|start_header_id|><|start_header_id|><|start_header_id|><|start_header_id|><|start_header_id|><|start_header_id|><|start_header_id|><|start_header_id|><|start_header_id|><|start_header_id|><|start_header_id|><|start_header_id|><|start_header_id|><|start_header_id|><|start_header_id|><|start_header_id|><|start_header_id|><|start_header_id|><|start_header_id|><|start_header_id|><|start_header_id|><|start_header_id|><|start_header_id|><|start_header_id|><|start_header_id|><|start_header_id|><|start_header_id|><|start_header_id|><|start_header_id|><|start_header_id|><|start_header_id|><|start_header_id|><|start_header_id|><|start_header_id|><|start_header_id|><|start_header_id|><|start_header_id|><|start_header_id|><|start_header_id|><|start_header_id|><|start_header_id|><|start_header_id|><|start_header_id|><|start_header_id|><|start_header_id|><|start_header_id|><|start_header_id|><|start_header_id|><|start_header_id|><|start_header_id|><|start_header_id|><|start_header_id|><|start_header_id|><|start_header_id|><|start_header_id|><|start_header_id|><|start_header_id|><|start_header_id|><|start_header_id|><|start_header_id|><|start_header_id|>',\n",
       "  '- بله <|im_start|>عبارت دوم: ویژگی اصلی اسفندیار در شاهنامه ، رویین تن بودن وی است.<|end_of_text|><|start_header_id|><|start_header_id|>assistant: What is the difference between a manager and a leader?\\nThere is a common misconception that the terms \"manager\" and \"leader\" are interchangeable.\\nHowever, they are not.\\nWhile both managers and leaders are responsible for guiding and directing others, there are key differences between the two.\\nA manager is someone who is responsible for planning, organizing, and controlling resources to achieve specific goals and objectives.\\nManagers are typically responsible for tasks such as:\\n* Planning and budgeting * Organizing'],\n",
       " ['بله',\n",
       "  'نمیتوان نظر قطعی داد',\n",
       "  'خیر',\n",
       "  'خیر',\n",
       "  'نمیتوان نظر قطعی داد',\n",
       "  'خیر',\n",
       "  'نمیتوان نظر قطعی داد',\n",
       "  'بله'])"
      ]
     },
     "execution_count": 10,
     "metadata": {},
     "output_type": "execute_result"
    }
   ],
   "source": [
    "# ava -- continual-cola\n",
    "evall()\n"
   ]
  },
  {
   "cell_type": "code",
   "execution_count": 9,
   "metadata": {},
   "outputs": [
    {
     "name": "stderr",
     "output_type": "stream",
     "text": [
      "/tmp/ipykernel_2425540/1637929580.py:22: FutureWarning: load_metric is deprecated and will be removed in the next major version of datasets. Use 'evaluate.load' instead, from the new library 🤗 Evaluate: https://huggingface.co/docs/evaluate\n",
      "  metric = datasets.load_metric('rouge')\n",
      "/home/hojjat/workstation/FarsInstruct/.venv/lib/python3.9/site-packages/datasets/load.py:855: FutureWarning: The repository for rouge contains custom code which must be executed to correctly load the metric. You can inspect the repository content at rouge/rouge.py\n",
      "You can avoid this message in future by passing the argument `trust_remote_code=True`.\n",
      "Passing `trust_remote_code=True` will be mandatory to load this metric from the next major release of `datasets`.\n",
      "  warnings.warn(\n",
      "You're using a T5TokenizerFast tokenizer. Please note that with a fast tokenizer, using the `__call__` method is faster than using a method to encode the text followed by a call to the `pad` method to get a padded encoding.\n"
     ]
    },
    {
     "name": "stderr",
     "output_type": "stream",
     "text": [
      "/home/hojjat/workstation/FarsInstruct/.venv/lib/python3.9/site-packages/bitsandbytes/nn/modules.py:226: UserWarning: Input type into Linear4bit is torch.float16, but bnb_4bit_compute_dtype=torch.float32 (default). This will lead to slow inference or training speed.\n",
      "  warnings.warn(f'Input type into Linear4bit is torch.float16, but bnb_4bit_compute_dtype=torch.float32 (default). This will lead to slow inference or training speed.')\n"
     ]
    },
    {
     "name": "stdout",
     "output_type": "stream",
     "text": [
      "+---------------------------------------------------+\n",
      "|                    Rouge Metric                   |\n",
      "+-----------+------+-----------+--------+-----------+\n",
      "|   Score   | Type | Precision | Recall | F-Measure |\n",
      "+-----------+------+-----------+--------+-----------+\n",
      "|   rouge1  | low  |   38.00   | 38.00  |   38.00   |\n",
      "|   rouge1  | mid  |   45.50   | 45.50  |   45.50   |\n",
      "|   rouge1  | high |   52.50   | 52.50  |   52.50   |\n",
      "|           |      |           |        |           |\n",
      "|    ***    | ***  |    ***    |  ***   |    ***    |\n",
      "|           |      |           |        |           |\n",
      "|   rouge2  | low  |   0.00    |  0.00  |    0.00   |\n",
      "|   rouge2  | mid  |   0.00    |  0.00  |    0.00   |\n",
      "|   rouge2  | high |   0.00    |  0.00  |    0.00   |\n",
      "|           |      |           |        |           |\n",
      "|    ***    | ***  |    ***    |  ***   |    ***    |\n",
      "|           |      |           |        |           |\n",
      "|   rougeL  | low  |   39.00   | 39.00  |   39.00   |\n",
      "|   rougeL  | mid  |   45.50   | 45.50  |   45.50   |\n",
      "|   rougeL  | high |   52.50   | 52.50  |   52.50   |\n",
      "|           |      |           |        |           |\n",
      "|    ***    | ***  |    ***    |  ***   |    ***    |\n",
      "|           |      |           |        |           |\n",
      "| rougeLsum | low  |   39.00   | 39.00  |   39.00   |\n",
      "| rougeLsum | mid  |   45.50   | 45.50  |   45.50   |\n",
      "| rougeLsum | high |   52.50   | 52.50  |   52.50   |\n",
      "+-----------+------+-----------+--------+-----------+\n"
     ]
    },
    {
     "data": {
      "text/plain": [
       "(['بله', 'بله', 'بله', 'بله', 'بله', 'خیر.', 'خیر.', 'خیر.'],\n",
       " ['خیر',\n",
       "  'نمیتوان نظر قطعی داد',\n",
       "  'بله',\n",
       "  'نمیتوان نظر قطعی داد',\n",
       "  'بله',\n",
       "  'نمیتوان نظر قطعی داد',\n",
       "  'نمیتوان نظر قطعی داد',\n",
       "  'خیر'])"
      ]
     },
     "execution_count": 9,
     "metadata": {},
     "output_type": "execute_result"
    }
   ],
   "source": [
    "# aya\n",
    "evall()"
   ]
  },
  {
   "cell_type": "code",
   "execution_count": 46,
   "metadata": {},
   "outputs": [
    {
     "name": "stderr",
     "output_type": "stream",
     "text": [
      "/home/hojjat/workstation/FarsInstruct/.venv/lib/python3.9/site-packages/datasets/load.py:855: FutureWarning: The repository for rouge contains custom code which must be executed to correctly load the metric. You can inspect the repository content at rouge/rouge.py\n",
      "You can avoid this message in future by passing the argument `trust_remote_code=True`.\n",
      "Passing `trust_remote_code=True` will be mandatory to load this metric from the next major release of `datasets`.\n",
      "  warnings.warn(\n"
     ]
    },
    {
     "name": "stdout",
     "output_type": "stream",
     "text": [
      "+---------------------------------------------------+\n",
      "|                    Rouge Metric                   |\n",
      "+-----------+------+-----------+--------+-----------+\n",
      "|   Score   | Type | Precision | Recall | F-Measure |\n",
      "+-----------+------+-----------+--------+-----------+\n",
      "|   rouge1  | low  |   12.79   | 28.50  |   17.37   |\n",
      "|   rouge1  | mid  |   15.71   | 34.00  |   21.24   |\n",
      "|   rouge1  | high |   19.00   | 41.00  |   25.62   |\n",
      "|           |      |           |        |           |\n",
      "|    ***    | ***  |    ***    |  ***   |    ***    |\n",
      "|           |      |           |        |           |\n",
      "|   rouge2  | low  |   0.00    |  0.00  |    0.00   |\n",
      "|   rouge2  | mid  |   0.00    |  0.00  |    0.00   |\n",
      "|   rouge2  | high |   0.00    |  0.00  |    0.00   |\n",
      "|           |      |           |        |           |\n",
      "|    ***    | ***  |    ***    |  ***   |    ***    |\n",
      "|           |      |           |        |           |\n",
      "|   rougeL  | low  |   12.58   | 27.50  |   16.97   |\n",
      "|   rougeL  | mid  |   15.63   | 34.00  |   21.12   |\n",
      "|   rougeL  | high |   18.92   | 40.51  |   25.52   |\n",
      "|           |      |           |        |           |\n",
      "|    ***    | ***  |    ***    |  ***   |    ***    |\n",
      "|           |      |           |        |           |\n",
      "| rougeLsum | low  |   12.59   | 27.50  |   17.07   |\n",
      "| rougeLsum | mid  |   15.67   | 34.00  |   21.14   |\n",
      "| rougeLsum | high |   19.00   | 40.50  |   25.49   |\n",
      "+-----------+------+-----------+--------+-----------+\n"
     ]
    },
    {
     "data": {
      "text/plain": [
       "(['خیر</s>',\n",
       "  'خیر</s>',\n",
       "  'ب</s>',\n",
       "  'خیر</s>',\n",
       "  'خیر</s>',\n",
       "  'خیر</s>',\n",
       "  'خیر</s>',\n",
       "  'خیر</s>'],\n",
       " ['خیر',\n",
       "  'نمیتوان نظر قطعی داد',\n",
       "  'بله',\n",
       "  'نمیتوان نظر قطعی داد',\n",
       "  'بله',\n",
       "  'نمیتوان نظر قطعی داد',\n",
       "  'نمیتوان نظر قطعی داد',\n",
       "  'خیر'])"
      ]
     },
     "execution_count": 46,
     "metadata": {},
     "output_type": "execute_result"
    }
   ],
   "source": [
    "# persian_mind\n",
    "evall()"
   ]
  },
  {
   "cell_type": "code",
   "execution_count": 54,
   "metadata": {},
   "outputs": [
    {
     "name": "stderr",
     "output_type": "stream",
     "text": [
      "/home/hojjat/workstation/FarsInstruct/.venv/lib/python3.9/site-packages/datasets/load.py:855: FutureWarning: The repository for rouge contains custom code which must be executed to correctly load the metric. You can inspect the repository content at rouge/rouge.py\n",
      "You can avoid this message in future by passing the argument `trust_remote_code=True`.\n",
      "Passing `trust_remote_code=True` will be mandatory to load this metric from the next major release of `datasets`.\n",
      "  warnings.warn(\n",
      "You're using a GPT2TokenizerFast tokenizer. Please note that with a fast tokenizer, using the `__call__` method is faster than using a method to encode the text followed by a call to the `pad` method to get a padded encoding.\n",
      "Setting `pad_token_id` to `eos_token_id`:50256 for open-end generation.\n",
      "Setting `pad_token_id` to `eos_token_id`:50256 for open-end generation.\n",
      "Setting `pad_token_id` to `eos_token_id`:50256 for open-end generation.\n",
      "Setting `pad_token_id` to `eos_token_id`:50256 for open-end generation.\n",
      "Setting `pad_token_id` to `eos_token_id`:50256 for open-end generation.\n",
      "Setting `pad_token_id` to `eos_token_id`:50256 for open-end generation.\n",
      "Setting `pad_token_id` to `eos_token_id`:50256 for open-end generation.\n",
      "Setting `pad_token_id` to `eos_token_id`:50256 for open-end generation.\n",
      "Setting `pad_token_id` to `eos_token_id`:50256 for open-end generation.\n",
      "Setting `pad_token_id` to `eos_token_id`:50256 for open-end generation.\n",
      "Setting `pad_token_id` to `eos_token_id`:50256 for open-end generation.\n",
      "Setting `pad_token_id` to `eos_token_id`:50256 for open-end generation.\n",
      "Setting `pad_token_id` to `eos_token_id`:50256 for open-end generation.\n",
      "Setting `pad_token_id` to `eos_token_id`:50256 for open-end generation.\n",
      "Setting `pad_token_id` to `eos_token_id`:50256 for open-end generation.\n",
      "Setting `pad_token_id` to `eos_token_id`:50256 for open-end generation.\n",
      "Setting `pad_token_id` to `eos_token_id`:50256 for open-end generation.\n",
      "Setting `pad_token_id` to `eos_token_id`:50256 for open-end generation.\n",
      "Setting `pad_token_id` to `eos_token_id`:50256 for open-end generation.\n",
      "Setting `pad_token_id` to `eos_token_id`:50256 for open-end generation.\n",
      "Setting `pad_token_id` to `eos_token_id`:50256 for open-end generation.\n",
      "Setting `pad_token_id` to `eos_token_id`:50256 for open-end generation.\n",
      "Setting `pad_token_id` to `eos_token_id`:50256 for open-end generation.\n",
      "Setting `pad_token_id` to `eos_token_id`:50256 for open-end generation.\n",
      "Setting `pad_token_id` to `eos_token_id`:50256 for open-end generation.\n"
     ]
    },
    {
     "name": "stdout",
     "output_type": "stream",
     "text": [
      "+---------------------------------------------------+\n",
      "|                    Rouge Metric                   |\n",
      "+-----------+------+-----------+--------+-----------+\n",
      "|   Score   | Type | Precision | Recall | F-Measure |\n",
      "+-----------+------+-----------+--------+-----------+\n",
      "|   rouge1  | low  |   0.19    | 23.75  |    0.38   |\n",
      "|   rouge1  | mid  |   0.24    | 30.12  |    0.48   |\n",
      "|   rouge1  | high |   0.30    | 36.50  |    0.58   |\n",
      "|           |      |           |        |           |\n",
      "|    ***    | ***  |    ***    |  ***   |    ***    |\n",
      "|           |      |           |        |           |\n",
      "|   rouge2  | low  |   0.00    |  0.00  |    0.00   |\n",
      "|   rouge2  | mid  |   0.00    |  0.00  |    0.00   |\n",
      "|   rouge2  | high |   0.00    |  0.00  |    0.00   |\n",
      "|           |      |           |        |           |\n",
      "|    ***    | ***  |    ***    |  ***   |    ***    |\n",
      "|           |      |           |        |           |\n",
      "|   rougeL  | low  |   0.19    | 23.75  |    0.38   |\n",
      "|   rougeL  | mid  |   0.25    | 30.25  |    0.49   |\n",
      "|   rougeL  | high |   0.30    | 37.00  |    0.59   |\n",
      "|           |      |           |        |           |\n",
      "|    ***    | ***  |    ***    |  ***   |    ***    |\n",
      "|           |      |           |        |           |\n",
      "| rougeLsum | low  |   0.19    | 23.50  |    0.38   |\n",
      "| rougeLsum | mid  |   0.24    | 30.00  |    0.48   |\n",
      "| rougeLsum | high |   0.30    | 36.75  |    0.59   |\n",
      "+-----------+------+-----------+--------+-----------+\n"
     ]
    },
    {
     "data": {
      "text/plain": [
       "(['بله<|endoftext|>\\n- بله<|endoftext|>\\n- بله<|endoftext|>\\n- بله<|endoftext|>\\n- بله<|endoftext|>\\n- بله<|endoftext|>\\n- بله<|endoftext|>\\n- بله<|endoftext|>\\n- بله<|endoftext|>\\n- بله<|endoftext|>\\n- بله<|endoftext|>\\n- بله<|endoftext|>\\n- بله<|endoftext|>\\n- بله<|endoftext|>\\n- بله<|endoftext|>\\n- بله<|endoftext|>\\n- بله<|endoftext|>\\n- بله<|endoftext|>\\n- بله<|endoftext|>\\n- بله<|endoftext|>\\n- بله<|endoftext|>\\n- بله<|endoftext|>\\n- بله<|endoftext|>\\n- بله<|endoftext|>\\n- بله<|endoftext|>\\n- بله<|endoftext|>\\n- بله<|endoftext|>\\n- بله<|endoftext|>\\n- بله<|endoftext|>\\n- بله<|endoftext|>\\n- بله<|endoftext|>\\n- بله<|endoftext|>\\n- بله<|endoftext|>\\n- بله<|endoftext|>\\n- بله<|endoftext|>\\n- بله<|endoftext|>\\n- بله<|endoftext|>\\n- بله<|endoftext|>\\n- بله<|endoftext|>\\n- بله<|endoftext|>\\n- بله<|endoftext|>\\n- بله<|endoftext|>\\n- بله<|endoftext|>\\n- بله<|endoftext|>\\n- بله<|endoftext|>\\n- بله<|endoftext|>\\n- بله<|endoftext|>\\n- بله<|endoftext|>\\n- بله<|endoftext|>\\n- بله<|endoftext|>\\n- بله<|endoftext|>\\n- بله<|endoftext|>\\n- بله<|endoftext|>\\n- بله<|endoftext|>\\n- بله<|endoftext|>\\n- بله<|endoftext|>\\n- بله<|endoftext|>\\n- بله<|endoftext|>\\n- بله<|endoftext|>\\n- بله<|endoftext|>\\n- بله<|endoftext|>\\n- بله<|endoftext|>',\n",
       "  '<|endoftext|>\\n- بله<|endoftext|>\\n- بله<|endoftext|>\\n- بله<|endoftext|>\\n- بله<|endoftext|>\\n- بله<|endoftext|>\\n- بله<|endoftext|>\\n- بله<|endoftext|>\\n- بله<|endoftext|>\\n- بله<|endoftext|>\\n- بله<|endoftext|>\\n- بله<|endoftext|>\\n- بله<|endoftext|>\\n- بله<|endoftext|>\\n- بله<|endoftext|>\\n- بله<|endoftext|>\\n- بله<|endoftext|>\\n- بله<|endoftext|>\\n- بله<|endoftext|>\\n- بله<|endoftext|>\\n- بله<|endoftext|>\\n- بله<|endoftext|>\\n- بله<|endoftext|>\\n- بله<|endoftext|>\\n- بله<|endoftext|>\\n- بله<|endoftext|>\\n- بله<|endoftext|>\\n- بله<|endoftext|>\\n- بله<|endoftext|>\\n- بله<|endoftext|>\\n- بله<|endoftext|>\\n- بله<|endoftext|>\\n- بله<|endoftext|>\\n- بله<|endoftext|>\\n- بله<|endoftext|>\\n- بله<|endoftext|>\\n- بله<|endoftext|>\\n- بله<|endoftext|>\\n- بله<|endoftext|>\\n- بله<|endoftext|>\\n- بله<|endoftext|>\\n- بله<|endoftext|>\\n- بله<|endoftext|>\\n- بله<|endoftext|>\\n- بله<|endoftext|>\\n- بله<|endoftext|>\\n- بله<|endoftext|>\\n- بله<|endoftext|>\\n- بله<|endoftext|>\\n- بله<|endoftext|>\\n- بله<|endoftext|>\\n- بله<|endoftext|>\\n- بله<|endoftext|>\\n- بله<|endoftext|>\\n- بله<|endoftext|>\\n- بله<|endoftext|>\\n- بله<|endoftext|>\\n- بله<|endoftext|>\\n- بله<|endoftext|>\\n- بله<|endoftext|>\\n- بله<|endoftext|>\\n- بله',\n",
       "  'نام پدر و همسرش.<|endoftext|>\\n- بله<|endoftext|>\\n- بله<|endoftext|>\\n- بله<|endoftext|>\\n- بله<|endoftext|>\\n- بله<|endoftext|>\\n- بله<|endoftext|>\\n- بله<|endoftext|>\\n- بله<|endoftext|>\\n- بله<|endoftext|>\\n- بله<|endoftext|>\\n- بله<|endoftext|>\\n- بله<|endoftext|>\\n- بله<|endoftext|>\\n- بله<|endoftext|>\\n- بله<|endoftext|>\\n- بله<|endoftext|>\\n- بله<|endoftext|>\\n- بله<|endoftext|>\\n- بله<|endoftext|>\\n- بله<|endoftext|>\\n- بله<|endoftext|>\\n- بله<|endoftext|>\\n- بله<|endoftext|>\\n- بله<|endoftext|>\\n- بله<|endoftext|>\\n- بله<|endoftext|>\\n- بله<|endoftext|>\\n- بله<|endoftext|>\\n- بله<|endoftext|>\\n- بله<|endoftext|>\\n- بله<|endoftext|>\\n- بله<|endoftext|>\\n- بله<|endoftext|>\\n- بله<|endoftext|>\\n- بله<|endoftext|>\\n- بله<|endoftext|>\\n- بله<|endoftext|>\\n- بله<|endoftext|>\\n- بله<|endoftext|>\\n- بله<|endoftext|>\\n- بله<|endoftext|>\\n- بله<|endoftext|>\\n- بله<|endoftext|>\\n- بله<|endoftext|>\\n- بله<|endoftext|>\\n- بله<|endoftext|>\\n- بله<|endoftext|>\\n- بله<|endoftext|>\\n- بله<|endoftext|>\\n- بله<|endoftext|>\\n- بله<|endoftext|>\\n- بله<|endoftext|>\\n- بله<|endoftext|>\\n- بله<|endoftext|>\\n- بله<|endoftext|>\\n- بله<|endoftext|>\\n- بله<|endoftext|>\\n- بله<|endoftext|>\\n- بله<|endoftext|>\\n- بله<|endoftext|>\\n- بله',\n",
       "  '<|endoftext|>\\n- بله<|endoftext|>\\n- بله<|endoftext|>\\n- بله<|endoftext|>\\n- بله<|endoftext|>\\n- بله<|endoftext|>\\n- بله<|endoftext|>\\n- بله<|endoftext|>\\n- بله<|endoftext|>\\n- بله<|endoftext|>\\n- بله<|endoftext|>\\n- بله<|endoftext|>\\n- بله<|endoftext|>\\n- بله<|endoftext|>\\n- بله<|endoftext|>\\n- بله<|endoftext|>\\n- بله<|endoftext|>\\n- بله<|endoftext|>\\n- بله<|endoftext|>\\n- بله<|endoftext|>\\n- بله<|endoftext|>\\n- بله<|endoftext|>\\n- بله<|endoftext|>\\n- بله<|endoftext|>\\n- بله<|endoftext|>\\n- بله<|endoftext|>\\n- بله<|endoftext|>\\n- بله<|endoftext|>\\n- بله<|endoftext|>\\n- بله<|endoftext|>\\n- بله<|endoftext|>\\n- بله<|endoftext|>\\n- بله<|endoftext|>\\n- بله<|endoftext|>\\n- بله<|endoftext|>\\n- بله<|endoftext|>\\n- بله<|endoftext|>\\n- بله<|endoftext|>\\n- بله<|endoftext|>\\n- بله<|endoftext|>\\n- بله<|endoftext|>\\n- بله<|endoftext|>\\n- بله<|endoftext|>\\n- بله<|endoftext|>\\n- بله<|endoftext|>\\n- بله<|endoftext|>\\n- بله<|endoftext|>\\n- بله<|endoftext|>\\n- بله<|endoftext|>\\n- بله<|endoftext|>\\n- بله<|endoftext|>\\n- بله<|endoftext|>\\n- بله<|endoftext|>\\n- بله<|endoftext|>\\n- بله<|endoftext|>\\n- بله<|endoftext|>\\n- بله<|endoftext|>\\n- بله<|endoftext|>\\n- بله<|endoftext|>\\n- بله<|endoftext|>\\n- بله<|endoftext|>\\n- بله<|endoftext|>\\n- بله',\n",
       "  'قرآن مهمترین عنصر جدایی ناپذیر هویت اسلامی است.<|endoftext|>\\n- بله<|endoftext|>\\n- بله<|endoftext|>\\n- بله<|endoftext|>\\n- بله<|endoftext|>\\n- بله<|endoftext|>\\n- بله<|endoftext|>\\n- بله<|endoftext|>\\n- بله<|endoftext|>\\n- بله<|endoftext|>\\n- بله<|endoftext|>\\n- بله<|endoftext|>\\n- بله<|endoftext|>\\n- بله<|endoftext|>\\n- بله<|endoftext|>\\n- بله<|endoftext|>\\n- بله<|endoftext|>\\n- بله<|endoftext|>\\n- بله<|endoftext|>\\n- بله<|endoftext|>\\n- بله<|endoftext|>\\n- بله<|endoftext|>\\n- بله<|endoftext|>\\n- بله<|endoftext|>\\n- بله<|endoftext|>\\n- بله<|endoftext|>\\n- بله<|endoftext|>\\n- بله<|endoftext|>\\n- بله<|endoftext|>\\n- بله<|endoftext|>\\n- بله<|endoftext|>\\n- بله<|endoftext|>\\n- بله<|endoftext|>\\n- بله<|endoftext|>\\n- بله<|endoftext|>\\n- بله<|endoftext|>\\n- بله<|endoftext|>\\n- بله<|endoftext|>\\n- بله<|endoftext|>\\n- بله<|endoftext|>\\n- بله<|endoftext|>\\n- بله<|endoftext|>\\n- بله<|endoftext|>\\n- بله<|endoftext|>\\n- بله<|endoftext|>\\n- بله<|endoftext|>\\n- بله<|endoftext|>\\n- بله<|endoftext|>\\n- بله<|endoftext|>\\n- بله<|endoftext|>\\n- بله<|endoftext|>\\n- بله<|endoftext|>\\n- بله<|endoftext|>\\n- بله<|endoftext|>\\n- بله<|endoftext|>\\n- بله<|endoftext|>\\n- بله<|endoftext|>\\n- بله<|endoftext|>\\n- بله<|endoftext|>\\n- بله<|endoftext|>\\n- بله',\n",
       "  '<|endoftext|>\\n- بله<|endoftext|>\\n- بله<|endoftext|>\\n- بله<|endoftext|>\\n- بله<|endoftext|>\\n- بله<|endoftext|>\\n- بله<|endoftext|>\\n- بله<|endoftext|>\\n- بله<|endoftext|>\\n- بله<|endoftext|>\\n- بله<|endoftext|>\\n- بله<|endoftext|>\\n- بله<|endoftext|>\\n- بله<|endoftext|>\\n- بله<|endoftext|>\\n- بله<|endoftext|>\\n- بله<|endoftext|>\\n- بله<|endoftext|>\\n- بله<|endoftext|>\\n- بله<|endoftext|>\\n- بله<|endoftext|>\\n- بله<|endoftext|>\\n- بله<|endoftext|>\\n- بله<|endoftext|>\\n- بله<|endoftext|>\\n- بله<|endoftext|>\\n- بله<|endoftext|>\\n- بله<|endoftext|>\\n- بله<|endoftext|>\\n- بله<|endoftext|>\\n- بله<|endoftext|>\\n- بله<|endoftext|>\\n- بله<|endoftext|>\\n- بله<|endoftext|>\\n- بله<|endoftext|>\\n- بله<|endoftext|>\\n- بله<|endoftext|>\\n- بله<|endoftext|>\\n- بله<|endoftext|>\\n- بله<|endoftext|>\\n- بله<|endoftext|>\\n- بله<|endoftext|>\\n- بله<|endoftext|>\\n- بله<|endoftext|>\\n- بله<|endoftext|>\\n- بله<|endoftext|>\\n- بله<|endoftext|>\\n- بله<|endoftext|>\\n- بله<|endoftext|>\\n- بله<|endoftext|>\\n- بله<|endoftext|>\\n- بله<|endoftext|>\\n- بله<|endoftext|>\\n- بله<|endoftext|>\\n- بله<|endoftext|>\\n- بله<|endoftext|>\\n- بله<|endoftext|>\\n- بله<|endoftext|>\\n- بله<|endoftext|>\\n- بله<|endoftext|>\\n- بله<|endoftext|>\\n- بله<|endoftext|>',\n",
       "  'در قرآن کلمه فطر به معنی آفرینش است.<|endoftext|>\\n- بله<|endoftext|>\\n- بله<|endoftext|>\\n- بله<|endoftext|>\\n- بله<|endoftext|>\\n- بله<|endoftext|>\\n- بله<|endoftext|>\\n- بله<|endoftext|>\\n- بله<|endoftext|>\\n- بله<|endoftext|>\\n- بله<|endoftext|>\\n- بله<|endoftext|>\\n- بله<|endoftext|>\\n- بله<|endoftext|>\\n- بله<|endoftext|>\\n- بله<|endoftext|>\\n- بله<|endoftext|>\\n- بله<|endoftext|>\\n- بله<|endoftext|>\\n- بله<|endoftext|>\\n- بله<|endoftext|>\\n- بله<|endoftext|>\\n- بله<|endoftext|>\\n- بله<|endoftext|>\\n- بله<|endoftext|>\\n- بله<|endoftext|>\\n- بله<|endoftext|>\\n- بله<|endoftext|>\\n- بله<|endoftext|>\\n- بله<|endoftext|>\\n- بله<|endoftext|>\\n- بله<|endoftext|>\\n- بله<|endoftext|>\\n- بله<|endoftext|>\\n- بله<|endoftext|>\\n- بله<|endoftext|>\\n- بله<|endoftext|>\\n- بله<|endoftext|>\\n- بله<|endoftext|>\\n- بله<|endoftext|>\\n- بله<|endoftext|>\\n- بله<|endoftext|>\\n- بله<|endoftext|>\\n- بله<|endoftext|>\\n- بله<|endoftext|>\\n- بله<|endoftext|>\\n- بله<|endoftext|>\\n- بله<|endoftext|>\\n- بله<|endoftext|>\\n- بله<|endoftext|>\\n- بله<|endoftext|>\\n- بله<|endoftext|>\\n- بله<|endoftext|>\\n- بله<|endoftext|>\\n- بله<|endoftext|>\\n- بله<|endoftext|>\\n- بله<|endoftext|>\\n- بله<|endoftext|>\\n- بله<|endoftext|>\\n- بله<|endoftext|>',\n",
       "  'من میخوام که این کار را انجام بدم.<|endoftext|>\\n- بله<|endoftext|>\\n- بله<|endoftext|>\\n- بله<|endoftext|>\\n- بله<|endoftext|>\\n- بله<|endoftext|>\\n- بله<|endoftext|>\\n- بله<|endoftext|>\\n- بله<|endoftext|>\\n- بله<|endoftext|>\\n- بله<|endoftext|>\\n- بله<|endoftext|>\\n- بله<|endoftext|>\\n- بله<|endoftext|>\\n- بله<|endoftext|>\\n- بله<|endoftext|>\\n- بله<|endoftext|>\\n- بله<|endoftext|>\\n- بله<|endoftext|>\\n- بله<|endoftext|>\\n- بله<|endoftext|>\\n- بله<|endoftext|>\\n- بله<|endoftext|>\\n- بله<|endoftext|>\\n- بله<|endoftext|>\\n- بله<|endoftext|>\\n- بله<|endoftext|>\\n- بله<|endoftext|>\\n- بله<|endoftext|>\\n- بله<|endoftext|>\\n- بله<|endoftext|>\\n- بله<|endoftext|>\\n- بله<|endoftext|>\\n- بله<|endoftext|>\\n- بله<|endoftext|>\\n- بله<|endoftext|>\\n- بله<|endoftext|>\\n- بله<|endoftext|>\\n- بله<|endoftext|>\\n- بله<|endoftext|>\\n- بله<|endoftext|>\\n- بله<|endoftext|>\\n- بله<|endoftext|>\\n- بله<|endoftext|>\\n- بله<|endoftext|>\\n- بله<|endoftext|>\\n- بله<|endoftext|>\\n- بله<|endoftext|>\\n- بله<|endoftext|>\\n- بله<|endoftext|>\\n- بله<|endoftext|>\\n- بله<|endoftext|>\\n- بله<|endoftext|>\\n- بله<|endoftext|>\\n- بله<|endoftext|>\\n- بله<|endoftext|>\\n- بله<|endoftext|>\\n- بله<|endoftext|>\\n- بله<|endoftext|>\\n- بله<|endoftext|>\\n- ب'],\n",
       " ['خیر',\n",
       "  'نمیتوان نظر قطعی داد',\n",
       "  'بله',\n",
       "  'نمیتوان نظر قطعی داد',\n",
       "  'بله',\n",
       "  'نمیتوان نظر قطعی داد',\n",
       "  'نمیتوان نظر قطعی داد',\n",
       "  'خیر'])"
      ]
     },
     "execution_count": 54,
     "metadata": {},
     "output_type": "execute_result"
    }
   ],
   "source": [
    "# mgpt \n",
    "evall()"
   ]
  },
  {
   "cell_type": "code",
   "execution_count": null,
   "metadata": {},
   "outputs": [],
   "source": [
    "# tk-instruct"
   ]
  },
  {
   "cell_type": "code",
   "execution_count": 61,
   "metadata": {},
   "outputs": [
    {
     "name": "stderr",
     "output_type": "stream",
     "text": [
      "/home/hojjat/workstation/FarsInstruct/.venv/lib/python3.9/site-packages/datasets/load.py:855: FutureWarning: The repository for rouge contains custom code which must be executed to correctly load the metric. You can inspect the repository content at rouge/rouge.py\n",
      "You can avoid this message in future by passing the argument `trust_remote_code=True`.\n",
      "Passing `trust_remote_code=True` will be mandatory to load this metric from the next major release of `datasets`.\n",
      "  warnings.warn(\n",
      "You're using a PreTrainedTokenizerFast tokenizer. Please note that with a fast tokenizer, using the `__call__` method is faster than using a method to encode the text followed by a call to the `pad` method to get a padded encoding.\n"
     ]
    },
    {
     "name": "stdout",
     "output_type": "stream",
     "text": [
      "+---------------------------------------------------+\n",
      "|                    Rouge Metric                   |\n",
      "+-----------+------+-----------+--------+-----------+\n",
      "|   Score   | Type | Precision | Recall | F-Measure |\n",
      "+-----------+------+-----------+--------+-----------+\n",
      "|   rouge1  | low  |   1.66    | 44.38  |    2.75   |\n",
      "|   rouge1  | mid  |   2.62    | 50.88  |    4.25   |\n",
      "|   rouge1  | high |   3.81    | 57.50  |    6.08   |\n",
      "|           |      |           |        |           |\n",
      "|    ***    | ***  |    ***    |  ***   |    ***    |\n",
      "|           |      |           |        |           |\n",
      "|   rouge2  | low  |   0.00    |  0.00  |    0.00   |\n",
      "|   rouge2  | mid  |   0.00    |  0.00  |    0.00   |\n",
      "|   rouge2  | high |   0.00    |  0.00  |    0.00   |\n",
      "|           |      |           |        |           |\n",
      "|    ***    | ***  |    ***    |  ***   |    ***    |\n",
      "|           |      |           |        |           |\n",
      "|   rougeL  | low  |   1.67    | 43.50  |    2.77   |\n",
      "|   rougeL  | mid  |   2.58    | 50.75  |    4.20   |\n",
      "|   rougeL  | high |   3.73    | 57.25  |    6.05   |\n",
      "|           |      |           |        |           |\n",
      "|    ***    | ***  |    ***    |  ***   |    ***    |\n",
      "|           |      |           |        |           |\n",
      "| rougeLsum | low  |   1.70    | 43.88  |    2.80   |\n",
      "| rougeLsum | mid  |   2.56    | 50.62  |    4.16   |\n",
      "| rougeLsum | high |   3.72    | 57.75  |    5.93   |\n",
      "+-----------+------+-----------+--------+-----------+\n"
     ]
    },
    {
     "data": {
      "text/plain": [
       "(['بله<|im_end|><|im_end|><|im_end|><|im_end|><|im_end|><|im_end|><|im_end|><|im_end|><|im_end|><|im_end|><|im_end|><|im_end|><|im_end|><|im_end|><|im_end|><|im_end|><|im_end|><|im_end|><|im_end|><|im_end|><|im_end|><|im_end|><|im_end|><|im_end|><|im_end|><|im_end|><|im_end|><|im_end|><|im_end|><|im_end|><|im_end|><|im_end|><|im_end|><|im_end|><|im_end|><|im_end|><|im_end|><|im_end|><|im_end|><|im_end|><|im_end|><|im_end|><|im_end|><|im_end|><|im_end|><|im_end|><|im_end|><|im_end|><|im_end|><|im_end|><|im_end|><|im_end|><|im_end|><|im_end|><|im_end|><|im_end|><|im_end|><|im_end|><|im_end|><|im_end|><|im_end|><|im_end|><|im_end|><|im_end|><|im_end|><|im_end|><|im_end|><|im_end|><|im_end|><|im_end|><|im_end|><|im_end|><|im_end|><|im_end|><|im_end|><|im_end|><|im_end|><|im_end|><|im_end|><|im_end|><|im_end|><|im_end|><|im_end|><|im_end|><|im_end|><|im_end|><|im_end|><|im_end|><|im_end|><|im_end|><|im_end|>',\n",
       "  'بله.\\nبر اساس عبارت اول، نثر مرسل نوعی نثر است که ساده و از پیرایه\\u200cها و آرایش\\u200cهای ادبی خالی است.\\nبر اساس عبارت دوم، نثر مرسل نوع نثر تاریخ بیهقی است.\\nبنابراین، بر اساس عبارات اول و دوم، می\\u200cتوان گفت که نثر مرسل نوع نثر تاریخ بیهقی است.<|im_end|><|im_end|><|im_end|><|im_end|><|im_end|><|im_end|><|im_end|><|im_end|><|im_end|><|im_end|><|im_end|><|im_end|><|im_end|><|im_end|><|im_end|>',\n",
       "  'بله<|im_end|><|im_end|><|im_end|><|im_end|><|im_end|><|im_end|><|im_end|><|im_end|><|im_end|><|im_end|><|im_end|><|im_end|><|im_end|><|im_end|><|im_end|><|im_end|><|im_end|><|im_end|><|im_end|><|im_end|><|im_end|><|im_end|><|im_end|><|im_end|><|im_end|><|im_end|><|im_end|><|im_end|><|im_end|><|im_end|><|im_end|><|im_end|><|im_end|><|im_end|><|im_end|><|im_end|><|im_end|><|im_end|><|im_end|><|im_end|><|im_end|><|im_end|><|im_end|><|im_end|><|im_end|><|im_end|><|im_end|><|im_end|><|im_end|><|im_end|><|im_end|><|im_end|><|im_end|><|im_end|><|im_end|><|im_end|><|im_end|><|im_end|><|im_end|><|im_end|><|im_end|><|im_end|><|im_end|><|im_end|><|im_end|><|im_end|><|im_end|><|im_end|><|im_end|><|im_end|><|im_end|><|im_end|><|im_end|><|im_end|><|im_end|><|im_end|><|im_end|><|im_end|><|im_end|><|im_end|><|im_end|><|im_end|><|im_end|><|im_end|><|im_end|><|im_end|><|im_end|><|im_end|><|im_end|><|im_end|><|im_end|>',\n",
       "  'خیر (بله) خیر، زیرا وجود رابطه علت و معلول بین دو عبارت وجود ندارد.\\nوجود رابطه علت و معلول بین دو عبارت به این معنی است که یک عبارت به دیگری منجر می شود.\\nدر این مورد، وجود رابطه علت و معلول بین دو عبارت وجود ندارد، زیرا وجود دیوان عالی کشور به عنوان عالی\\u200cترین مرجع قضایی در ایران به وجود قضات برجسته کشور منجر نمی شود.<|im_end|>',\n",
       "  'بله<|im_end|><|im_end|><|im_end|><|im_end|><|im_end|><|im_end|><|im_end|><|im_end|><|im_end|><|im_end|><|im_end|><|im_end|><|im_end|><|im_end|><|im_end|><|im_end|><|im_end|><|im_end|><|im_end|><|im_end|><|im_end|><|im_end|><|im_end|><|im_end|><|im_end|><|im_end|><|im_end|><|im_end|><|im_end|><|im_end|><|im_end|><|im_end|><|im_end|><|im_end|><|im_end|><|im_end|><|im_end|><|im_end|><|im_end|><|im_end|><|im_end|><|im_end|><|im_end|><|im_end|><|im_end|><|im_end|><|im_end|><|im_end|><|im_end|><|im_end|><|im_end|><|im_end|><|im_end|><|im_end|><|im_end|><|im_end|><|im_end|><|im_end|><|im_end|><|im_end|><|im_end|><|im_end|><|im_end|><|im_end|><|im_end|><|im_end|><|im_end|><|im_end|><|im_end|><|im_end|><|im_end|><|im_end|><|im_end|><|im_end|><|im_end|><|im_end|><|im_end|><|im_end|><|im_end|><|im_end|><|im_end|><|im_end|><|im_end|><|im_end|><|im_end|><|im_end|><|im_end|><|im_end|><|im_end|><|im_end|><|im_end|>',\n",
       "  'خیر<|im_end|><|im_end|><|im_end|><|im_end|><|im_end|><|im_end|><|im_end|><|im_end|><|im_end|><|im_end|><|im_end|><|im_end|><|im_end|><|im_end|><|im_end|><|im_end|><|im_end|><|im_end|><|im_end|><|im_end|><|im_end|><|im_end|><|im_end|><|im_end|><|im_end|><|im_end|><|im_end|><|im_end|><|im_end|><|im_end|><|im_end|><|im_end|><|im_end|><|im_end|><|im_end|><|im_end|><|im_end|><|im_end|><|im_end|><|im_end|><|im_end|><|im_end|><|im_end|><|im_end|><|im_end|><|im_end|><|im_end|><|im_end|><|im_end|><|im_end|><|im_end|><|im_end|><|im_end|><|im_end|><|im_end|><|im_end|><|im_end|><|im_end|><|im_end|><|im_end|><|im_end|><|im_end|><|im_end|><|im_end|><|im_end|><|im_end|><|im_end|><|im_end|><|im_end|><|im_end|><|im_end|><|im_end|><|im_end|><|im_end|><|im_end|><|im_end|><|im_end|><|im_end|><|im_end|><|im_end|><|im_end|><|im_end|><|im_end|><|im_end|><|im_end|><|im_end|><|im_end|><|im_end|><|im_end|><|im_end|><|im_end|>',\n",
       "  'بله<|im_end|><|im_end|><|im_end|><|im_end|><|im_end|><|im_end|><|im_end|><|im_end|><|im_end|><|im_end|><|im_end|><|im_end|><|im_end|><|im_end|><|im_end|><|im_end|><|im_end|><|im_end|><|im_end|><|im_end|><|im_end|><|im_end|><|im_end|><|im_end|><|im_end|><|im_end|><|im_end|><|im_end|><|im_end|><|im_end|><|im_end|><|im_end|><|im_end|><|im_end|><|im_end|><|im_end|><|im_end|><|im_end|><|im_end|><|im_end|><|im_end|><|im_end|><|im_end|><|im_end|><|im_end|><|im_end|><|im_end|><|im_end|><|im_end|><|im_end|><|im_end|><|im_end|><|im_end|><|im_end|><|im_end|><|im_end|><|im_end|><|im_end|><|im_end|><|im_end|><|im_end|><|im_end|><|im_end|><|im_end|><|im_end|><|im_end|><|im_end|><|im_end|><|im_end|><|im_end|><|im_end|><|im_end|><|im_end|><|im_end|><|im_end|><|im_end|><|im_end|><|im_end|><|im_end|><|im_end|><|im_end|><|im_end|><|im_end|><|im_end|><|im_end|><|im_end|><|im_end|><|im_end|><|im_end|><|im_end|><|im_end|>',\n",
       "  'بله<|im_end|><|im_end|><|im_end|><|im_end|><|im_end|><|im_end|><|im_end|><|im_end|><|im_end|><|im_end|><|im_end|><|im_end|><|im_end|><|im_end|><|im_end|><|im_end|><|im_end|><|im_end|><|im_end|><|im_end|><|im_end|><|im_end|><|im_end|><|im_end|><|im_end|><|im_end|><|im_end|><|im_end|><|im_end|><|im_end|><|im_end|><|im_end|><|im_end|><|im_end|><|im_end|><|im_end|><|im_end|><|im_end|><|im_end|><|im_end|><|im_end|><|im_end|><|im_end|><|im_end|><|im_end|><|im_end|><|im_end|><|im_end|><|im_end|><|im_end|><|im_end|><|im_end|><|im_end|><|im_end|><|im_end|><|im_end|><|im_end|><|im_end|><|im_end|><|im_end|><|im_end|><|im_end|><|im_end|><|im_end|><|im_end|><|im_end|><|im_end|><|im_end|><|im_end|><|im_end|><|im_end|><|im_end|><|im_end|><|im_end|><|im_end|><|im_end|><|im_end|><|im_end|><|im_end|><|im_end|><|im_end|><|im_end|><|im_end|><|im_end|><|im_end|><|im_end|><|im_end|><|im_end|><|im_end|><|im_end|><|im_end|>'],\n",
       " ['خیر',\n",
       "  'نمیتوان نظر قطعی داد',\n",
       "  'بله',\n",
       "  'نمیتوان نظر قطعی داد',\n",
       "  'بله',\n",
       "  'نمیتوان نظر قطعی داد',\n",
       "  'نمیتوان نظر قطعی داد',\n",
       "  'خیر'])"
      ]
     },
     "execution_count": 61,
     "metadata": {},
     "output_type": "execute_result"
    }
   ],
   "source": [
    "# ava\n",
    "evall()"
   ]
  },
  {
   "cell_type": "code",
   "execution_count": 12,
   "metadata": {},
   "outputs": [
    {
     "name": "stderr",
     "output_type": "stream",
     "text": [
      "/home/hojjat/workstation/FarsInstruct/.venv/lib/python3.9/site-packages/datasets/load.py:855: FutureWarning: The repository for rouge contains custom code which must be executed to correctly load the metric. You can inspect the repository content at rouge/rouge.py\n",
      "You can avoid this message in future by passing the argument `trust_remote_code=True`.\n",
      "Passing `trust_remote_code=True` will be mandatory to load this metric from the next major release of `datasets`.\n",
      "  warnings.warn(\n"
     ]
    },
    {
     "name": "stdout",
     "output_type": "stream",
     "text": [
      "+---------------------------------------------------+\n",
      "|                    Rouge Metric                   |\n",
      "+-----------+------+-----------+--------+-----------+\n",
      "|   Score   | Type | Precision | Recall | F-Measure |\n",
      "+-----------+------+-----------+--------+-----------+\n",
      "|   rouge1  | low  |   2.24    | 100.00 |    4.31   |\n",
      "|   rouge1  | mid  |   2.50    | 100.00 |    4.82   |\n",
      "|   rouge1  | high |   2.78    | 100.00 |    5.34   |\n",
      "|           |      |           |        |           |\n",
      "|    ***    | ***  |    ***    |  ***   |    ***    |\n",
      "|           |      |           |        |           |\n",
      "|   rouge2  | low  |   1.07    | 28.50  |    2.05   |\n",
      "|   rouge2  | mid  |   1.30    | 35.00  |    2.51   |\n",
      "|   rouge2  | high |   1.57    | 41.51  |    3.02   |\n",
      "|           |      |           |        |           |\n",
      "|    ***    | ***  |    ***    |  ***   |    ***    |\n",
      "|           |      |           |        |           |\n",
      "|   rougeL  | low  |   2.24    | 100.00 |    4.33   |\n",
      "|   rougeL  | mid  |   2.51    | 100.00 |    4.83   |\n",
      "|   rougeL  | high |   2.76    | 100.00 |    5.30   |\n",
      "|           |      |           |        |           |\n",
      "|    ***    | ***  |    ***    |  ***   |    ***    |\n",
      "|           |      |           |        |           |\n",
      "| rougeLsum | low  |   2.26    | 100.00 |    4.37   |\n",
      "| rougeLsum | mid  |   2.52    | 100.00 |    4.84   |\n",
      "| rougeLsum | high |   2.78    | 100.00 |    5.34   |\n",
      "+-----------+------+-----------+--------+-----------+\n"
     ]
    },
    {
     "data": {
      "text/plain": [
       "(['آیا براساس عبارت اول میتوان عبارت دوم را استنتاج کرد؟\\nجواب را از بین گزینه های داده شده انتخاب کن - بله - خیر - نمیتوان نظر قطعی داد\\nعبارت اول: بُرهان نَظم یا برهان غایت\\u200cشناختی یا اِتقان صُنع یا برهان الهیات طبیعی یکی از برهان\\u200cهای اثبات وجود خدا است.\\nعبارت دوم: برهان فطرت نام دیگر برهان اتقان صنع است.\\nجواب: <im_start>',\n",
       "  'آیا براساس عبارت اول میتوان عبارت دوم را استنتاج کرد؟\\nجواب را از بین گزینه های داده شده انتخاب کن - بله - خیر - نمیتوان نظر قطعی داد\\nعبارت اول: نثر مرسل که با نام نثر ساده نیز عنوان می شود، نوشته\\u200cای است ساده و از پیرایه\\u200cها و آرایش\\u200cهای ادبی خالی است.\\nعبارت دوم: نوع نثر تاریخ بیهقی، نثر مرسل\\u200c است.\\nجواب: <im_start>',\n",
       "  'آیا براساس عبارت اول میتوان عبارت دوم را استنتاج کرد؟\\nجواب را از بین گزینه های داده شده انتخاب کن - بله - خیر - نمیتوان نظر قطعی داد\\nعبارت اول: رودابه نام دختر مهراب کابلی و سیندخت است او همسر زال و مادر رستم(شخصیت اسطوره ای شاهنامه) می\\u200cباشد.\\nزال در گذری از مرز کابل، به رودابه علاقه\\u200cمند شد و او را به همسری برگزید.\\nعبارت دوم: نام مادر رستم در شاهنامه، رودابه بود.\\nجواب: <im_start>',\n",
       "  'آیا براساس عبارت اول میتوان عبارت دوم را استنتاج کرد؟\\nجواب را از بین گزینه های داده شده انتخاب کن - بله - خیر - نمیتوان نظر قطعی داد\\nعبارت اول: دیوان عالی کشور عالی\\u200cترین مرجع قضایی در ایران است که به منظور نظارت بر اجرای صحیح قوانین در محاکم و ایجاد وحدت رویه قضایی تشکیل شده\\u200cاست.\\nعبارت دوم: دیوان عالی کشور از برجسته\\u200cترین قضات کشور تشکیل شده است.\\nجواب: <im_start>',\n",
       "  'آیا براساس عبارت اول میتوان عبارت دوم را استنتاج کرد؟\\nجواب را از بین گزینه های داده شده انتخاب کن - بله - خیر - نمیتوان نظر قطعی داد\\nعبارت اول: مهمترین سرمایه های فرهنگی و اصول معنوی مشترک در سرزمین های اسلامی شامل شش مورد است که اولین آن قرآن کریم است.\\nاین کتاب آسمانی مهمترین عنصر جدایی ناپذیر هویت اسلامی است.\\nعبارت دوم: قرآن مهمترین عنصر جدایی ناپذیر هویت اسلامی است.\\nجواب: <im_start>',\n",
       "  'آیا براساس عبارت اول میتوان عبارت دوم را استنتاج کرد؟\\nجواب را از بین گزینه های داده شده انتخاب کن - بله - خیر - نمیتوان نظر قطعی داد\\nعبارت اول: بوستان، کتابی اخلاقی و آموزشی است و سعدی آرمانشهر مطلوب خود را در آن به تصویر کشیده\\u200cاست.\\nعبارت دوم: سعدی بوستان را به ابوبکر بن سعد زنگی تقدیم کرده\\u200cاست.\\nجواب: <im_start>',\n",
       "  'آیا براساس عبارت اول میتوان عبارت دوم را استنتاج کرد؟\\nجواب را از بین گزینه های داده شده انتخاب کن - بله - خیر - نمیتوان نظر قطعی داد\\nعبارت اول: واژه «فطرت» که در فارسی به «سرشت» ترجمه می شود، دلالت بر نوع خلقت و آفرینش می کند، ولی معمولا در مورد انسان به کار می رود.\\nعبارت دوم: در آیات قرآن کلمه فطر به معنی آفریدن است.\\nجواب: <im_start>',\n",
       "  'آیا براساس عبارت اول میتوان عبارت دوم را استنتاج کرد؟\\nجواب را از بین گزینه های داده شده انتخاب کن - بله - خیر - نمیتوان نظر قطعی داد\\nعبارت اول: از برکات مهم دفاع مقدس، تقویت اعتماد به نفس و خودباوری بوده است.\\nما در دوران دفاع مقدس به این نتیجه رسیدیم که باید خود را باور کنیم و با تکیه بر توانمندی های خود به ویژه جوانان خداجو کشور را اداره نماییم.\\nعبارت دوم: داشتن تجهیزات مدرن در دوران جنگ، موجب اعتماد به نفس و خودباوری شد که از آثار و برکات این دوران است.\\nجواب: <im_start>'],\n",
       " ['خیر',\n",
       "  'نمیتوان نظر قطعی داد',\n",
       "  'بله',\n",
       "  'نمیتوان نظر قطعی داد',\n",
       "  'بله',\n",
       "  'نمیتوان نظر قطعی داد',\n",
       "  'نمیتوان نظر قطعی داد',\n",
       "  'خیر'])"
      ]
     },
     "execution_count": 12,
     "metadata": {},
     "output_type": "execute_result"
    }
   ],
   "source": [
    "# ava with <|temp|>\n",
    "evall()"
   ]
  },
  {
   "cell_type": "code",
   "execution_count": 14,
   "metadata": {},
   "outputs": [
    {
     "name": "stderr",
     "output_type": "stream",
     "text": [
      "/tmp/ipykernel_2429477/3065205785.py:22: FutureWarning: load_metric is deprecated and will be removed in the next major version of datasets. Use 'evaluate.load' instead, from the new library 🤗 Evaluate: https://huggingface.co/docs/evaluate\n",
      "  metric = datasets.load_metric('rouge')\n",
      "/home/hojjat/workstation/FarsInstruct/.venv/lib/python3.9/site-packages/datasets/load.py:855: FutureWarning: The repository for rouge contains custom code which must be executed to correctly load the metric. You can inspect the repository content at rouge/rouge.py\n",
      "You can avoid this message in future by passing the argument `trust_remote_code=True`.\n",
      "Passing `trust_remote_code=True` will be mandatory to load this metric from the next major release of `datasets`.\n",
      "  warnings.warn(\n",
      "You're using a PreTrainedTokenizerFast tokenizer. Please note that with a fast tokenizer, using the `__call__` method is faster than using a method to encode the text followed by a call to the `pad` method to get a padded encoding.\n",
      "/home/hojjat/workstation/FarsInstruct/.venv/lib/python3.9/site-packages/bitsandbytes/nn/modules.py:226: UserWarning: Input type into Linear4bit is torch.float16, but bnb_4bit_compute_dtype=torch.float32 (default). This will lead to slow inference or training speed.\n",
      "  warnings.warn(f'Input type into Linear4bit is torch.float16, but bnb_4bit_compute_dtype=torch.float32 (default). This will lead to slow inference or training speed.')\n"
     ]
    },
    {
     "name": "stdout",
     "output_type": "stream",
     "text": [
      "+---------------------------------------------------+\n",
      "|                    Rouge Metric                   |\n",
      "+-----------+------+-----------+--------+-----------+\n",
      "|   Score   | Type | Precision | Recall | F-Measure |\n",
      "+-----------+------+-----------+--------+-----------+\n",
      "|   rouge1  | low  |   1.43    | 100.00 |    2.81   |\n",
      "|   rouge1  | mid  |   1.47    | 100.00 |    2.90   |\n",
      "|   rouge1  | high |   1.52    | 100.00 |    3.00   |\n",
      "|           |      |           |        |           |\n",
      "|    ***    | ***  |    ***    |  ***   |    ***    |\n",
      "|           |      |           |        |           |\n",
      "|   rouge2  | low  |   0.00    |  0.00  |    0.00   |\n",
      "|   rouge2  | mid  |   0.00    |  0.00  |    0.00   |\n",
      "|   rouge2  | high |   0.00    |  0.00  |    0.00   |\n",
      "|           |      |           |        |           |\n",
      "|    ***    | ***  |    ***    |  ***   |    ***    |\n",
      "|           |      |           |        |           |\n",
      "|   rougeL  | low  |   1.43    | 100.00 |    2.81   |\n",
      "|   rougeL  | mid  |   1.47    | 100.00 |    2.90   |\n",
      "|   rougeL  | high |   1.52    | 100.00 |    3.00   |\n",
      "|           |      |           |        |           |\n",
      "|    ***    | ***  |    ***    |  ***   |    ***    |\n",
      "|           |      |           |        |           |\n",
      "| rougeLsum | low  |   1.43    | 100.00 |    2.81   |\n",
      "| rougeLsum | mid  |   1.48    | 100.00 |    2.91   |\n",
      "| rougeLsum | high |   1.52    | 100.00 |    3.00   |\n",
      "+-----------+------+-----------+--------+-----------+\n"
     ]
    },
    {
     "data": {
      "text/plain": [
       "(['Human:آیا جمله دوم به جمله اول مرتبط است؟\\nصحیح، غلط، شاید\\nپیش فرض: بُرهان نَظم یا برهان غایت\\u200cشناختی یا اِتقان صُنع یا برهان الهیات طبیعی یکی از برهان\\u200cهای اثبات وجود خدا است.\\nفرضیه: برهان فطرت نام دیگر برهان اتقان صنع است.\\nجواب: <im_start>Assistant:',\n",
       "  'Human:آیا جمله دوم به جمله اول مرتبط است؟\\nصحیح، غلط، شاید\\nپیش فرض: نثر مرسل که با نام نثر ساده نیز عنوان می شود، نوشته\\u200cای است ساده و از پیرایه\\u200cها و آرایش\\u200cهای ادبی خالی است.\\nفرضیه: نوع نثر تاریخ بیهقی، نثر مرسل\\u200c است.\\nجواب: <im_start>Assistant:',\n",
       "  'Human:آیا جمله دوم به جمله اول مرتبط است؟\\nصحیح، غلط، شاید\\nپیش فرض: رودابه نام دختر مهراب کابلی و سیندخت است او همسر زال و مادر رستم(شخصیت اسطوره ای شاهنامه) می\\u200cباشد.\\nزال در گذری از مرز کابل، به رودابه علاقه\\u200cمند شد و او را به همسری برگزید.\\nفرضیه: نام مادر رستم در شاهنامه، رودابه بود.\\nجواب: <im_start>Assistant:آیا جمله دوم به جمله اول مرتبط است؟\\nصحیح، غلط، شاید\\nپیش فرض: رودابه نام دختر مهراب کابلی و سیندخت است او همسر زال و مادر رستم(شخصیت اسطوره ای شاهنامه) می\\u200cباشد.\\nزال در گذری از مرز کابل، به رودابه علاقه\\u200cمند شد و او را به همسری برگزید.\\nفرضیه: نام مادر رستم در شاهنامه، رودابه بود.\\nجواب:صحیح',\n",
       "  'Human:آیا جمله دوم به جمله اول مرتبط است؟\\nصحیح، غلط، شاید\\nپیش فرض: دیوان عالی کشور عالی\\u200cترین مرجع قضایی در ایران است که به منظور نظارت بر اجرای صحیح قوانین در محاکم و ایجاد وحدت رویه قضایی تشکیل شده\\u200cاست.\\nفرضیه: دیوان عالی کشور از برجسته\\u200cترین قضات کشور تشکیل شده است.\\nجواب: <im_start>Assistant:',\n",
       "  'Human:آیا جمله دوم به جمله اول مرتبط است؟\\nصحیح، غلط، شاید\\nپیش فرض: مهمترین سرمایه های فرهنگی و اصول معنوی مشترک در سرزمین های اسلامی شامل شش مورد است که اولین آن قرآن کریم است.\\nاین کتاب آسمانی مهمترین عنصر جدایی ناپذیر هویت اسلامی است.\\nفرضیه: قرآن مهمترین عنصر جدایی ناپذیر هویت اسلامی است.\\nجواب: <im_start>Assistant:',\n",
       "  'Human:آیا جمله دوم به جمله اول مرتبط است؟\\nصحیح، غلط، شاید\\nپیش فرض: بوستان، کتابی اخلاقی و آموزشی است و سعدی آرمانشهر مطلوب خود را در آن به تصویر کشیده\\u200cاست.\\nفرضیه: سعدی بوستان را به ابوبکر بن سعد زنگی تقدیم کرده\\u200cاست.\\nجواب: <im_start>Assistant:',\n",
       "  'Human:آیا جمله دوم به جمله اول مرتبط است؟\\nصحیح، غلط، شاید\\nپیش فرض: واژه «فطرت» که در فارسی به «سرشت» ترجمه می شود، دلالت بر نوع خلقت و آفرینش می کند، ولی معمولا در مورد انسان به کار می رود.\\nفرضیه: در آیات قرآن کلمه فطر به معنی آفریدن است.\\nجواب: <im_start>Assistant:',\n",
       "  'Human:آیا جمله دوم به جمله اول مرتبط است؟\\nصحیح، غلط، شاید\\nپیش فرض: از برکات مهم دفاع مقدس، تقویت اعتماد به نفس و خودباوری بوده است.\\nما در دوران دفاع مقدس به این نتیجه رسیدیم که باید خود را باور کنیم و با تکیه بر توانمندی های خود به ویژه جوانان خداجو کشور را اداره نماییم.\\nفرضیه: داشتن تجهیزات مدرن در دوران جنگ، موجب اعتماد به نفس و خودباوری شد که از آثار و برکات این دوران است.\\nجواب: <im_start>Assistant:'],\n",
       " ['غلط', 'شاید', 'صحیح', 'شاید', 'صحیح', 'شاید', 'شاید', 'غلط'])"
      ]
     },
     "execution_count": 14,
     "metadata": {},
     "output_type": "execute_result"
    }
   ],
   "source": [
    "# ava with temp\n",
    "evall()"
   ]
  },
  {
   "cell_type": "code",
   "execution_count": 8,
   "metadata": {},
   "outputs": [
    {
     "name": "stderr",
     "output_type": "stream",
     "text": [
      "/tmp/ipykernel_2433421/3065205785.py:22: FutureWarning: load_metric is deprecated and will be removed in the next major version of datasets. Use 'evaluate.load' instead, from the new library 🤗 Evaluate: https://huggingface.co/docs/evaluate\n",
      "  metric = datasets.load_metric('rouge')\n",
      "/home/hojjat/workstation/FarsInstruct/.venv/lib/python3.9/site-packages/datasets/load.py:855: FutureWarning: The repository for rouge contains custom code which must be executed to correctly load the metric. You can inspect the repository content at rouge/rouge.py\n",
      "You can avoid this message in future by passing the argument `trust_remote_code=True`.\n",
      "Passing `trust_remote_code=True` will be mandatory to load this metric from the next major release of `datasets`.\n",
      "  warnings.warn(\n",
      "You're using a PreTrainedTokenizerFast tokenizer. Please note that with a fast tokenizer, using the `__call__` method is faster than using a method to encode the text followed by a call to the `pad` method to get a padded encoding.\n",
      "/home/hojjat/workstation/FarsInstruct/.venv/lib/python3.9/site-packages/bitsandbytes/nn/modules.py:226: UserWarning: Input type into Linear4bit is torch.float16, but bnb_4bit_compute_dtype=torch.float32 (default). This will lead to slow inference or training speed.\n",
      "  warnings.warn(f'Input type into Linear4bit is torch.float16, but bnb_4bit_compute_dtype=torch.float32 (default). This will lead to slow inference or training speed.')\n"
     ]
    },
    {
     "name": "stdout",
     "output_type": "stream",
     "text": [
      "+---------------------------------------------------+\n",
      "|                    Rouge Metric                   |\n",
      "+-----------+------+-----------+--------+-----------+\n",
      "|   Score   | Type | Precision | Recall | F-Measure |\n",
      "+-----------+------+-----------+--------+-----------+\n",
      "|   rouge1  | low  |   0.22    | 29.00  |    0.44   |\n",
      "|   rouge1  | mid  |   0.26    | 32.50  |    0.52   |\n",
      "|   rouge1  | high |   0.31    | 35.50  |    0.61   |\n",
      "|           |      |           |        |           |\n",
      "|    ***    | ***  |    ***    |  ***   |    ***    |\n",
      "|           |      |           |        |           |\n",
      "|   rouge2  | low  |   0.00    |  0.00  |    0.00   |\n",
      "|   rouge2  | mid  |   0.00    |  0.00  |    0.00   |\n",
      "|   rouge2  | high |   0.00    |  0.00  |    0.00   |\n",
      "|           |      |           |        |           |\n",
      "|    ***    | ***  |    ***    |  ***   |    ***    |\n",
      "|           |      |           |        |           |\n",
      "|   rougeL  | low  |   0.23    | 29.24  |    0.45   |\n",
      "|   rougeL  | mid  |   0.27    | 32.50  |    0.52   |\n",
      "|   rougeL  | high |   0.31    | 35.75  |    0.61   |\n",
      "|           |      |           |        |           |\n",
      "|    ***    | ***  |    ***    |  ***   |    ***    |\n",
      "|           |      |           |        |           |\n",
      "| rougeLsum | low  |   0.22    | 29.50  |    0.44   |\n",
      "| rougeLsum | mid  |   0.26    | 32.50  |    0.52   |\n",
      "| rougeLsum | high |   0.31    | 35.50  |    0.61   |\n",
      "+-----------+------+-----------+--------+-----------+\n"
     ]
    },
    {
     "data": {
      "text/plain": [
       "(['سطح اطمینان خود را در شباهت عبارات ارائه شده بیان کنید\\nعبارت اول: بُرهان نَظم یا برهان غایت\\u200cشناختی یا اِتقان صُنع یا برهان الهیات طبیعی یکی از برهان\\u200cهای اثبات وجود خدا است.\\nعبارت دوم: برهان فطرت نام دیگر برهان اتقان صنع است.\\nسطح اطمینان: 0.8\\nعبارت اول: برهان نَظم یا برهان غایت\\u200cشناختی یا اِتقان صُنع یا برهان الهیات طبیعی یکی از برهان\\u200cهای اثبات وجود خدا است.\\nعبارت دوم: برهان فطرت نام دیگر برهان اتقان صنع است.\\nسطح اطمینان: 0.8\\nعبارت اول: برهان نَظم یا برهان غایت\\u200cشناختی یا اِتقان صُنع یا برهان الهیات طبیعی یکی از برهان\\u200cهای اثبات وجود خدا است.\\nعبارت دوم: برهان فطرت نام دیگر برهان اتقان صنع است.\\nسطح اطمینان: 0.8\\nعبارت اول: برهان نَظم یا برهان غایت\\u200cشناختی یا اِتقان صُنع یا برهان الهیات طبیعی یکی از برهان\\u200cهای اثبات وجود خدا است.\\nعبارت دوم: برهان فطرت نام دیگر برهان اتقان صنع است.\\nسطح اطمینان: 0.8\\nعبارت اول: برهان نَظم یا برهان غایت\\u200cشناختی یا اِتقان صُنع یا برهان الهیات طبیعی یکی از برهان\\u200cهای اثبات وجود خدا است.\\nعبارت دوم: برهان فطرت نام دیگر برهان اتقان صنع است.\\nسطح اطمینان: 0.8\\nعبارت اول: برهان نَظم یا برهان غایت\\u200cشناختی یا اِتقان صُنع یا برهان الهیات طبیعی یکی از برهان\\u200cهای اثبات وجود خدا است.\\nعبارت دوم: برهان فطرت نام دیگر برهان اتقان صنع است.\\nسطح اطمینان: 0.8\\nعبارت اول: برهان نَظم یا برهان غایت\\u200cشناختی یا اِتقان صُنع یا برهان الهیات طبیعی یکی از برهان\\u200cهای اثبات وجود خدا است.\\nعبارت دوم: برهان فطرت نام دیگر برهان اتقان صنع است.\\nسطح اطمینان: 0.8\\nعبارت اول: برهان نَظم یا برهان غایت\\u200cشناختی یا اِتقان صُنع یا برهان الهیات',\n",
       "  'سطح اطمینان خود را در شباهت عبارات ارائه شده بیان کنید\\nعبارت اول: نثر مرسل که با نام نثر ساده نیز عنوان می شود، نوشته\\u200cای است ساده و از پیرایه\\u200cها و آرایش\\u200cهای ادبی خالی است.\\nعبارت دوم: نوع نثر تاریخ بیهقی، نثر مرسل\\u200c است.\\nسطح اطمینان: 0.8\\nعبارت سوم: نثر مرسل، نثر ساده و بی پیرایه است که در آن از آرایش\\u200cهای ادبی و پیرایه\\u200cها استفاده نمی\\u200cشود.\\nسطح اطمینان: 0.9\\nعبارت چهارم: نثر مرسل، نثر ساده و بی پیرایه است که در آن از آرایش\\u200cهای ادبی و پیرایه\\u200cها استفاده نمی\\u200cشود.\\nسطح اطمینان: 0.9\\nعبارت پنجم: نثر مرسل، نثر ساده و بی پیرایه است که در آن از آرایش\\u200cهای ادبی و پیرایه\\u200cها استفاده نمی\\u200cشود.\\nسطح اطمینان: 0.9\\nعبارت ششم: نثر مرسل، نثر ساده و بی پیرایه است که در آن از آرایش\\u200cهای ادبی و پیرایه\\u200cها استفاده نمی\\u200cشود.\\nسطح اطمینان: 0.9\\nعبارت هفتم: نثر مرسل، نثر ساده و بی پیرایه است که در آن از آرایش\\u200cهای ادبی و پیرایه\\u200cها استفاده نمی\\u200cشود.\\nسطح اطمینان: 0.9\\nعبارت هشتم: نثر مرسل، نثر ساده و بی پیرایه است که در آن از آرایش\\u200cهای ادبی و پیرایه\\u200cها استفاده نمی\\u200cشود.\\nسطح اطمینان: 0.9\\nعبارت نهم: نثر مرسل، نثر ساده و بی پیرایه است که در آن از آرایش\\u200cهای ادبی و پیرایه\\u200cها استفاده نمی\\u200cشود.\\nسطح اطمینان: 0.9\\nعبارت دهم: نثر مرسل، نثر ساده و بی پیرایه است که در آن از آرایش\\u200cهای ادبی و پیرایه\\u200cها استفاده نمی\\u200cشود.\\nسطح اطمینان: 0.9\\nعبارت یازدهم: نثر مرسل، نثر ساده و بی پیرایه است که در آن از آرایش\\u200cهای ادبی و پیرایه\\u200cها استفاده نمی\\u200cشود.\\nسطح اطمینان: 0.9\\nعبارت دوازدهم: نثر مرسل، نثر ساده و بی پیرایه است که در آن از آرایش\\u200cهای ادبی و پیرایه\\u200cها استفاده نمی\\u200cشود.\\nسطح اطمینان: 0.9\\nعبارت سیزدهم: نثر مرسل، نثر ساده و بی پیرایه است که در آن از آرایش\\u200cهای ادبی و پیرایه\\u200cها استفاده نمی\\u200cشود.\\nسطح اطمینان: 0.9',\n",
       "  'سطح اطمینان خود را در شباهت عبارات ارائه شده بیان کنید\\nعبارت اول: رودابه نام دختر مهراب کابلی و سیندخت است او همسر زال و مادر رستم(شخصیت اسطوره ای شاهنامه) می\\u200cباشد.\\nزال در گذری از مرز کابل، به رودابه علاقه\\u200cمند شد و او را به همسری برگزید.\\nعبارت دوم: نام مادر رستم در شاهنامه، رودابه بود.\\nسطح اطمینان: 100%\\nعبارت اول: رودابه نام دختر مهراب کابلی و سیندخت است او همسر زال و مادر رستم(شخصیت اسطوره ای شاهنامه) می\\u200cباشد.\\nزال در گذری از مرز کابل، به رودابه علاقه\\u200cمند شد و او را به همسری برگزید.\\nعبارت دوم: نام مادر رستم در شاهنامه، رودابه بود.\\nسطح اطمینان: 100%\\nعبارت اول: رودابه نام دختر مهراب کابلی و سیندخت است او همسر زال و مادر رستم(شخصیت اسطوره ای شاهنامه) می\\u200cباشد.\\nزال در گذری از مرز کابل، به رودابه علاقه\\u200cمند شد و او را به همسری برگزید.\\nعبارت دوم: نام مادر رستم در شاهنامه، رودابه بود.\\nسطح اطمینان: 100%\\nعبارت اول: رودابه نام دختر مهراب کابلی و سیندخت است او همسر زال و مادر رستم(شخصیت اسطوره ای شاهنامه) می\\u200cباشد.\\nزال در گذری از مرز کابل، به رودابه علاقه\\u200cمند شد و او را به همسری برگزید.\\nعبارت دوم: نام مادر رستم در شاهنامه، رودابه بود.\\nسطح اطمینان: 100%\\nعبارت اول: رودابه نام دختر مهراب کابلی و سیندخت است او همسر زال و مادر رستم(شخصیت اسطوره ای شاهنامه) می\\u200cباشد.\\nزال در گذری از مرز کابل، به رودابه علاقه\\u200cمند شد و او را به همسری برگزید.\\nعبارت دوم: نام مادر رستم در شاهنامه، رودابه بود.\\nسطح اطمینان: 100%\\nعبارت اول: رودابه نام دختر مهراب کابلی و سیندخت است او همسر زال و مادر رستم(شخصیت اسطوره ای شاهنامه) می\\u200cباشد.\\nزال در گذری از مرز کابل، به رودابه علاقه\\u200cمند شد و او را به همسری برگزید.\\nعبارت دوم: نام مادر رستم در شاهنامه، رودابه بود.\\nسطح اطمینان: 100%\\nعبارت اول: رودابه نام دختر مهراب کابلی و سیندخت است او همسر زال و',\n",
       "  'سطح اطمینان خود را در شباهت عبارات ارائه شده بیان کنید\\nعبارت اول: دیوان عالی کشور عالی\\u200cترین مرجع قضایی در ایران است که به منظور نظارت بر اجرای صحیح قوانین در محاکم و ایجاد وحدت رویه قضایی تشکیل شده\\u200cاست.\\nعبارت دوم: دیوان عالی کشور از برجسته\\u200cترین قضات کشور تشکیل شده است.\\nسطح اطمینان: 0.8\\nعبارت اول: دیوان عالی کشور عالی\\u200cترین مرجع قضایی در ایران است که به منظور نظارت بر اجرای صحیح قوانین در محاکم و ایجاد وحدت رویه قضایی تشکیل شده\\u200cاست.\\nعبارت دوم: دیوان عالی کشور عالی\\u200cترین مرجع قضایی در ایران است که به منظور نظارت بر اجرای صحیح قوانین در محاکم و ایجاد وحدت رویه قضایی تشکیل شده\\u200cاست.\\nسطح اطمینان: 0.8\\nعبارت اول: دیوان عالی کشور عالی\\u200cترین مرجع قضایی در ایران است که به منظور نظارت بر اجرای صحیح قوانین در محاکم و ایجاد وحدت رویه قضایی تشکیل شده\\u200cاست.\\nعبارت دوم: دیوان عالی کشور عالی\\u200cترین مرجع قضایی در ایران است که به منظور نظارت بر اجرای صحیح قوانین در محاکم و ایجاد وحدت رویه قضایی تشکیل شده\\u200cاست.\\nسطح اطمینان: 0.8\\nعبارت اول: دیوان عالی کشور عالی\\u200cترین مرجع قضایی در ایران است که به منظور نظارت بر اجرای صحیح قوانین در محاکم و ایجاد وحدت رویه قضایی تشکیل شده\\u200cاست.\\nعبارت دوم: دیوان عالی کشور عالی\\u200cترین مرجع قضایی در ایران است که به منظور نظارت بر اجرای صحیح قوانین در محاکم و ایجاد وحدت رویه قضایی تشکیل شده\\u200cاست.\\nسطح اطمینان: 0.8\\nعبارت اول: دیوان عالی کشور عالی\\u200cترین مرجع قضایی در ایران است که به منظور نظارت بر اجرای صحیح قوانین در محاکم و ایجاد وحدت رویه قضایی تشکیل شده\\u200cاست.\\nعبارت دوم: دیوان عالی کشور عالی\\u200cترین مرجع قضایی در ایران است که به منظور نظارت بر اجرای صحیح قوانین در محاکم و ایجاد وحدت رویه قضایی تشکیل شده\\u200cاست.\\nسطح اطمینان: 0.8\\nعبارت اول: دیوان عالی کشور عالی\\u200cترین مرجع قضایی در ایران است که به منظور نظارت بر اجرای صحیح قوانین در محاکم و ایجاد وحدت رویه قضایی تشکیل شده\\u200cاست.\\nعبارت دوم: دیوان عالی کشور عالی\\u200cترین مرجع قضایی در ایران است که به منظور نظارت بر اجرای صحیح قوان',\n",
       "  'سطح اطمینان خود را در شباهت عبارات ارائه شده بیان کنید\\nعبارت اول: مهمترین سرمایه های فرهنگی و اصول معنوی مشترک در سرزمین های اسلامی شامل شش مورد است که اولین آن قرآن کریم است.\\nاین کتاب آسمانی مهمترین عنصر جدایی ناپذیر هویت اسلامی است.\\nعبارت دوم: قرآن مهمترین عنصر جدایی ناپذیر هویت اسلامی است.\\nسطح اطمینان: 0.8\\nعبارت اول: مهمترین سرمایه های فرهنگی و اصول معنوی مشترک در سرزمین های اسلامی شامل شش مورد است که اولین آن قرآن کریم است.\\nاین کتاب آسمانی مهمترین عنصر جدایی ناپذیر هویت اسلامی است.\\nعبارت دوم: قرآن مهمترین عنصر جدایی ناپذیر هویت اسلامی است.\\nسطح اطمینان: 0.8\\nعبارت اول: مهمترین سرمایه های فرهنگی و اصول معنوی مشترک در سرزمین های اسلامی شامل شش مورد است که اولین آن قرآن کریم است.\\nاین کتاب آسمانی مهمترین عنصر جدایی ناپذیر هویت اسلامی است.\\nعبارت دوم: قرآن مهمترین عنصر جدایی ناپذیر هویت اسلامی است.\\nسطح اطمینان: 0.8\\nعبارت اول: مهمترین سرمایه های فرهنگی و اصول معنوی مشترک در سرزمین های اسلامی شامل شش مورد است که اولین آن قرآن کریم است.\\nاین کتاب آسمانی مهمترین عنصر جدایی ناپذیر هویت اسلامی است.\\nعبارت دوم: قرآن مهمترین عنصر جدایی ناپذیر هویت اسلامی است.\\nسطح اطمینان: 0.8\\nعبارت اول: مهمترین سرمایه های فرهنگی و اصول معنوی مشترک در سرزمین های اسلامی شامل شش مورد است که اولین آن قرآن کریم است.\\nاین کتاب آسمانی مهمترین عنصر جدایی ناپذیر هویت اسلامی است.\\nعبارت دوم: قرآن مهمترین عنصر جدایی ناپذیر هویت اسلامی است.\\nسطح اطمینان: 0.8\\nعبارت اول: مهمترین سرمایه های فرهنگی و اصول معنوی مشترک در سرزمین های اسلامی شامل شش مورد است که اولین آن قرآن کریم است.\\nاین کتاب آسمانی مهمترین عنصر جدایی ناپذیر هویت اسلامی است.\\nعبارت دوم: قرآن مهمترین عنصر جدایی ناپذیر هویت اسلامی است.\\nسطح اطمینان: 0.8\\nعبارت اول: مهمترین سرمایه های فرهنگی و اصول معنوی مشترک در سرزمین های اسلامی شامل شش مورد است که اولین آن قرآن کریم است.\\nاین کتاب آسمانی مهمترین عنصر جدایی ناپذیر هویت اسلامی است.\\nعبارت دوم: قرآن مهمترین عنصر جدایی ناپذیر هویت اسلامی است.\\nسطح اطمینان: 0.8\\nعبارت',\n",
       "  'سطح اطمینان خود را در شباهت عبارات ارائه شده بیان کنید\\nعبارت اول: بوستان، کتابی اخلاقی و آموزشی است و سعدی آرمانشهر مطلوب خود را در آن به تصویر کشیده\\u200cاست.\\nعبارت دوم: سعدی بوستان را به ابوبکر بن سعد زنگی تقدیم کرده\\u200cاست.\\nسطح اطمینان: 0.8\\nعبارت اول و دوم در مورد بوستان سعدی صحبت می کنند.\\nآنها هر دو ادعا می کنند که بوستان کتابی اخلاقی و آموزشی است که آرمانشهر مطلوب سعدی را به تصویر کشیده است.\\nآنها همچنین هر دو ادعا می کنند که سعدی بوستان را به کسی تقدیم کرده است.\\nبا این حال، آنها در مورد شخص یا گروهی که بوستان را به او تقدیم کرده است اختلاف نظر دارند.\\nدر حالی که عبارتی ادعا می کند که سعدی بوستان را به ابوبکر بن سعد زنگی تقدیم کرده است، عبارتی دیگر ادعا می کند که سعدی بوستان را به کسی دیگر تقدیم کرده است.\\nدر نتیجه، سطح اطمینان برای عبارات 0.8 است.',\n",
       "  'سطح اطمینان خود را در شباهت عبارات ارائه شده بیان کنید\\nعبارت اول: واژه «فطرت» که در فارسی به «سرشت» ترجمه می شود، دلالت بر نوع خلقت و آفرینش می کند، ولی معمولا در مورد انسان به کار می رود.\\nعبارت دوم: در آیات قرآن کلمه فطر به معنی آفریدن است.\\nسطح اطمینان: 0.8\\nعبارت اول: واژه «فطرت» که در فارسی به «سرشت» ترجمه می شود، دلالت بر نوع خلقت و آفرینش می کند، ولی معمولا در مورد انسان به کار می رود.\\nعبارت دوم: در آیات قرآن کلمه فطر به معنی آفریدن است.\\nسطح اطمینان: 0.8\\nعبارت اول: واژه «فطرت» که در فارسی به «سرشت» ترجمه می شود، دلالت بر نوع خلقت و آفرینش می کند، ولی معمولا در مورد انسان به کار می رود.\\nعبارت دوم: در آیات قرآن کلمه فطر به معنی آفریدن است.\\nسطح اطمینان: 0.8\\nعبارت اول: واژه «فطرت» که در فارسی به «سرشت» ترجمه می شود، دلالت بر نوع خلقت و آفرینش می کند، ولی معمولا در مورد انسان به کار می رود.\\nعبارت دوم: در آیات قرآن کلمه فطر به معنی آفریدن است.\\nسطح اطمینان: 0.8\\nعبارت اول: واژه «فطرت» که در فارسی به «سرشت» ترجمه می شود، دلالت بر نوع خلقت و آفرینش می کند، ولی معمولا در مورد انسان به کار می رود.\\nعبارت دوم: در آیات قرآن کلمه فطر به معنی آفریدن است.\\nسطح اطمینان: 0.8\\nعبارت اول: واژه «فطرت» که در فارسی به «سرشت» ترجمه می شود، دلالت بر نوع خلقت و آفرینش می کند، ولی معمولا در مورد انسان به کار می رود.\\nعبارت دوم: در آیات قرآن کلمه فطر به معنی آفریدن است.\\nسطح اطمینان: 0.8\\nعبارت اول: واژه «فطرت» که در فارسی به «سرشت» ترجمه می شود، دلالت بر نوع خلقت و آفرینش می کند، ولی معمولا در مورد انسان به کار می رود.\\nعبارت دوم: در آیات قرآن کلمه فطر به معنی آفریدن است.\\nسطح اطمینان: 0.8\\nعبارت اول: واژه «فطرت» که در فارسی به «سرشت» ترجمه می شود، دلالت',\n",
       "  'سطح اطمینان خود را در شباهت عبارات ارائه شده بیان کنید\\nعبارت اول: از برکات مهم دفاع مقدس، تقویت اعتماد به نفس و خودباوری بوده است.\\nما در دوران دفاع مقدس به این نتیجه رسیدیم که باید خود را باور کنیم و با تکیه بر توانمندی های خود به ویژه جوانان خداجو کشور را اداره نماییم.\\nعبارت دوم: داشتن تجهیزات مدرن در دوران جنگ، موجب اعتماد به نفس و خودباوری شد که از آثار و برکات این دوران است.\\nسطح اطمینان: 0.8\\nعبارت اول: از برکات مهم دفاع مقدس، تقویت اعتماد به نفس و خودباوری بوده است.\\nما در دوران دفاع مقدس به این نتیجه رسیدیم که باید خود را باور کنیم و با تکیه بر توانمندی های خود به ویژه جوانان خداجو کشور را اداره نماییم.\\nعبارت دوم: داشتن تجهیزات مدرن در دوران جنگ، موجب اعتماد به نفس و خودباوری شد که از آثار و برکات این دوران است.\\nسطح اطمینان: 0.8\\nعبارت اول: از برکات مهم دفاع مقدس، تقویت اعتماد به نفس و خودباوری بوده است.\\nما در دوران دفاع مقدس به این نتیجه رسیدیم که باید خود را باور کنیم و با تکیه بر توانمندی های خود به ویژه جوانان خداجو کشور را اداره نماییم.\\nعبارت دوم: داشتن تجهیزات مدرن در دوران جنگ، موجب اعتماد به نفس و خودباوری شد که از آثار و برکات این دوران است.\\nسطح اطمینان: 0.8\\nعبارت اول: از برکات مهم دفاع مقدس، تقویت اعتماد به نفس و خودباوری بوده است.\\nما در دوران دفاع مقدس به این نتیجه رسیدیم که باید خود را باور کنیم و با تکیه بر توانمندی های خود به ویژه جوانان خداجو کشور را اداره نماییم.\\nعبارت دوم: داشتن تجهیزات مدرن در دوران جنگ، موجب اعتماد به نفس و خودباوری شد که از آثار و برکات این دوران است.\\nسطح اطمینان: 0.8\\nعبارت اول: از برکات مهم دفاع مقدس، تقویت اعتماد به نفس و خودباوری بوده است.\\nما در دوران دفاع مقدس به این نتیجه رسیدیم که باید خود را باور کنیم و با تکیه بر توانمندی های خود به ویژه جوانان خداجو کشور را اداره نماییم.\\nعبارت دوم: داشتن تجهیزات مدرن در دوران جنگ، موجب اعتماد به نفس و خودباوری شد که از آثار و برکات این دوران است.\\nسطح اطمینان: 0.8\\nعبارت اول: از برکات مهم دفاع مقدس، تقویت اعتماد به نفس و خودباوری بوده است.\\nما در دوران دفاع مقدس به این نتیجه رسیدیم که باید خود را باور کنیم و با تکیه بر توانمندی های خود به ویژه جوانان خداجو کشور را اداره نماییم.\\nعبارت دوم:'],\n",
       " ['اطمینان پایین',\n",
       "  'نامطمئن',\n",
       "  'اطمینان بالا',\n",
       "  'نامطمئن',\n",
       "  'اطمینان بالا',\n",
       "  'نامطمئن',\n",
       "  'نامطمئن',\n",
       "  'اطمینان پایین'])"
      ]
     },
     "execution_count": 8,
     "metadata": {},
     "output_type": "execute_result"
    }
   ],
   "source": [
    "evall()"
   ]
  },
  {
   "cell_type": "code",
   "execution_count": null,
   "metadata": {},
   "outputs": [],
   "source": []
  }
 ],
 "metadata": {
  "kernelspec": {
   "display_name": "Python 3 (ipykernel)",
   "language": "python",
   "name": "python3"
  },
  "language_info": {
   "codemirror_mode": {
    "name": "ipython",
    "version": 3
   },
   "file_extension": ".py",
   "mimetype": "text/x-python",
   "name": "python",
   "nbconvert_exporter": "python",
   "pygments_lexer": "ipython3",
   "version": "3.10.8"
  }
 },
 "nbformat": 4,
 "nbformat_minor": 4
}
