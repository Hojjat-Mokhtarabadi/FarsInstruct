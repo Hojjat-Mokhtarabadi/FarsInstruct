{
 "cells": [
  {
   "cell_type": "code",
   "execution_count": 1,
   "metadata": {},
   "outputs": [],
   "source": [
    "from transformers import AutoTokenizer\n",
    "from eval_dataset import FarsInstructEvalDataset\n",
    "\n",
    "# checkpoint = \"/media/abbas/Backup/mGPT-1.3B-persian/\"\n",
    "# checkpoint = \"/media/abbas/Backup/aya\"\n",
    "# checkpoint = \"/media/abbas/Backup/PersianMind-v1.0\"\n",
    "checkpoint = \"/media/abbas/Backup/ava-llama3/\"\n",
    "path = \"../data/1shot_instruct_dataset_test_entailment-sentiment-pharaphrase.csv\"\n",
    "tokenizer = AutoTokenizer.from_pretrained(checkpoint, padding_side=\"left\")\n",
    "\n",
    "ds = FarsInstructEvalDataset(tokenizer, 200, 'none', 'test', shots=1, path=path)\n",
    "encoded_ds = ds.get_tokenized_data('PNLPhub/FarsTail', 'confidence', multiple_choice=False)\n"
   ]
  },
  {
   "cell_type": "code",
   "execution_count": 2,
   "metadata": {},
   "outputs": [
    {
     "data": {
      "text/plain": [
       "Dataset({\n",
       "    features: ['input_ids', 'attention_mask', 'labels'],\n",
       "    num_rows: 200\n",
       "})"
      ]
     },
     "execution_count": 2,
     "metadata": {},
     "output_type": "execute_result"
    }
   ],
   "source": [
    "encoded_ds"
   ]
  },
  {
   "cell_type": "code",
   "execution_count": 3,
   "metadata": {},
   "outputs": [
    {
     "name": "stdout",
     "output_type": "stream",
     "text": [
      "<|im_end|><|im_end|><|im_end|><|im_end|><|im_end|><|im_end|><|im_end|><|im_end|><|im_end|><|im_end|><|im_end|><|im_end|><|im_end|><|im_end|><|im_end|><|im_end|><|im_end|><|im_end|><|im_end|><|im_end|><|im_end|><|im_end|><|im_end|><|im_end|><|im_end|><|im_end|><|im_end|><|im_end|><|im_end|><|im_end|><|im_end|><|im_end|><|im_end|><|im_end|><|im_end|><|im_end|><|im_end|><|im_end|><|im_end|><|im_end|><|im_end|><|im_end|><|im_end|><|im_end|><|im_end|><|im_end|><|im_end|><|im_end|><|im_end|><|im_end|><|im_end|><|im_end|><|im_end|><|im_end|><|im_end|><|im_end|><|im_end|><|im_end|><|im_end|><|im_end|>سطح اطمینان خود را در شباهت عبارات ارائه شده بیان کنید\n",
      "\n",
      "عبارت اول: کارستن نیبور شرق شناس و باستان شناس آلمانی اولین کسی بود که در سال ۱۱۴۴ هجری خورشیدی از تخت جمشید و نواحی جنوبی و مرکزی ایران بازدید کرد، وی با بررسی تخت جمشید، برای اولین بار گزارشهای بسیار مهم علمی از تخت جمشید ارائه داد.\n",
      "عبارت دوم: گروتفند نخستین مورخی است که از تخت جمشید بازدید کرد و اولین گزارش علمی را از تخت جمشید ارائه داد.\n",
      "سطح اطمینان:\n",
      "!!!!!!!!!!!!!!!!!!!!!!!!!!!!!!!!!!!!!!!!!!!!!!!!!!!!!!!!!!!!\"\"\"\"\"\"\"\"\"\"\"\"\"\"\"\"\"\"\"\"\"\"\"\"\"\"\"\"\"\"\"\"\"\"\"\"\"\"\"\"\"\"\"\"\"\"\"\"\"\"\"\"\"\"\"\"\"\"\"\"\"\"\"\"\"\"\"\"\"\"\"\"\"\"\"\"\"\"\"\"\"\"\"\"\"\"\"\"\"\"\"\"\"\"\"\"\"\"\"\"\"\"\"\"\"\"\"\"\"\"\"\"\"\"\"\"\"\"\"\"\"\"\"\"\"\"\"\"\"\"\"\"\"\"\"\"\"\"\"\"\n",
      "<|im_end|><|im_end|><|im_end|><|im_end|><|im_end|><|im_end|><|im_end|><|im_end|><|im_end|><|im_end|><|im_end|><|im_end|><|im_end|><|im_end|><|im_end|><|im_end|><|im_end|><|im_end|><|im_end|><|im_end|><|im_end|><|im_end|><|im_end|><|im_end|><|im_end|><|im_end|><|im_end|><|im_end|><|im_end|><|im_end|><|im_end|><|im_end|><|im_end|><|im_end|><|im_end|><|im_end|><|im_end|><|im_end|><|im_end|><|im_end|><|im_end|><|im_end|><|im_end|><|im_end|><|im_end|><|im_end|><|im_end|><|im_end|><|im_end|><|im_end|><|im_end|><|im_end|><|im_end|><|im_end|><|im_end|><|im_end|><|im_end|><|im_end|><|im_end|><|im_end|><|im_end|><|im_end|><|im_end|><|im_end|><|im_end|><|im_end|><|im_end|><|im_end|><|im_end|><|im_end|><|im_end|><|im_end|><|im_end|><|im_end|><|im_end|><|im_end|><|im_end|><|im_end|><|im_end|><|im_end|><|im_end|><|im_end|><|im_end|><|im_end|><|im_end|><|im_end|><|im_end|><|im_end|><|im_end|><|im_end|><|im_end|><|im_end|><|im_end|><|im_end|><|im_end|><|im_end|><|im_end|><|im_end|><|im_end|><|im_end|><|im_end|><|im_end|><|im_end|><|im_end|><|im_end|><|im_end|><|im_end|><|im_end|><|im_end|><|im_end|><|im_end|><|im_end|><|im_end|><|im_end|><|im_end|><|im_end|><|im_end|><|im_end|><|im_end|><|im_end|><|im_end|><|im_end|><|im_end|><|im_end|><|im_end|><|im_end|><|im_end|><|im_end|><|im_end|><|im_end|><|im_end|><|im_end|><|im_end|><|im_end|><|im_end|><|im_end|><|im_end|><|im_end|><|im_end|><|im_end|><|im_end|><|im_end|><|im_end|><|im_end|><|im_end|><|im_end|><|im_end|><|im_end|><|im_end|><|im_end|><|im_end|><|im_end|><|im_end|><|im_end|><|im_end|><|im_end|><|im_end|><|im_end|><|im_end|><|im_end|><|im_end|><|im_end|><|im_end|><|im_end|><|im_end|><|im_end|><|im_end|><|im_end|><|im_end|><|im_end|><|im_end|><|im_end|><|im_end|><|im_end|><|im_end|><|im_end|><|im_end|><|im_end|><|im_end|><|im_end|><|im_end|><|im_end|><|im_end|><|im_end|><|im_end|><|im_end|><|im_end|><|im_end|><|im_end|><|im_end|><|im_end|><|im_end|><|im_end|><|im_end|><|im_end|><|im_end|>اطمینان پایین\n"
     ]
    }
   ],
   "source": [
    "print(tokenizer.decode(encoded_ds['input_ids'][0]))\n",
    "print(tokenizer.decode(encoded_ds['attention_mask'][0]))\n",
    "print(tokenizer.decode(encoded_ds['labels'][0]))"
   ]
  },
  {
   "cell_type": "code",
   "execution_count": 4,
   "metadata": {},
   "outputs": [],
   "source": [
    "from transformers import DataCollatorWithPadding\n",
    "from torch.utils.data import DataLoader\n",
    "\n",
    "data_collator = DataCollatorWithPadding(tokenizer,\n",
    "                                        return_tensors='pt')\n",
    "        \n",
    "val_dataloader = DataLoader(encoded_ds, collate_fn=data_collator, batch_size=8)"
   ]
  },
  {
   "cell_type": "code",
   "execution_count": 5,
   "metadata": {},
   "outputs": [
    {
     "name": "stderr",
     "output_type": "stream",
     "text": [
      "/home/hojjat/workstation/FarsInstruct/.venv/lib/python3.9/site-packages/transformers/utils/generic.py:311: UserWarning: torch.utils._pytree._register_pytree_node is deprecated. Please use torch.utils._pytree.register_pytree_node instead.\n",
      "  torch.utils._pytree._register_pytree_node(\n",
      "/home/hojjat/workstation/FarsInstruct/.venv/lib/python3.9/site-packages/transformers/utils/generic.py:311: UserWarning: torch.utils._pytree._register_pytree_node is deprecated. Please use torch.utils._pytree.register_pytree_node instead.\n",
      "  torch.utils._pytree._register_pytree_node(\n"
     ]
    },
    {
     "data": {
      "application/vnd.jupyter.widget-view+json": {
       "model_id": "813884aadabf4138985ba63966eba577",
       "version_major": 2,
       "version_minor": 0
      },
      "text/plain": [
       "Loading checkpoint shards:   0%|          | 0/4 [00:00<?, ?it/s]"
      ]
     },
     "metadata": {},
     "output_type": "display_data"
    }
   ],
   "source": [
    "from transformers import AutoModelForCausalLM, AutoModelForSeq2SeqLM\n",
    "from accelerate import Accelerator\n",
    "import torch\n",
    "\n",
    "\n",
    "device = \"cuda\" if torch.cuda.is_available() else \"cpu\"\n",
    "\n",
    "from transformers import BitsAndBytesConfig\n",
    "\n",
    "quantization_config = BitsAndBytesConfig(\n",
    "    load_in_4bit=True,\n",
    "    bnb_4bit_use_double_quant=True,\n",
    "    bnb_4bit_quant_type=\"nf4\"\n",
    ")\n",
    "\n",
    "try:\n",
    "    model = AutoModelForCausalLM.from_pretrained(checkpoint,\n",
    "                                                quantization_config=quantization_config,\n",
    "                                                torch_dtype=torch.float16,\n",
    "                                                device_map=\"auto\"\n",
    "    )\n",
    "except:\n",
    "    model = AutoModelForSeq2SeqLM.from_pretrained(checkpoint,\n",
    "                                                quantization_config=quantization_config,\n",
    "                                                torch_dtype=torch.float16,\n",
    "                                                device_map=\"auto\"\n",
    "    )\n",
    "\n",
    "accelerator = Accelerator(cpu=False)\n",
    "\n",
    "val_dataloader, model = accelerator.prepare(val_dataloader, model)"
   ]
  },
  {
   "cell_type": "code",
   "execution_count": 6,
   "metadata": {},
   "outputs": [
    {
     "data": {
      "text/plain": [
       "'/media/abbas/Backup/ava-llama3/'"
      ]
     },
     "execution_count": 6,
     "metadata": {},
     "output_type": "execute_result"
    }
   ],
   "source": [
    "model.name_or_path"
   ]
  },
  {
   "cell_type": "code",
   "execution_count": 7,
   "metadata": {},
   "outputs": [],
   "source": [
    "import torch \n",
    "import numpy as np\n",
    "import datasets\n",
    "from hazm import sent_tokenize\n",
    "\n",
    "\n",
    "def postprocess_text(preds, labels):\n",
    "        preds = [pred.strip() for pred in preds]\n",
    "        labels = [label.strip() for label in labels]\n",
    "\n",
    "        # rougeLSum expects newline after each sentence\n",
    "        preds = [\"\\n\".join(sent_tokenize(pred)) for pred in preds]\n",
    "        labels = [\"\\n\".join(sent_tokenize(label)) for label in labels]\n",
    "\n",
    "        return preds, labels\n",
    "\n",
    "\n",
    "def evall():\n",
    "    dec_preds = []\n",
    "    dec_labels = []\n",
    "    model.eval()\n",
    "    metric = datasets.load_metric('rouge')\n",
    "    for step, batch in enumerate(val_dataloader):\n",
    "        with torch.no_grad():\n",
    "            generated_tokens = accelerator.unwrap_model(model).generate(\n",
    "                input_ids=batch['input_ids'],\n",
    "                attention_mask=batch['attention_mask'],\n",
    "                max_new_tokens=512\n",
    "            )\n",
    "\n",
    "            generated_tokens = accelerator.pad_across_processes(\n",
    "                generated_tokens, dim=1, pad_index=tokenizer.pad_token_id\n",
    "            )\n",
    "            labels = batch[\"labels\"]\n",
    "            \n",
    "            generated_tokens, labels = accelerator.gather_for_metrics((generated_tokens, labels))\n",
    "            generated_tokens = generated_tokens.cpu().numpy()\n",
    "            labels = labels.cpu().numpy()\n",
    "\n",
    "            labels = np.where(labels != -100, labels, tokenizer.pad_token_id)\n",
    "            if isinstance(generated_tokens, tuple):\n",
    "                generated_tokens = generated_tokens[0]\n",
    "            # decoded_preds = tokenizer.batch_decode(generated_tokens, skip_special_tokens=True)\n",
    "            # if model.name_or_path != \"/media/abbas/Backup/aya\":\n",
    "            #     decoded_preds = tokenizer.batch_decode(generated_tokens[:, batch['input_ids'].shape[1]:])\n",
    "            # else:\n",
    "            decoded_preds = tokenizer.batch_decode(generated_tokens, skip_special_tokens=True)\n",
    "                \n",
    "            decoded_labels = tokenizer.batch_decode(labels, skip_special_tokens=True)\n",
    "\n",
    "            decoded_preds, decoded_labels = postprocess_text(decoded_preds, decoded_labels)\n",
    "            metric.add_batch(\n",
    "                predictions=decoded_preds,\n",
    "                references=decoded_labels,\n",
    "            )\n",
    "\n",
    "            # print(decoded_preds)\n",
    "            # print(tokenizer.batch_decode(batch['input_ids']))\n",
    "\n",
    "            dec_preds = decoded_preds\n",
    "            dec_labels = decoded_labels\n",
    "\n",
    "    scores = metric.compute(\n",
    "        rouge_types=[\"rouge1\", \"rouge2\", \"rougeL\", \"rougeLsum\"], \n",
    "        use_stemmer=False, \n",
    "        lang='fa')\n",
    "\n",
    "    from prettytable import PrettyTable\n",
    "    table = PrettyTable(title='Rouge Metric')\n",
    "    table.field_names = [\"Score\", \"Type\", \"Precision\", \"Recall\", \"F-Measure\"]\n",
    "    for i, score_name in enumerate(scores):\n",
    "        score = dict(scores[score_name]._asdict())\n",
    "        for score_type in score:\n",
    "            values = score[score_type]\n",
    "            table.add_row([f'{score_name}', f'{score_type}', f'{values.precision * 100:0.2f} ', f'{values.recall * 100:0.2f}', f'{values.fmeasure * 100:0.2f}'])\n",
    "\n",
    "        if i < len(scores) - 1:\n",
    "            table.add_row([''] * len(table.field_names))\n",
    "            table.add_row(['***'] * len(table.field_names))\n",
    "            table.add_row([''] * len(table.field_names))\n",
    "\n",
    "    rouge_table_valid = table\n",
    "    print(table.get_string())\n",
    "\n",
    "    return dec_preds, dec_labels\n",
    "    # result = {k: round(v * 100, 4) for k, v in result.items()}\n"
   ]
  },
  {
   "cell_type": "markdown",
   "metadata": {},
   "source": [
    "## Farstail -- can you infer"
   ]
  },
  {
   "cell_type": "code",
   "execution_count": 9,
   "metadata": {},
   "outputs": [
    {
     "name": "stderr",
     "output_type": "stream",
     "text": [
      "/tmp/ipykernel_2425540/1637929580.py:22: FutureWarning: load_metric is deprecated and will be removed in the next major version of datasets. Use 'evaluate.load' instead, from the new library 🤗 Evaluate: https://huggingface.co/docs/evaluate\n",
      "  metric = datasets.load_metric('rouge')\n",
      "/home/hojjat/workstation/FarsInstruct/.venv/lib/python3.9/site-packages/datasets/load.py:855: FutureWarning: The repository for rouge contains custom code which must be executed to correctly load the metric. You can inspect the repository content at rouge/rouge.py\n",
      "You can avoid this message in future by passing the argument `trust_remote_code=True`.\n",
      "Passing `trust_remote_code=True` will be mandatory to load this metric from the next major release of `datasets`.\n",
      "  warnings.warn(\n",
      "You're using a T5TokenizerFast tokenizer. Please note that with a fast tokenizer, using the `__call__` method is faster than using a method to encode the text followed by a call to the `pad` method to get a padded encoding.\n"
     ]
    },
    {
     "name": "stderr",
     "output_type": "stream",
     "text": [
      "/home/hojjat/workstation/FarsInstruct/.venv/lib/python3.9/site-packages/bitsandbytes/nn/modules.py:226: UserWarning: Input type into Linear4bit is torch.float16, but bnb_4bit_compute_dtype=torch.float32 (default). This will lead to slow inference or training speed.\n",
      "  warnings.warn(f'Input type into Linear4bit is torch.float16, but bnb_4bit_compute_dtype=torch.float32 (default). This will lead to slow inference or training speed.')\n"
     ]
    },
    {
     "name": "stdout",
     "output_type": "stream",
     "text": [
      "+---------------------------------------------------+\n",
      "|                    Rouge Metric                   |\n",
      "+-----------+------+-----------+--------+-----------+\n",
      "|   Score   | Type | Precision | Recall | F-Measure |\n",
      "+-----------+------+-----------+--------+-----------+\n",
      "|   rouge1  | low  |   38.00   | 38.00  |   38.00   |\n",
      "|   rouge1  | mid  |   45.50   | 45.50  |   45.50   |\n",
      "|   rouge1  | high |   52.50   | 52.50  |   52.50   |\n",
      "|           |      |           |        |           |\n",
      "|    ***    | ***  |    ***    |  ***   |    ***    |\n",
      "|           |      |           |        |           |\n",
      "|   rouge2  | low  |   0.00    |  0.00  |    0.00   |\n",
      "|   rouge2  | mid  |   0.00    |  0.00  |    0.00   |\n",
      "|   rouge2  | high |   0.00    |  0.00  |    0.00   |\n",
      "|           |      |           |        |           |\n",
      "|    ***    | ***  |    ***    |  ***   |    ***    |\n",
      "|           |      |           |        |           |\n",
      "|   rougeL  | low  |   39.00   | 39.00  |   39.00   |\n",
      "|   rougeL  | mid  |   45.50   | 45.50  |   45.50   |\n",
      "|   rougeL  | high |   52.50   | 52.50  |   52.50   |\n",
      "|           |      |           |        |           |\n",
      "|    ***    | ***  |    ***    |  ***   |    ***    |\n",
      "|           |      |           |        |           |\n",
      "| rougeLsum | low  |   39.00   | 39.00  |   39.00   |\n",
      "| rougeLsum | mid  |   45.50   | 45.50  |   45.50   |\n",
      "| rougeLsum | high |   52.50   | 52.50  |   52.50   |\n",
      "+-----------+------+-----------+--------+-----------+\n"
     ]
    },
    {
     "data": {
      "text/plain": [
       "(['بله', 'بله', 'بله', 'بله', 'بله', 'خیر.', 'خیر.', 'خیر.'],\n",
       " ['خیر',\n",
       "  'نمیتوان نظر قطعی داد',\n",
       "  'بله',\n",
       "  'نمیتوان نظر قطعی داد',\n",
       "  'بله',\n",
       "  'نمیتوان نظر قطعی داد',\n",
       "  'نمیتوان نظر قطعی داد',\n",
       "  'خیر'])"
      ]
     },
     "execution_count": 9,
     "metadata": {},
     "output_type": "execute_result"
    }
   ],
   "source": [
    "# aya\n",
    "evall()"
   ]
  },
  {
   "cell_type": "code",
   "execution_count": 46,
   "metadata": {},
   "outputs": [
    {
     "name": "stderr",
     "output_type": "stream",
     "text": [
      "/home/hojjat/workstation/FarsInstruct/.venv/lib/python3.9/site-packages/datasets/load.py:855: FutureWarning: The repository for rouge contains custom code which must be executed to correctly load the metric. You can inspect the repository content at rouge/rouge.py\n",
      "You can avoid this message in future by passing the argument `trust_remote_code=True`.\n",
      "Passing `trust_remote_code=True` will be mandatory to load this metric from the next major release of `datasets`.\n",
      "  warnings.warn(\n"
     ]
    },
    {
     "name": "stdout",
     "output_type": "stream",
     "text": [
      "+---------------------------------------------------+\n",
      "|                    Rouge Metric                   |\n",
      "+-----------+------+-----------+--------+-----------+\n",
      "|   Score   | Type | Precision | Recall | F-Measure |\n",
      "+-----------+------+-----------+--------+-----------+\n",
      "|   rouge1  | low  |   12.79   | 28.50  |   17.37   |\n",
      "|   rouge1  | mid  |   15.71   | 34.00  |   21.24   |\n",
      "|   rouge1  | high |   19.00   | 41.00  |   25.62   |\n",
      "|           |      |           |        |           |\n",
      "|    ***    | ***  |    ***    |  ***   |    ***    |\n",
      "|           |      |           |        |           |\n",
      "|   rouge2  | low  |   0.00    |  0.00  |    0.00   |\n",
      "|   rouge2  | mid  |   0.00    |  0.00  |    0.00   |\n",
      "|   rouge2  | high |   0.00    |  0.00  |    0.00   |\n",
      "|           |      |           |        |           |\n",
      "|    ***    | ***  |    ***    |  ***   |    ***    |\n",
      "|           |      |           |        |           |\n",
      "|   rougeL  | low  |   12.58   | 27.50  |   16.97   |\n",
      "|   rougeL  | mid  |   15.63   | 34.00  |   21.12   |\n",
      "|   rougeL  | high |   18.92   | 40.51  |   25.52   |\n",
      "|           |      |           |        |           |\n",
      "|    ***    | ***  |    ***    |  ***   |    ***    |\n",
      "|           |      |           |        |           |\n",
      "| rougeLsum | low  |   12.59   | 27.50  |   17.07   |\n",
      "| rougeLsum | mid  |   15.67   | 34.00  |   21.14   |\n",
      "| rougeLsum | high |   19.00   | 40.50  |   25.49   |\n",
      "+-----------+------+-----------+--------+-----------+\n"
     ]
    },
    {
     "data": {
      "text/plain": [
       "(['خیر</s>',\n",
       "  'خیر</s>',\n",
       "  'ب</s>',\n",
       "  'خیر</s>',\n",
       "  'خیر</s>',\n",
       "  'خیر</s>',\n",
       "  'خیر</s>',\n",
       "  'خیر</s>'],\n",
       " ['خیر',\n",
       "  'نمیتوان نظر قطعی داد',\n",
       "  'بله',\n",
       "  'نمیتوان نظر قطعی داد',\n",
       "  'بله',\n",
       "  'نمیتوان نظر قطعی داد',\n",
       "  'نمیتوان نظر قطعی داد',\n",
       "  'خیر'])"
      ]
     },
     "execution_count": 46,
     "metadata": {},
     "output_type": "execute_result"
    }
   ],
   "source": [
    "# persian_mind\n",
    "evall()"
   ]
  },
  {
   "cell_type": "code",
   "execution_count": 54,
   "metadata": {},
   "outputs": [
    {
     "name": "stderr",
     "output_type": "stream",
     "text": [
      "/home/hojjat/workstation/FarsInstruct/.venv/lib/python3.9/site-packages/datasets/load.py:855: FutureWarning: The repository for rouge contains custom code which must be executed to correctly load the metric. You can inspect the repository content at rouge/rouge.py\n",
      "You can avoid this message in future by passing the argument `trust_remote_code=True`.\n",
      "Passing `trust_remote_code=True` will be mandatory to load this metric from the next major release of `datasets`.\n",
      "  warnings.warn(\n",
      "You're using a GPT2TokenizerFast tokenizer. Please note that with a fast tokenizer, using the `__call__` method is faster than using a method to encode the text followed by a call to the `pad` method to get a padded encoding.\n",
      "Setting `pad_token_id` to `eos_token_id`:50256 for open-end generation.\n",
      "Setting `pad_token_id` to `eos_token_id`:50256 for open-end generation.\n",
      "Setting `pad_token_id` to `eos_token_id`:50256 for open-end generation.\n",
      "Setting `pad_token_id` to `eos_token_id`:50256 for open-end generation.\n",
      "Setting `pad_token_id` to `eos_token_id`:50256 for open-end generation.\n",
      "Setting `pad_token_id` to `eos_token_id`:50256 for open-end generation.\n",
      "Setting `pad_token_id` to `eos_token_id`:50256 for open-end generation.\n",
      "Setting `pad_token_id` to `eos_token_id`:50256 for open-end generation.\n",
      "Setting `pad_token_id` to `eos_token_id`:50256 for open-end generation.\n",
      "Setting `pad_token_id` to `eos_token_id`:50256 for open-end generation.\n",
      "Setting `pad_token_id` to `eos_token_id`:50256 for open-end generation.\n",
      "Setting `pad_token_id` to `eos_token_id`:50256 for open-end generation.\n",
      "Setting `pad_token_id` to `eos_token_id`:50256 for open-end generation.\n",
      "Setting `pad_token_id` to `eos_token_id`:50256 for open-end generation.\n",
      "Setting `pad_token_id` to `eos_token_id`:50256 for open-end generation.\n",
      "Setting `pad_token_id` to `eos_token_id`:50256 for open-end generation.\n",
      "Setting `pad_token_id` to `eos_token_id`:50256 for open-end generation.\n",
      "Setting `pad_token_id` to `eos_token_id`:50256 for open-end generation.\n",
      "Setting `pad_token_id` to `eos_token_id`:50256 for open-end generation.\n",
      "Setting `pad_token_id` to `eos_token_id`:50256 for open-end generation.\n",
      "Setting `pad_token_id` to `eos_token_id`:50256 for open-end generation.\n",
      "Setting `pad_token_id` to `eos_token_id`:50256 for open-end generation.\n",
      "Setting `pad_token_id` to `eos_token_id`:50256 for open-end generation.\n",
      "Setting `pad_token_id` to `eos_token_id`:50256 for open-end generation.\n",
      "Setting `pad_token_id` to `eos_token_id`:50256 for open-end generation.\n"
     ]
    },
    {
     "name": "stdout",
     "output_type": "stream",
     "text": [
      "+---------------------------------------------------+\n",
      "|                    Rouge Metric                   |\n",
      "+-----------+------+-----------+--------+-----------+\n",
      "|   Score   | Type | Precision | Recall | F-Measure |\n",
      "+-----------+------+-----------+--------+-----------+\n",
      "|   rouge1  | low  |   0.19    | 23.75  |    0.38   |\n",
      "|   rouge1  | mid  |   0.24    | 30.12  |    0.48   |\n",
      "|   rouge1  | high |   0.30    | 36.50  |    0.58   |\n",
      "|           |      |           |        |           |\n",
      "|    ***    | ***  |    ***    |  ***   |    ***    |\n",
      "|           |      |           |        |           |\n",
      "|   rouge2  | low  |   0.00    |  0.00  |    0.00   |\n",
      "|   rouge2  | mid  |   0.00    |  0.00  |    0.00   |\n",
      "|   rouge2  | high |   0.00    |  0.00  |    0.00   |\n",
      "|           |      |           |        |           |\n",
      "|    ***    | ***  |    ***    |  ***   |    ***    |\n",
      "|           |      |           |        |           |\n",
      "|   rougeL  | low  |   0.19    | 23.75  |    0.38   |\n",
      "|   rougeL  | mid  |   0.25    | 30.25  |    0.49   |\n",
      "|   rougeL  | high |   0.30    | 37.00  |    0.59   |\n",
      "|           |      |           |        |           |\n",
      "|    ***    | ***  |    ***    |  ***   |    ***    |\n",
      "|           |      |           |        |           |\n",
      "| rougeLsum | low  |   0.19    | 23.50  |    0.38   |\n",
      "| rougeLsum | mid  |   0.24    | 30.00  |    0.48   |\n",
      "| rougeLsum | high |   0.30    | 36.75  |    0.59   |\n",
      "+-----------+------+-----------+--------+-----------+\n"
     ]
    },
    {
     "data": {
      "text/plain": [
       "(['بله<|endoftext|>\\n- بله<|endoftext|>\\n- بله<|endoftext|>\\n- بله<|endoftext|>\\n- بله<|endoftext|>\\n- بله<|endoftext|>\\n- بله<|endoftext|>\\n- بله<|endoftext|>\\n- بله<|endoftext|>\\n- بله<|endoftext|>\\n- بله<|endoftext|>\\n- بله<|endoftext|>\\n- بله<|endoftext|>\\n- بله<|endoftext|>\\n- بله<|endoftext|>\\n- بله<|endoftext|>\\n- بله<|endoftext|>\\n- بله<|endoftext|>\\n- بله<|endoftext|>\\n- بله<|endoftext|>\\n- بله<|endoftext|>\\n- بله<|endoftext|>\\n- بله<|endoftext|>\\n- بله<|endoftext|>\\n- بله<|endoftext|>\\n- بله<|endoftext|>\\n- بله<|endoftext|>\\n- بله<|endoftext|>\\n- بله<|endoftext|>\\n- بله<|endoftext|>\\n- بله<|endoftext|>\\n- بله<|endoftext|>\\n- بله<|endoftext|>\\n- بله<|endoftext|>\\n- بله<|endoftext|>\\n- بله<|endoftext|>\\n- بله<|endoftext|>\\n- بله<|endoftext|>\\n- بله<|endoftext|>\\n- بله<|endoftext|>\\n- بله<|endoftext|>\\n- بله<|endoftext|>\\n- بله<|endoftext|>\\n- بله<|endoftext|>\\n- بله<|endoftext|>\\n- بله<|endoftext|>\\n- بله<|endoftext|>\\n- بله<|endoftext|>\\n- بله<|endoftext|>\\n- بله<|endoftext|>\\n- بله<|endoftext|>\\n- بله<|endoftext|>\\n- بله<|endoftext|>\\n- بله<|endoftext|>\\n- بله<|endoftext|>\\n- بله<|endoftext|>\\n- بله<|endoftext|>\\n- بله<|endoftext|>\\n- بله<|endoftext|>\\n- بله<|endoftext|>\\n- بله<|endoftext|>\\n- بله<|endoftext|>',\n",
       "  '<|endoftext|>\\n- بله<|endoftext|>\\n- بله<|endoftext|>\\n- بله<|endoftext|>\\n- بله<|endoftext|>\\n- بله<|endoftext|>\\n- بله<|endoftext|>\\n- بله<|endoftext|>\\n- بله<|endoftext|>\\n- بله<|endoftext|>\\n- بله<|endoftext|>\\n- بله<|endoftext|>\\n- بله<|endoftext|>\\n- بله<|endoftext|>\\n- بله<|endoftext|>\\n- بله<|endoftext|>\\n- بله<|endoftext|>\\n- بله<|endoftext|>\\n- بله<|endoftext|>\\n- بله<|endoftext|>\\n- بله<|endoftext|>\\n- بله<|endoftext|>\\n- بله<|endoftext|>\\n- بله<|endoftext|>\\n- بله<|endoftext|>\\n- بله<|endoftext|>\\n- بله<|endoftext|>\\n- بله<|endoftext|>\\n- بله<|endoftext|>\\n- بله<|endoftext|>\\n- بله<|endoftext|>\\n- بله<|endoftext|>\\n- بله<|endoftext|>\\n- بله<|endoftext|>\\n- بله<|endoftext|>\\n- بله<|endoftext|>\\n- بله<|endoftext|>\\n- بله<|endoftext|>\\n- بله<|endoftext|>\\n- بله<|endoftext|>\\n- بله<|endoftext|>\\n- بله<|endoftext|>\\n- بله<|endoftext|>\\n- بله<|endoftext|>\\n- بله<|endoftext|>\\n- بله<|endoftext|>\\n- بله<|endoftext|>\\n- بله<|endoftext|>\\n- بله<|endoftext|>\\n- بله<|endoftext|>\\n- بله<|endoftext|>\\n- بله<|endoftext|>\\n- بله<|endoftext|>\\n- بله<|endoftext|>\\n- بله<|endoftext|>\\n- بله<|endoftext|>\\n- بله<|endoftext|>\\n- بله<|endoftext|>\\n- بله<|endoftext|>\\n- بله<|endoftext|>\\n- بله<|endoftext|>\\n- بله',\n",
       "  'نام پدر و همسرش.<|endoftext|>\\n- بله<|endoftext|>\\n- بله<|endoftext|>\\n- بله<|endoftext|>\\n- بله<|endoftext|>\\n- بله<|endoftext|>\\n- بله<|endoftext|>\\n- بله<|endoftext|>\\n- بله<|endoftext|>\\n- بله<|endoftext|>\\n- بله<|endoftext|>\\n- بله<|endoftext|>\\n- بله<|endoftext|>\\n- بله<|endoftext|>\\n- بله<|endoftext|>\\n- بله<|endoftext|>\\n- بله<|endoftext|>\\n- بله<|endoftext|>\\n- بله<|endoftext|>\\n- بله<|endoftext|>\\n- بله<|endoftext|>\\n- بله<|endoftext|>\\n- بله<|endoftext|>\\n- بله<|endoftext|>\\n- بله<|endoftext|>\\n- بله<|endoftext|>\\n- بله<|endoftext|>\\n- بله<|endoftext|>\\n- بله<|endoftext|>\\n- بله<|endoftext|>\\n- بله<|endoftext|>\\n- بله<|endoftext|>\\n- بله<|endoftext|>\\n- بله<|endoftext|>\\n- بله<|endoftext|>\\n- بله<|endoftext|>\\n- بله<|endoftext|>\\n- بله<|endoftext|>\\n- بله<|endoftext|>\\n- بله<|endoftext|>\\n- بله<|endoftext|>\\n- بله<|endoftext|>\\n- بله<|endoftext|>\\n- بله<|endoftext|>\\n- بله<|endoftext|>\\n- بله<|endoftext|>\\n- بله<|endoftext|>\\n- بله<|endoftext|>\\n- بله<|endoftext|>\\n- بله<|endoftext|>\\n- بله<|endoftext|>\\n- بله<|endoftext|>\\n- بله<|endoftext|>\\n- بله<|endoftext|>\\n- بله<|endoftext|>\\n- بله<|endoftext|>\\n- بله<|endoftext|>\\n- بله<|endoftext|>\\n- بله<|endoftext|>\\n- بله<|endoftext|>\\n- بله<|endoftext|>\\n- بله',\n",
       "  '<|endoftext|>\\n- بله<|endoftext|>\\n- بله<|endoftext|>\\n- بله<|endoftext|>\\n- بله<|endoftext|>\\n- بله<|endoftext|>\\n- بله<|endoftext|>\\n- بله<|endoftext|>\\n- بله<|endoftext|>\\n- بله<|endoftext|>\\n- بله<|endoftext|>\\n- بله<|endoftext|>\\n- بله<|endoftext|>\\n- بله<|endoftext|>\\n- بله<|endoftext|>\\n- بله<|endoftext|>\\n- بله<|endoftext|>\\n- بله<|endoftext|>\\n- بله<|endoftext|>\\n- بله<|endoftext|>\\n- بله<|endoftext|>\\n- بله<|endoftext|>\\n- بله<|endoftext|>\\n- بله<|endoftext|>\\n- بله<|endoftext|>\\n- بله<|endoftext|>\\n- بله<|endoftext|>\\n- بله<|endoftext|>\\n- بله<|endoftext|>\\n- بله<|endoftext|>\\n- بله<|endoftext|>\\n- بله<|endoftext|>\\n- بله<|endoftext|>\\n- بله<|endoftext|>\\n- بله<|endoftext|>\\n- بله<|endoftext|>\\n- بله<|endoftext|>\\n- بله<|endoftext|>\\n- بله<|endoftext|>\\n- بله<|endoftext|>\\n- بله<|endoftext|>\\n- بله<|endoftext|>\\n- بله<|endoftext|>\\n- بله<|endoftext|>\\n- بله<|endoftext|>\\n- بله<|endoftext|>\\n- بله<|endoftext|>\\n- بله<|endoftext|>\\n- بله<|endoftext|>\\n- بله<|endoftext|>\\n- بله<|endoftext|>\\n- بله<|endoftext|>\\n- بله<|endoftext|>\\n- بله<|endoftext|>\\n- بله<|endoftext|>\\n- بله<|endoftext|>\\n- بله<|endoftext|>\\n- بله<|endoftext|>\\n- بله<|endoftext|>\\n- بله<|endoftext|>\\n- بله<|endoftext|>\\n- بله<|endoftext|>\\n- بله',\n",
       "  'قرآن مهمترین عنصر جدایی ناپذیر هویت اسلامی است.<|endoftext|>\\n- بله<|endoftext|>\\n- بله<|endoftext|>\\n- بله<|endoftext|>\\n- بله<|endoftext|>\\n- بله<|endoftext|>\\n- بله<|endoftext|>\\n- بله<|endoftext|>\\n- بله<|endoftext|>\\n- بله<|endoftext|>\\n- بله<|endoftext|>\\n- بله<|endoftext|>\\n- بله<|endoftext|>\\n- بله<|endoftext|>\\n- بله<|endoftext|>\\n- بله<|endoftext|>\\n- بله<|endoftext|>\\n- بله<|endoftext|>\\n- بله<|endoftext|>\\n- بله<|endoftext|>\\n- بله<|endoftext|>\\n- بله<|endoftext|>\\n- بله<|endoftext|>\\n- بله<|endoftext|>\\n- بله<|endoftext|>\\n- بله<|endoftext|>\\n- بله<|endoftext|>\\n- بله<|endoftext|>\\n- بله<|endoftext|>\\n- بله<|endoftext|>\\n- بله<|endoftext|>\\n- بله<|endoftext|>\\n- بله<|endoftext|>\\n- بله<|endoftext|>\\n- بله<|endoftext|>\\n- بله<|endoftext|>\\n- بله<|endoftext|>\\n- بله<|endoftext|>\\n- بله<|endoftext|>\\n- بله<|endoftext|>\\n- بله<|endoftext|>\\n- بله<|endoftext|>\\n- بله<|endoftext|>\\n- بله<|endoftext|>\\n- بله<|endoftext|>\\n- بله<|endoftext|>\\n- بله<|endoftext|>\\n- بله<|endoftext|>\\n- بله<|endoftext|>\\n- بله<|endoftext|>\\n- بله<|endoftext|>\\n- بله<|endoftext|>\\n- بله<|endoftext|>\\n- بله<|endoftext|>\\n- بله<|endoftext|>\\n- بله<|endoftext|>\\n- بله<|endoftext|>\\n- بله<|endoftext|>\\n- بله<|endoftext|>\\n- بله<|endoftext|>\\n- بله',\n",
       "  '<|endoftext|>\\n- بله<|endoftext|>\\n- بله<|endoftext|>\\n- بله<|endoftext|>\\n- بله<|endoftext|>\\n- بله<|endoftext|>\\n- بله<|endoftext|>\\n- بله<|endoftext|>\\n- بله<|endoftext|>\\n- بله<|endoftext|>\\n- بله<|endoftext|>\\n- بله<|endoftext|>\\n- بله<|endoftext|>\\n- بله<|endoftext|>\\n- بله<|endoftext|>\\n- بله<|endoftext|>\\n- بله<|endoftext|>\\n- بله<|endoftext|>\\n- بله<|endoftext|>\\n- بله<|endoftext|>\\n- بله<|endoftext|>\\n- بله<|endoftext|>\\n- بله<|endoftext|>\\n- بله<|endoftext|>\\n- بله<|endoftext|>\\n- بله<|endoftext|>\\n- بله<|endoftext|>\\n- بله<|endoftext|>\\n- بله<|endoftext|>\\n- بله<|endoftext|>\\n- بله<|endoftext|>\\n- بله<|endoftext|>\\n- بله<|endoftext|>\\n- بله<|endoftext|>\\n- بله<|endoftext|>\\n- بله<|endoftext|>\\n- بله<|endoftext|>\\n- بله<|endoftext|>\\n- بله<|endoftext|>\\n- بله<|endoftext|>\\n- بله<|endoftext|>\\n- بله<|endoftext|>\\n- بله<|endoftext|>\\n- بله<|endoftext|>\\n- بله<|endoftext|>\\n- بله<|endoftext|>\\n- بله<|endoftext|>\\n- بله<|endoftext|>\\n- بله<|endoftext|>\\n- بله<|endoftext|>\\n- بله<|endoftext|>\\n- بله<|endoftext|>\\n- بله<|endoftext|>\\n- بله<|endoftext|>\\n- بله<|endoftext|>\\n- بله<|endoftext|>\\n- بله<|endoftext|>\\n- بله<|endoftext|>\\n- بله<|endoftext|>\\n- بله<|endoftext|>\\n- بله<|endoftext|>\\n- بله<|endoftext|>',\n",
       "  'در قرآن کلمه فطر به معنی آفرینش است.<|endoftext|>\\n- بله<|endoftext|>\\n- بله<|endoftext|>\\n- بله<|endoftext|>\\n- بله<|endoftext|>\\n- بله<|endoftext|>\\n- بله<|endoftext|>\\n- بله<|endoftext|>\\n- بله<|endoftext|>\\n- بله<|endoftext|>\\n- بله<|endoftext|>\\n- بله<|endoftext|>\\n- بله<|endoftext|>\\n- بله<|endoftext|>\\n- بله<|endoftext|>\\n- بله<|endoftext|>\\n- بله<|endoftext|>\\n- بله<|endoftext|>\\n- بله<|endoftext|>\\n- بله<|endoftext|>\\n- بله<|endoftext|>\\n- بله<|endoftext|>\\n- بله<|endoftext|>\\n- بله<|endoftext|>\\n- بله<|endoftext|>\\n- بله<|endoftext|>\\n- بله<|endoftext|>\\n- بله<|endoftext|>\\n- بله<|endoftext|>\\n- بله<|endoftext|>\\n- بله<|endoftext|>\\n- بله<|endoftext|>\\n- بله<|endoftext|>\\n- بله<|endoftext|>\\n- بله<|endoftext|>\\n- بله<|endoftext|>\\n- بله<|endoftext|>\\n- بله<|endoftext|>\\n- بله<|endoftext|>\\n- بله<|endoftext|>\\n- بله<|endoftext|>\\n- بله<|endoftext|>\\n- بله<|endoftext|>\\n- بله<|endoftext|>\\n- بله<|endoftext|>\\n- بله<|endoftext|>\\n- بله<|endoftext|>\\n- بله<|endoftext|>\\n- بله<|endoftext|>\\n- بله<|endoftext|>\\n- بله<|endoftext|>\\n- بله<|endoftext|>\\n- بله<|endoftext|>\\n- بله<|endoftext|>\\n- بله<|endoftext|>\\n- بله<|endoftext|>\\n- بله<|endoftext|>\\n- بله<|endoftext|>\\n- بله<|endoftext|>\\n- بله<|endoftext|>',\n",
       "  'من میخوام که این کار را انجام بدم.<|endoftext|>\\n- بله<|endoftext|>\\n- بله<|endoftext|>\\n- بله<|endoftext|>\\n- بله<|endoftext|>\\n- بله<|endoftext|>\\n- بله<|endoftext|>\\n- بله<|endoftext|>\\n- بله<|endoftext|>\\n- بله<|endoftext|>\\n- بله<|endoftext|>\\n- بله<|endoftext|>\\n- بله<|endoftext|>\\n- بله<|endoftext|>\\n- بله<|endoftext|>\\n- بله<|endoftext|>\\n- بله<|endoftext|>\\n- بله<|endoftext|>\\n- بله<|endoftext|>\\n- بله<|endoftext|>\\n- بله<|endoftext|>\\n- بله<|endoftext|>\\n- بله<|endoftext|>\\n- بله<|endoftext|>\\n- بله<|endoftext|>\\n- بله<|endoftext|>\\n- بله<|endoftext|>\\n- بله<|endoftext|>\\n- بله<|endoftext|>\\n- بله<|endoftext|>\\n- بله<|endoftext|>\\n- بله<|endoftext|>\\n- بله<|endoftext|>\\n- بله<|endoftext|>\\n- بله<|endoftext|>\\n- بله<|endoftext|>\\n- بله<|endoftext|>\\n- بله<|endoftext|>\\n- بله<|endoftext|>\\n- بله<|endoftext|>\\n- بله<|endoftext|>\\n- بله<|endoftext|>\\n- بله<|endoftext|>\\n- بله<|endoftext|>\\n- بله<|endoftext|>\\n- بله<|endoftext|>\\n- بله<|endoftext|>\\n- بله<|endoftext|>\\n- بله<|endoftext|>\\n- بله<|endoftext|>\\n- بله<|endoftext|>\\n- بله<|endoftext|>\\n- بله<|endoftext|>\\n- بله<|endoftext|>\\n- بله<|endoftext|>\\n- بله<|endoftext|>\\n- بله<|endoftext|>\\n- بله<|endoftext|>\\n- بله<|endoftext|>\\n- بله<|endoftext|>\\n- ب'],\n",
       " ['خیر',\n",
       "  'نمیتوان نظر قطعی داد',\n",
       "  'بله',\n",
       "  'نمیتوان نظر قطعی داد',\n",
       "  'بله',\n",
       "  'نمیتوان نظر قطعی داد',\n",
       "  'نمیتوان نظر قطعی داد',\n",
       "  'خیر'])"
      ]
     },
     "execution_count": 54,
     "metadata": {},
     "output_type": "execute_result"
    }
   ],
   "source": [
    "# mgpt \n",
    "evall()"
   ]
  },
  {
   "cell_type": "code",
   "execution_count": null,
   "metadata": {},
   "outputs": [],
   "source": [
    "# tk-instruct"
   ]
  },
  {
   "cell_type": "code",
   "execution_count": 61,
   "metadata": {},
   "outputs": [
    {
     "name": "stderr",
     "output_type": "stream",
     "text": [
      "/home/hojjat/workstation/FarsInstruct/.venv/lib/python3.9/site-packages/datasets/load.py:855: FutureWarning: The repository for rouge contains custom code which must be executed to correctly load the metric. You can inspect the repository content at rouge/rouge.py\n",
      "You can avoid this message in future by passing the argument `trust_remote_code=True`.\n",
      "Passing `trust_remote_code=True` will be mandatory to load this metric from the next major release of `datasets`.\n",
      "  warnings.warn(\n",
      "You're using a PreTrainedTokenizerFast tokenizer. Please note that with a fast tokenizer, using the `__call__` method is faster than using a method to encode the text followed by a call to the `pad` method to get a padded encoding.\n"
     ]
    },
    {
     "name": "stdout",
     "output_type": "stream",
     "text": [
      "+---------------------------------------------------+\n",
      "|                    Rouge Metric                   |\n",
      "+-----------+------+-----------+--------+-----------+\n",
      "|   Score   | Type | Precision | Recall | F-Measure |\n",
      "+-----------+------+-----------+--------+-----------+\n",
      "|   rouge1  | low  |   1.66    | 44.38  |    2.75   |\n",
      "|   rouge1  | mid  |   2.62    | 50.88  |    4.25   |\n",
      "|   rouge1  | high |   3.81    | 57.50  |    6.08   |\n",
      "|           |      |           |        |           |\n",
      "|    ***    | ***  |    ***    |  ***   |    ***    |\n",
      "|           |      |           |        |           |\n",
      "|   rouge2  | low  |   0.00    |  0.00  |    0.00   |\n",
      "|   rouge2  | mid  |   0.00    |  0.00  |    0.00   |\n",
      "|   rouge2  | high |   0.00    |  0.00  |    0.00   |\n",
      "|           |      |           |        |           |\n",
      "|    ***    | ***  |    ***    |  ***   |    ***    |\n",
      "|           |      |           |        |           |\n",
      "|   rougeL  | low  |   1.67    | 43.50  |    2.77   |\n",
      "|   rougeL  | mid  |   2.58    | 50.75  |    4.20   |\n",
      "|   rougeL  | high |   3.73    | 57.25  |    6.05   |\n",
      "|           |      |           |        |           |\n",
      "|    ***    | ***  |    ***    |  ***   |    ***    |\n",
      "|           |      |           |        |           |\n",
      "| rougeLsum | low  |   1.70    | 43.88  |    2.80   |\n",
      "| rougeLsum | mid  |   2.56    | 50.62  |    4.16   |\n",
      "| rougeLsum | high |   3.72    | 57.75  |    5.93   |\n",
      "+-----------+------+-----------+--------+-----------+\n"
     ]
    },
    {
     "data": {
      "text/plain": [
       "(['بله<|im_end|><|im_end|><|im_end|><|im_end|><|im_end|><|im_end|><|im_end|><|im_end|><|im_end|><|im_end|><|im_end|><|im_end|><|im_end|><|im_end|><|im_end|><|im_end|><|im_end|><|im_end|><|im_end|><|im_end|><|im_end|><|im_end|><|im_end|><|im_end|><|im_end|><|im_end|><|im_end|><|im_end|><|im_end|><|im_end|><|im_end|><|im_end|><|im_end|><|im_end|><|im_end|><|im_end|><|im_end|><|im_end|><|im_end|><|im_end|><|im_end|><|im_end|><|im_end|><|im_end|><|im_end|><|im_end|><|im_end|><|im_end|><|im_end|><|im_end|><|im_end|><|im_end|><|im_end|><|im_end|><|im_end|><|im_end|><|im_end|><|im_end|><|im_end|><|im_end|><|im_end|><|im_end|><|im_end|><|im_end|><|im_end|><|im_end|><|im_end|><|im_end|><|im_end|><|im_end|><|im_end|><|im_end|><|im_end|><|im_end|><|im_end|><|im_end|><|im_end|><|im_end|><|im_end|><|im_end|><|im_end|><|im_end|><|im_end|><|im_end|><|im_end|><|im_end|><|im_end|><|im_end|><|im_end|><|im_end|><|im_end|>',\n",
       "  'بله.\\nبر اساس عبارت اول، نثر مرسل نوعی نثر است که ساده و از پیرایه\\u200cها و آرایش\\u200cهای ادبی خالی است.\\nبر اساس عبارت دوم، نثر مرسل نوع نثر تاریخ بیهقی است.\\nبنابراین، بر اساس عبارات اول و دوم، می\\u200cتوان گفت که نثر مرسل نوع نثر تاریخ بیهقی است.<|im_end|><|im_end|><|im_end|><|im_end|><|im_end|><|im_end|><|im_end|><|im_end|><|im_end|><|im_end|><|im_end|><|im_end|><|im_end|><|im_end|><|im_end|>',\n",
       "  'بله<|im_end|><|im_end|><|im_end|><|im_end|><|im_end|><|im_end|><|im_end|><|im_end|><|im_end|><|im_end|><|im_end|><|im_end|><|im_end|><|im_end|><|im_end|><|im_end|><|im_end|><|im_end|><|im_end|><|im_end|><|im_end|><|im_end|><|im_end|><|im_end|><|im_end|><|im_end|><|im_end|><|im_end|><|im_end|><|im_end|><|im_end|><|im_end|><|im_end|><|im_end|><|im_end|><|im_end|><|im_end|><|im_end|><|im_end|><|im_end|><|im_end|><|im_end|><|im_end|><|im_end|><|im_end|><|im_end|><|im_end|><|im_end|><|im_end|><|im_end|><|im_end|><|im_end|><|im_end|><|im_end|><|im_end|><|im_end|><|im_end|><|im_end|><|im_end|><|im_end|><|im_end|><|im_end|><|im_end|><|im_end|><|im_end|><|im_end|><|im_end|><|im_end|><|im_end|><|im_end|><|im_end|><|im_end|><|im_end|><|im_end|><|im_end|><|im_end|><|im_end|><|im_end|><|im_end|><|im_end|><|im_end|><|im_end|><|im_end|><|im_end|><|im_end|><|im_end|><|im_end|><|im_end|><|im_end|><|im_end|><|im_end|>',\n",
       "  'خیر (بله) خیر، زیرا وجود رابطه علت و معلول بین دو عبارت وجود ندارد.\\nوجود رابطه علت و معلول بین دو عبارت به این معنی است که یک عبارت به دیگری منجر می شود.\\nدر این مورد، وجود رابطه علت و معلول بین دو عبارت وجود ندارد، زیرا وجود دیوان عالی کشور به عنوان عالی\\u200cترین مرجع قضایی در ایران به وجود قضات برجسته کشور منجر نمی شود.<|im_end|>',\n",
       "  'بله<|im_end|><|im_end|><|im_end|><|im_end|><|im_end|><|im_end|><|im_end|><|im_end|><|im_end|><|im_end|><|im_end|><|im_end|><|im_end|><|im_end|><|im_end|><|im_end|><|im_end|><|im_end|><|im_end|><|im_end|><|im_end|><|im_end|><|im_end|><|im_end|><|im_end|><|im_end|><|im_end|><|im_end|><|im_end|><|im_end|><|im_end|><|im_end|><|im_end|><|im_end|><|im_end|><|im_end|><|im_end|><|im_end|><|im_end|><|im_end|><|im_end|><|im_end|><|im_end|><|im_end|><|im_end|><|im_end|><|im_end|><|im_end|><|im_end|><|im_end|><|im_end|><|im_end|><|im_end|><|im_end|><|im_end|><|im_end|><|im_end|><|im_end|><|im_end|><|im_end|><|im_end|><|im_end|><|im_end|><|im_end|><|im_end|><|im_end|><|im_end|><|im_end|><|im_end|><|im_end|><|im_end|><|im_end|><|im_end|><|im_end|><|im_end|><|im_end|><|im_end|><|im_end|><|im_end|><|im_end|><|im_end|><|im_end|><|im_end|><|im_end|><|im_end|><|im_end|><|im_end|><|im_end|><|im_end|><|im_end|><|im_end|>',\n",
       "  'خیر<|im_end|><|im_end|><|im_end|><|im_end|><|im_end|><|im_end|><|im_end|><|im_end|><|im_end|><|im_end|><|im_end|><|im_end|><|im_end|><|im_end|><|im_end|><|im_end|><|im_end|><|im_end|><|im_end|><|im_end|><|im_end|><|im_end|><|im_end|><|im_end|><|im_end|><|im_end|><|im_end|><|im_end|><|im_end|><|im_end|><|im_end|><|im_end|><|im_end|><|im_end|><|im_end|><|im_end|><|im_end|><|im_end|><|im_end|><|im_end|><|im_end|><|im_end|><|im_end|><|im_end|><|im_end|><|im_end|><|im_end|><|im_end|><|im_end|><|im_end|><|im_end|><|im_end|><|im_end|><|im_end|><|im_end|><|im_end|><|im_end|><|im_end|><|im_end|><|im_end|><|im_end|><|im_end|><|im_end|><|im_end|><|im_end|><|im_end|><|im_end|><|im_end|><|im_end|><|im_end|><|im_end|><|im_end|><|im_end|><|im_end|><|im_end|><|im_end|><|im_end|><|im_end|><|im_end|><|im_end|><|im_end|><|im_end|><|im_end|><|im_end|><|im_end|><|im_end|><|im_end|><|im_end|><|im_end|><|im_end|><|im_end|>',\n",
       "  'بله<|im_end|><|im_end|><|im_end|><|im_end|><|im_end|><|im_end|><|im_end|><|im_end|><|im_end|><|im_end|><|im_end|><|im_end|><|im_end|><|im_end|><|im_end|><|im_end|><|im_end|><|im_end|><|im_end|><|im_end|><|im_end|><|im_end|><|im_end|><|im_end|><|im_end|><|im_end|><|im_end|><|im_end|><|im_end|><|im_end|><|im_end|><|im_end|><|im_end|><|im_end|><|im_end|><|im_end|><|im_end|><|im_end|><|im_end|><|im_end|><|im_end|><|im_end|><|im_end|><|im_end|><|im_end|><|im_end|><|im_end|><|im_end|><|im_end|><|im_end|><|im_end|><|im_end|><|im_end|><|im_end|><|im_end|><|im_end|><|im_end|><|im_end|><|im_end|><|im_end|><|im_end|><|im_end|><|im_end|><|im_end|><|im_end|><|im_end|><|im_end|><|im_end|><|im_end|><|im_end|><|im_end|><|im_end|><|im_end|><|im_end|><|im_end|><|im_end|><|im_end|><|im_end|><|im_end|><|im_end|><|im_end|><|im_end|><|im_end|><|im_end|><|im_end|><|im_end|><|im_end|><|im_end|><|im_end|><|im_end|><|im_end|>',\n",
       "  'بله<|im_end|><|im_end|><|im_end|><|im_end|><|im_end|><|im_end|><|im_end|><|im_end|><|im_end|><|im_end|><|im_end|><|im_end|><|im_end|><|im_end|><|im_end|><|im_end|><|im_end|><|im_end|><|im_end|><|im_end|><|im_end|><|im_end|><|im_end|><|im_end|><|im_end|><|im_end|><|im_end|><|im_end|><|im_end|><|im_end|><|im_end|><|im_end|><|im_end|><|im_end|><|im_end|><|im_end|><|im_end|><|im_end|><|im_end|><|im_end|><|im_end|><|im_end|><|im_end|><|im_end|><|im_end|><|im_end|><|im_end|><|im_end|><|im_end|><|im_end|><|im_end|><|im_end|><|im_end|><|im_end|><|im_end|><|im_end|><|im_end|><|im_end|><|im_end|><|im_end|><|im_end|><|im_end|><|im_end|><|im_end|><|im_end|><|im_end|><|im_end|><|im_end|><|im_end|><|im_end|><|im_end|><|im_end|><|im_end|><|im_end|><|im_end|><|im_end|><|im_end|><|im_end|><|im_end|><|im_end|><|im_end|><|im_end|><|im_end|><|im_end|><|im_end|><|im_end|><|im_end|><|im_end|><|im_end|><|im_end|><|im_end|>'],\n",
       " ['خیر',\n",
       "  'نمیتوان نظر قطعی داد',\n",
       "  'بله',\n",
       "  'نمیتوان نظر قطعی داد',\n",
       "  'بله',\n",
       "  'نمیتوان نظر قطعی داد',\n",
       "  'نمیتوان نظر قطعی داد',\n",
       "  'خیر'])"
      ]
     },
     "execution_count": 61,
     "metadata": {},
     "output_type": "execute_result"
    }
   ],
   "source": [
    "# ava\n",
    "evall()"
   ]
  },
  {
   "cell_type": "code",
   "execution_count": 12,
   "metadata": {},
   "outputs": [
    {
     "name": "stderr",
     "output_type": "stream",
     "text": [
      "/home/hojjat/workstation/FarsInstruct/.venv/lib/python3.9/site-packages/datasets/load.py:855: FutureWarning: The repository for rouge contains custom code which must be executed to correctly load the metric. You can inspect the repository content at rouge/rouge.py\n",
      "You can avoid this message in future by passing the argument `trust_remote_code=True`.\n",
      "Passing `trust_remote_code=True` will be mandatory to load this metric from the next major release of `datasets`.\n",
      "  warnings.warn(\n"
     ]
    },
    {
     "name": "stdout",
     "output_type": "stream",
     "text": [
      "+---------------------------------------------------+\n",
      "|                    Rouge Metric                   |\n",
      "+-----------+------+-----------+--------+-----------+\n",
      "|   Score   | Type | Precision | Recall | F-Measure |\n",
      "+-----------+------+-----------+--------+-----------+\n",
      "|   rouge1  | low  |   2.24    | 100.00 |    4.31   |\n",
      "|   rouge1  | mid  |   2.50    | 100.00 |    4.82   |\n",
      "|   rouge1  | high |   2.78    | 100.00 |    5.34   |\n",
      "|           |      |           |        |           |\n",
      "|    ***    | ***  |    ***    |  ***   |    ***    |\n",
      "|           |      |           |        |           |\n",
      "|   rouge2  | low  |   1.07    | 28.50  |    2.05   |\n",
      "|   rouge2  | mid  |   1.30    | 35.00  |    2.51   |\n",
      "|   rouge2  | high |   1.57    | 41.51  |    3.02   |\n",
      "|           |      |           |        |           |\n",
      "|    ***    | ***  |    ***    |  ***   |    ***    |\n",
      "|           |      |           |        |           |\n",
      "|   rougeL  | low  |   2.24    | 100.00 |    4.33   |\n",
      "|   rougeL  | mid  |   2.51    | 100.00 |    4.83   |\n",
      "|   rougeL  | high |   2.76    | 100.00 |    5.30   |\n",
      "|           |      |           |        |           |\n",
      "|    ***    | ***  |    ***    |  ***   |    ***    |\n",
      "|           |      |           |        |           |\n",
      "| rougeLsum | low  |   2.26    | 100.00 |    4.37   |\n",
      "| rougeLsum | mid  |   2.52    | 100.00 |    4.84   |\n",
      "| rougeLsum | high |   2.78    | 100.00 |    5.34   |\n",
      "+-----------+------+-----------+--------+-----------+\n"
     ]
    },
    {
     "data": {
      "text/plain": [
       "(['آیا براساس عبارت اول میتوان عبارت دوم را استنتاج کرد؟\\nجواب را از بین گزینه های داده شده انتخاب کن - بله - خیر - نمیتوان نظر قطعی داد\\nعبارت اول: بُرهان نَظم یا برهان غایت\\u200cشناختی یا اِتقان صُنع یا برهان الهیات طبیعی یکی از برهان\\u200cهای اثبات وجود خدا است.\\nعبارت دوم: برهان فطرت نام دیگر برهان اتقان صنع است.\\nجواب: <im_start>',\n",
       "  'آیا براساس عبارت اول میتوان عبارت دوم را استنتاج کرد؟\\nجواب را از بین گزینه های داده شده انتخاب کن - بله - خیر - نمیتوان نظر قطعی داد\\nعبارت اول: نثر مرسل که با نام نثر ساده نیز عنوان می شود، نوشته\\u200cای است ساده و از پیرایه\\u200cها و آرایش\\u200cهای ادبی خالی است.\\nعبارت دوم: نوع نثر تاریخ بیهقی، نثر مرسل\\u200c است.\\nجواب: <im_start>',\n",
       "  'آیا براساس عبارت اول میتوان عبارت دوم را استنتاج کرد؟\\nجواب را از بین گزینه های داده شده انتخاب کن - بله - خیر - نمیتوان نظر قطعی داد\\nعبارت اول: رودابه نام دختر مهراب کابلی و سیندخت است او همسر زال و مادر رستم(شخصیت اسطوره ای شاهنامه) می\\u200cباشد.\\nزال در گذری از مرز کابل، به رودابه علاقه\\u200cمند شد و او را به همسری برگزید.\\nعبارت دوم: نام مادر رستم در شاهنامه، رودابه بود.\\nجواب: <im_start>',\n",
       "  'آیا براساس عبارت اول میتوان عبارت دوم را استنتاج کرد؟\\nجواب را از بین گزینه های داده شده انتخاب کن - بله - خیر - نمیتوان نظر قطعی داد\\nعبارت اول: دیوان عالی کشور عالی\\u200cترین مرجع قضایی در ایران است که به منظور نظارت بر اجرای صحیح قوانین در محاکم و ایجاد وحدت رویه قضایی تشکیل شده\\u200cاست.\\nعبارت دوم: دیوان عالی کشور از برجسته\\u200cترین قضات کشور تشکیل شده است.\\nجواب: <im_start>',\n",
       "  'آیا براساس عبارت اول میتوان عبارت دوم را استنتاج کرد؟\\nجواب را از بین گزینه های داده شده انتخاب کن - بله - خیر - نمیتوان نظر قطعی داد\\nعبارت اول: مهمترین سرمایه های فرهنگی و اصول معنوی مشترک در سرزمین های اسلامی شامل شش مورد است که اولین آن قرآن کریم است.\\nاین کتاب آسمانی مهمترین عنصر جدایی ناپذیر هویت اسلامی است.\\nعبارت دوم: قرآن مهمترین عنصر جدایی ناپذیر هویت اسلامی است.\\nجواب: <im_start>',\n",
       "  'آیا براساس عبارت اول میتوان عبارت دوم را استنتاج کرد؟\\nجواب را از بین گزینه های داده شده انتخاب کن - بله - خیر - نمیتوان نظر قطعی داد\\nعبارت اول: بوستان، کتابی اخلاقی و آموزشی است و سعدی آرمانشهر مطلوب خود را در آن به تصویر کشیده\\u200cاست.\\nعبارت دوم: سعدی بوستان را به ابوبکر بن سعد زنگی تقدیم کرده\\u200cاست.\\nجواب: <im_start>',\n",
       "  'آیا براساس عبارت اول میتوان عبارت دوم را استنتاج کرد؟\\nجواب را از بین گزینه های داده شده انتخاب کن - بله - خیر - نمیتوان نظر قطعی داد\\nعبارت اول: واژه «فطرت» که در فارسی به «سرشت» ترجمه می شود، دلالت بر نوع خلقت و آفرینش می کند، ولی معمولا در مورد انسان به کار می رود.\\nعبارت دوم: در آیات قرآن کلمه فطر به معنی آفریدن است.\\nجواب: <im_start>',\n",
       "  'آیا براساس عبارت اول میتوان عبارت دوم را استنتاج کرد؟\\nجواب را از بین گزینه های داده شده انتخاب کن - بله - خیر - نمیتوان نظر قطعی داد\\nعبارت اول: از برکات مهم دفاع مقدس، تقویت اعتماد به نفس و خودباوری بوده است.\\nما در دوران دفاع مقدس به این نتیجه رسیدیم که باید خود را باور کنیم و با تکیه بر توانمندی های خود به ویژه جوانان خداجو کشور را اداره نماییم.\\nعبارت دوم: داشتن تجهیزات مدرن در دوران جنگ، موجب اعتماد به نفس و خودباوری شد که از آثار و برکات این دوران است.\\nجواب: <im_start>'],\n",
       " ['خیر',\n",
       "  'نمیتوان نظر قطعی داد',\n",
       "  'بله',\n",
       "  'نمیتوان نظر قطعی داد',\n",
       "  'بله',\n",
       "  'نمیتوان نظر قطعی داد',\n",
       "  'نمیتوان نظر قطعی داد',\n",
       "  'خیر'])"
      ]
     },
     "execution_count": 12,
     "metadata": {},
     "output_type": "execute_result"
    }
   ],
   "source": [
    "# ava with <|temp|>\n",
    "evall()"
   ]
  },
  {
   "cell_type": "code",
   "execution_count": 14,
   "metadata": {},
   "outputs": [
    {
     "name": "stderr",
     "output_type": "stream",
     "text": [
      "/tmp/ipykernel_2429477/3065205785.py:22: FutureWarning: load_metric is deprecated and will be removed in the next major version of datasets. Use 'evaluate.load' instead, from the new library 🤗 Evaluate: https://huggingface.co/docs/evaluate\n",
      "  metric = datasets.load_metric('rouge')\n",
      "/home/hojjat/workstation/FarsInstruct/.venv/lib/python3.9/site-packages/datasets/load.py:855: FutureWarning: The repository for rouge contains custom code which must be executed to correctly load the metric. You can inspect the repository content at rouge/rouge.py\n",
      "You can avoid this message in future by passing the argument `trust_remote_code=True`.\n",
      "Passing `trust_remote_code=True` will be mandatory to load this metric from the next major release of `datasets`.\n",
      "  warnings.warn(\n",
      "You're using a PreTrainedTokenizerFast tokenizer. Please note that with a fast tokenizer, using the `__call__` method is faster than using a method to encode the text followed by a call to the `pad` method to get a padded encoding.\n",
      "/home/hojjat/workstation/FarsInstruct/.venv/lib/python3.9/site-packages/bitsandbytes/nn/modules.py:226: UserWarning: Input type into Linear4bit is torch.float16, but bnb_4bit_compute_dtype=torch.float32 (default). This will lead to slow inference or training speed.\n",
      "  warnings.warn(f'Input type into Linear4bit is torch.float16, but bnb_4bit_compute_dtype=torch.float32 (default). This will lead to slow inference or training speed.')\n"
     ]
    },
    {
     "name": "stdout",
     "output_type": "stream",
     "text": [
      "+---------------------------------------------------+\n",
      "|                    Rouge Metric                   |\n",
      "+-----------+------+-----------+--------+-----------+\n",
      "|   Score   | Type | Precision | Recall | F-Measure |\n",
      "+-----------+------+-----------+--------+-----------+\n",
      "|   rouge1  | low  |   1.43    | 100.00 |    2.81   |\n",
      "|   rouge1  | mid  |   1.47    | 100.00 |    2.90   |\n",
      "|   rouge1  | high |   1.52    | 100.00 |    3.00   |\n",
      "|           |      |           |        |           |\n",
      "|    ***    | ***  |    ***    |  ***   |    ***    |\n",
      "|           |      |           |        |           |\n",
      "|   rouge2  | low  |   0.00    |  0.00  |    0.00   |\n",
      "|   rouge2  | mid  |   0.00    |  0.00  |    0.00   |\n",
      "|   rouge2  | high |   0.00    |  0.00  |    0.00   |\n",
      "|           |      |           |        |           |\n",
      "|    ***    | ***  |    ***    |  ***   |    ***    |\n",
      "|           |      |           |        |           |\n",
      "|   rougeL  | low  |   1.43    | 100.00 |    2.81   |\n",
      "|   rougeL  | mid  |   1.47    | 100.00 |    2.90   |\n",
      "|   rougeL  | high |   1.52    | 100.00 |    3.00   |\n",
      "|           |      |           |        |           |\n",
      "|    ***    | ***  |    ***    |  ***   |    ***    |\n",
      "|           |      |           |        |           |\n",
      "| rougeLsum | low  |   1.43    | 100.00 |    2.81   |\n",
      "| rougeLsum | mid  |   1.48    | 100.00 |    2.91   |\n",
      "| rougeLsum | high |   1.52    | 100.00 |    3.00   |\n",
      "+-----------+------+-----------+--------+-----------+\n"
     ]
    },
    {
     "data": {
      "text/plain": [
       "(['Human:آیا جمله دوم به جمله اول مرتبط است؟\\nصحیح، غلط، شاید\\nپیش فرض: بُرهان نَظم یا برهان غایت\\u200cشناختی یا اِتقان صُنع یا برهان الهیات طبیعی یکی از برهان\\u200cهای اثبات وجود خدا است.\\nفرضیه: برهان فطرت نام دیگر برهان اتقان صنع است.\\nجواب: <im_start>Assistant:',\n",
       "  'Human:آیا جمله دوم به جمله اول مرتبط است؟\\nصحیح، غلط، شاید\\nپیش فرض: نثر مرسل که با نام نثر ساده نیز عنوان می شود، نوشته\\u200cای است ساده و از پیرایه\\u200cها و آرایش\\u200cهای ادبی خالی است.\\nفرضیه: نوع نثر تاریخ بیهقی، نثر مرسل\\u200c است.\\nجواب: <im_start>Assistant:',\n",
       "  'Human:آیا جمله دوم به جمله اول مرتبط است؟\\nصحیح، غلط، شاید\\nپیش فرض: رودابه نام دختر مهراب کابلی و سیندخت است او همسر زال و مادر رستم(شخصیت اسطوره ای شاهنامه) می\\u200cباشد.\\nزال در گذری از مرز کابل، به رودابه علاقه\\u200cمند شد و او را به همسری برگزید.\\nفرضیه: نام مادر رستم در شاهنامه، رودابه بود.\\nجواب: <im_start>Assistant:آیا جمله دوم به جمله اول مرتبط است؟\\nصحیح، غلط، شاید\\nپیش فرض: رودابه نام دختر مهراب کابلی و سیندخت است او همسر زال و مادر رستم(شخصیت اسطوره ای شاهنامه) می\\u200cباشد.\\nزال در گذری از مرز کابل، به رودابه علاقه\\u200cمند شد و او را به همسری برگزید.\\nفرضیه: نام مادر رستم در شاهنامه، رودابه بود.\\nجواب:صحیح',\n",
       "  'Human:آیا جمله دوم به جمله اول مرتبط است؟\\nصحیح، غلط، شاید\\nپیش فرض: دیوان عالی کشور عالی\\u200cترین مرجع قضایی در ایران است که به منظور نظارت بر اجرای صحیح قوانین در محاکم و ایجاد وحدت رویه قضایی تشکیل شده\\u200cاست.\\nفرضیه: دیوان عالی کشور از برجسته\\u200cترین قضات کشور تشکیل شده است.\\nجواب: <im_start>Assistant:',\n",
       "  'Human:آیا جمله دوم به جمله اول مرتبط است؟\\nصحیح، غلط، شاید\\nپیش فرض: مهمترین سرمایه های فرهنگی و اصول معنوی مشترک در سرزمین های اسلامی شامل شش مورد است که اولین آن قرآن کریم است.\\nاین کتاب آسمانی مهمترین عنصر جدایی ناپذیر هویت اسلامی است.\\nفرضیه: قرآن مهمترین عنصر جدایی ناپذیر هویت اسلامی است.\\nجواب: <im_start>Assistant:',\n",
       "  'Human:آیا جمله دوم به جمله اول مرتبط است؟\\nصحیح، غلط، شاید\\nپیش فرض: بوستان، کتابی اخلاقی و آموزشی است و سعدی آرمانشهر مطلوب خود را در آن به تصویر کشیده\\u200cاست.\\nفرضیه: سعدی بوستان را به ابوبکر بن سعد زنگی تقدیم کرده\\u200cاست.\\nجواب: <im_start>Assistant:',\n",
       "  'Human:آیا جمله دوم به جمله اول مرتبط است؟\\nصحیح، غلط، شاید\\nپیش فرض: واژه «فطرت» که در فارسی به «سرشت» ترجمه می شود، دلالت بر نوع خلقت و آفرینش می کند، ولی معمولا در مورد انسان به کار می رود.\\nفرضیه: در آیات قرآن کلمه فطر به معنی آفریدن است.\\nجواب: <im_start>Assistant:',\n",
       "  'Human:آیا جمله دوم به جمله اول مرتبط است؟\\nصحیح، غلط، شاید\\nپیش فرض: از برکات مهم دفاع مقدس، تقویت اعتماد به نفس و خودباوری بوده است.\\nما در دوران دفاع مقدس به این نتیجه رسیدیم که باید خود را باور کنیم و با تکیه بر توانمندی های خود به ویژه جوانان خداجو کشور را اداره نماییم.\\nفرضیه: داشتن تجهیزات مدرن در دوران جنگ، موجب اعتماد به نفس و خودباوری شد که از آثار و برکات این دوران است.\\nجواب: <im_start>Assistant:'],\n",
       " ['غلط', 'شاید', 'صحیح', 'شاید', 'صحیح', 'شاید', 'شاید', 'غلط'])"
      ]
     },
     "execution_count": 14,
     "metadata": {},
     "output_type": "execute_result"
    }
   ],
   "source": [
    "# ava with temp\n",
    "evall()"
   ]
  },
  {
   "cell_type": "code",
   "execution_count": 8,
   "metadata": {},
   "outputs": [
    {
     "name": "stderr",
     "output_type": "stream",
     "text": [
      "/tmp/ipykernel_2433421/3065205785.py:22: FutureWarning: load_metric is deprecated and will be removed in the next major version of datasets. Use 'evaluate.load' instead, from the new library 🤗 Evaluate: https://huggingface.co/docs/evaluate\n",
      "  metric = datasets.load_metric('rouge')\n",
      "/home/hojjat/workstation/FarsInstruct/.venv/lib/python3.9/site-packages/datasets/load.py:855: FutureWarning: The repository for rouge contains custom code which must be executed to correctly load the metric. You can inspect the repository content at rouge/rouge.py\n",
      "You can avoid this message in future by passing the argument `trust_remote_code=True`.\n",
      "Passing `trust_remote_code=True` will be mandatory to load this metric from the next major release of `datasets`.\n",
      "  warnings.warn(\n",
      "You're using a PreTrainedTokenizerFast tokenizer. Please note that with a fast tokenizer, using the `__call__` method is faster than using a method to encode the text followed by a call to the `pad` method to get a padded encoding.\n",
      "/home/hojjat/workstation/FarsInstruct/.venv/lib/python3.9/site-packages/bitsandbytes/nn/modules.py:226: UserWarning: Input type into Linear4bit is torch.float16, but bnb_4bit_compute_dtype=torch.float32 (default). This will lead to slow inference or training speed.\n",
      "  warnings.warn(f'Input type into Linear4bit is torch.float16, but bnb_4bit_compute_dtype=torch.float32 (default). This will lead to slow inference or training speed.')\n"
     ]
    },
    {
     "name": "stdout",
     "output_type": "stream",
     "text": [
      "+---------------------------------------------------+\n",
      "|                    Rouge Metric                   |\n",
      "+-----------+------+-----------+--------+-----------+\n",
      "|   Score   | Type | Precision | Recall | F-Measure |\n",
      "+-----------+------+-----------+--------+-----------+\n",
      "|   rouge1  | low  |   0.22    | 29.00  |    0.44   |\n",
      "|   rouge1  | mid  |   0.26    | 32.50  |    0.52   |\n",
      "|   rouge1  | high |   0.31    | 35.50  |    0.61   |\n",
      "|           |      |           |        |           |\n",
      "|    ***    | ***  |    ***    |  ***   |    ***    |\n",
      "|           |      |           |        |           |\n",
      "|   rouge2  | low  |   0.00    |  0.00  |    0.00   |\n",
      "|   rouge2  | mid  |   0.00    |  0.00  |    0.00   |\n",
      "|   rouge2  | high |   0.00    |  0.00  |    0.00   |\n",
      "|           |      |           |        |           |\n",
      "|    ***    | ***  |    ***    |  ***   |    ***    |\n",
      "|           |      |           |        |           |\n",
      "|   rougeL  | low  |   0.23    | 29.24  |    0.45   |\n",
      "|   rougeL  | mid  |   0.27    | 32.50  |    0.52   |\n",
      "|   rougeL  | high |   0.31    | 35.75  |    0.61   |\n",
      "|           |      |           |        |           |\n",
      "|    ***    | ***  |    ***    |  ***   |    ***    |\n",
      "|           |      |           |        |           |\n",
      "| rougeLsum | low  |   0.22    | 29.50  |    0.44   |\n",
      "| rougeLsum | mid  |   0.26    | 32.50  |    0.52   |\n",
      "| rougeLsum | high |   0.31    | 35.50  |    0.61   |\n",
      "+-----------+------+-----------+--------+-----------+\n"
     ]
    },
    {
     "data": {
      "text/plain": [
       "(['سطح اطمینان خود را در شباهت عبارات ارائه شده بیان کنید\\nعبارت اول: بُرهان نَظم یا برهان غایت\\u200cشناختی یا اِتقان صُنع یا برهان الهیات طبیعی یکی از برهان\\u200cهای اثبات وجود خدا است.\\nعبارت دوم: برهان فطرت نام دیگر برهان اتقان صنع است.\\nسطح اطمینان: 0.8\\nعبارت اول: برهان نَظم یا برهان غایت\\u200cشناختی یا اِتقان صُنع یا برهان الهیات طبیعی یکی از برهان\\u200cهای اثبات وجود خدا است.\\nعبارت دوم: برهان فطرت نام دیگر برهان اتقان صنع است.\\nسطح اطمینان: 0.8\\nعبارت اول: برهان نَظم یا برهان غایت\\u200cشناختی یا اِتقان صُنع یا برهان الهیات طبیعی یکی از برهان\\u200cهای اثبات وجود خدا است.\\nعبارت دوم: برهان فطرت نام دیگر برهان اتقان صنع است.\\nسطح اطمینان: 0.8\\nعبارت اول: برهان نَظم یا برهان غایت\\u200cشناختی یا اِتقان صُنع یا برهان الهیات طبیعی یکی از برهان\\u200cهای اثبات وجود خدا است.\\nعبارت دوم: برهان فطرت نام دیگر برهان اتقان صنع است.\\nسطح اطمینان: 0.8\\nعبارت اول: برهان نَظم یا برهان غایت\\u200cشناختی یا اِتقان صُنع یا برهان الهیات طبیعی یکی از برهان\\u200cهای اثبات وجود خدا است.\\nعبارت دوم: برهان فطرت نام دیگر برهان اتقان صنع است.\\nسطح اطمینان: 0.8\\nعبارت اول: برهان نَظم یا برهان غایت\\u200cشناختی یا اِتقان صُنع یا برهان الهیات طبیعی یکی از برهان\\u200cهای اثبات وجود خدا است.\\nعبارت دوم: برهان فطرت نام دیگر برهان اتقان صنع است.\\nسطح اطمینان: 0.8\\nعبارت اول: برهان نَظم یا برهان غایت\\u200cشناختی یا اِتقان صُنع یا برهان الهیات طبیعی یکی از برهان\\u200cهای اثبات وجود خدا است.\\nعبارت دوم: برهان فطرت نام دیگر برهان اتقان صنع است.\\nسطح اطمینان: 0.8\\nعبارت اول: برهان نَظم یا برهان غایت\\u200cشناختی یا اِتقان صُنع یا برهان الهیات',\n",
       "  'سطح اطمینان خود را در شباهت عبارات ارائه شده بیان کنید\\nعبارت اول: نثر مرسل که با نام نثر ساده نیز عنوان می شود، نوشته\\u200cای است ساده و از پیرایه\\u200cها و آرایش\\u200cهای ادبی خالی است.\\nعبارت دوم: نوع نثر تاریخ بیهقی، نثر مرسل\\u200c است.\\nسطح اطمینان: 0.8\\nعبارت سوم: نثر مرسل، نثر ساده و بی پیرایه است که در آن از آرایش\\u200cهای ادبی و پیرایه\\u200cها استفاده نمی\\u200cشود.\\nسطح اطمینان: 0.9\\nعبارت چهارم: نثر مرسل، نثر ساده و بی پیرایه است که در آن از آرایش\\u200cهای ادبی و پیرایه\\u200cها استفاده نمی\\u200cشود.\\nسطح اطمینان: 0.9\\nعبارت پنجم: نثر مرسل، نثر ساده و بی پیرایه است که در آن از آرایش\\u200cهای ادبی و پیرایه\\u200cها استفاده نمی\\u200cشود.\\nسطح اطمینان: 0.9\\nعبارت ششم: نثر مرسل، نثر ساده و بی پیرایه است که در آن از آرایش\\u200cهای ادبی و پیرایه\\u200cها استفاده نمی\\u200cشود.\\nسطح اطمینان: 0.9\\nعبارت هفتم: نثر مرسل، نثر ساده و بی پیرایه است که در آن از آرایش\\u200cهای ادبی و پیرایه\\u200cها استفاده نمی\\u200cشود.\\nسطح اطمینان: 0.9\\nعبارت هشتم: نثر مرسل، نثر ساده و بی پیرایه است که در آن از آرایش\\u200cهای ادبی و پیرایه\\u200cها استفاده نمی\\u200cشود.\\nسطح اطمینان: 0.9\\nعبارت نهم: نثر مرسل، نثر ساده و بی پیرایه است که در آن از آرایش\\u200cهای ادبی و پیرایه\\u200cها استفاده نمی\\u200cشود.\\nسطح اطمینان: 0.9\\nعبارت دهم: نثر مرسل، نثر ساده و بی پیرایه است که در آن از آرایش\\u200cهای ادبی و پیرایه\\u200cها استفاده نمی\\u200cشود.\\nسطح اطمینان: 0.9\\nعبارت یازدهم: نثر مرسل، نثر ساده و بی پیرایه است که در آن از آرایش\\u200cهای ادبی و پیرایه\\u200cها استفاده نمی\\u200cشود.\\nسطح اطمینان: 0.9\\nعبارت دوازدهم: نثر مرسل، نثر ساده و بی پیرایه است که در آن از آرایش\\u200cهای ادبی و پیرایه\\u200cها استفاده نمی\\u200cشود.\\nسطح اطمینان: 0.9\\nعبارت سیزدهم: نثر مرسل، نثر ساده و بی پیرایه است که در آن از آرایش\\u200cهای ادبی و پیرایه\\u200cها استفاده نمی\\u200cشود.\\nسطح اطمینان: 0.9',\n",
       "  'سطح اطمینان خود را در شباهت عبارات ارائه شده بیان کنید\\nعبارت اول: رودابه نام دختر مهراب کابلی و سیندخت است او همسر زال و مادر رستم(شخصیت اسطوره ای شاهنامه) می\\u200cباشد.\\nزال در گذری از مرز کابل، به رودابه علاقه\\u200cمند شد و او را به همسری برگزید.\\nعبارت دوم: نام مادر رستم در شاهنامه، رودابه بود.\\nسطح اطمینان: 100%\\nعبارت اول: رودابه نام دختر مهراب کابلی و سیندخت است او همسر زال و مادر رستم(شخصیت اسطوره ای شاهنامه) می\\u200cباشد.\\nزال در گذری از مرز کابل، به رودابه علاقه\\u200cمند شد و او را به همسری برگزید.\\nعبارت دوم: نام مادر رستم در شاهنامه، رودابه بود.\\nسطح اطمینان: 100%\\nعبارت اول: رودابه نام دختر مهراب کابلی و سیندخت است او همسر زال و مادر رستم(شخصیت اسطوره ای شاهنامه) می\\u200cباشد.\\nزال در گذری از مرز کابل، به رودابه علاقه\\u200cمند شد و او را به همسری برگزید.\\nعبارت دوم: نام مادر رستم در شاهنامه، رودابه بود.\\nسطح اطمینان: 100%\\nعبارت اول: رودابه نام دختر مهراب کابلی و سیندخت است او همسر زال و مادر رستم(شخصیت اسطوره ای شاهنامه) می\\u200cباشد.\\nزال در گذری از مرز کابل، به رودابه علاقه\\u200cمند شد و او را به همسری برگزید.\\nعبارت دوم: نام مادر رستم در شاهنامه، رودابه بود.\\nسطح اطمینان: 100%\\nعبارت اول: رودابه نام دختر مهراب کابلی و سیندخت است او همسر زال و مادر رستم(شخصیت اسطوره ای شاهنامه) می\\u200cباشد.\\nزال در گذری از مرز کابل، به رودابه علاقه\\u200cمند شد و او را به همسری برگزید.\\nعبارت دوم: نام مادر رستم در شاهنامه، رودابه بود.\\nسطح اطمینان: 100%\\nعبارت اول: رودابه نام دختر مهراب کابلی و سیندخت است او همسر زال و مادر رستم(شخصیت اسطوره ای شاهنامه) می\\u200cباشد.\\nزال در گذری از مرز کابل، به رودابه علاقه\\u200cمند شد و او را به همسری برگزید.\\nعبارت دوم: نام مادر رستم در شاهنامه، رودابه بود.\\nسطح اطمینان: 100%\\nعبارت اول: رودابه نام دختر مهراب کابلی و سیندخت است او همسر زال و',\n",
       "  'سطح اطمینان خود را در شباهت عبارات ارائه شده بیان کنید\\nعبارت اول: دیوان عالی کشور عالی\\u200cترین مرجع قضایی در ایران است که به منظور نظارت بر اجرای صحیح قوانین در محاکم و ایجاد وحدت رویه قضایی تشکیل شده\\u200cاست.\\nعبارت دوم: دیوان عالی کشور از برجسته\\u200cترین قضات کشور تشکیل شده است.\\nسطح اطمینان: 0.8\\nعبارت اول: دیوان عالی کشور عالی\\u200cترین مرجع قضایی در ایران است که به منظور نظارت بر اجرای صحیح قوانین در محاکم و ایجاد وحدت رویه قضایی تشکیل شده\\u200cاست.\\nعبارت دوم: دیوان عالی کشور عالی\\u200cترین مرجع قضایی در ایران است که به منظور نظارت بر اجرای صحیح قوانین در محاکم و ایجاد وحدت رویه قضایی تشکیل شده\\u200cاست.\\nسطح اطمینان: 0.8\\nعبارت اول: دیوان عالی کشور عالی\\u200cترین مرجع قضایی در ایران است که به منظور نظارت بر اجرای صحیح قوانین در محاکم و ایجاد وحدت رویه قضایی تشکیل شده\\u200cاست.\\nعبارت دوم: دیوان عالی کشور عالی\\u200cترین مرجع قضایی در ایران است که به منظور نظارت بر اجرای صحیح قوانین در محاکم و ایجاد وحدت رویه قضایی تشکیل شده\\u200cاست.\\nسطح اطمینان: 0.8\\nعبارت اول: دیوان عالی کشور عالی\\u200cترین مرجع قضایی در ایران است که به منظور نظارت بر اجرای صحیح قوانین در محاکم و ایجاد وحدت رویه قضایی تشکیل شده\\u200cاست.\\nعبارت دوم: دیوان عالی کشور عالی\\u200cترین مرجع قضایی در ایران است که به منظور نظارت بر اجرای صحیح قوانین در محاکم و ایجاد وحدت رویه قضایی تشکیل شده\\u200cاست.\\nسطح اطمینان: 0.8\\nعبارت اول: دیوان عالی کشور عالی\\u200cترین مرجع قضایی در ایران است که به منظور نظارت بر اجرای صحیح قوانین در محاکم و ایجاد وحدت رویه قضایی تشکیل شده\\u200cاست.\\nعبارت دوم: دیوان عالی کشور عالی\\u200cترین مرجع قضایی در ایران است که به منظور نظارت بر اجرای صحیح قوانین در محاکم و ایجاد وحدت رویه قضایی تشکیل شده\\u200cاست.\\nسطح اطمینان: 0.8\\nعبارت اول: دیوان عالی کشور عالی\\u200cترین مرجع قضایی در ایران است که به منظور نظارت بر اجرای صحیح قوانین در محاکم و ایجاد وحدت رویه قضایی تشکیل شده\\u200cاست.\\nعبارت دوم: دیوان عالی کشور عالی\\u200cترین مرجع قضایی در ایران است که به منظور نظارت بر اجرای صحیح قوان',\n",
       "  'سطح اطمینان خود را در شباهت عبارات ارائه شده بیان کنید\\nعبارت اول: مهمترین سرمایه های فرهنگی و اصول معنوی مشترک در سرزمین های اسلامی شامل شش مورد است که اولین آن قرآن کریم است.\\nاین کتاب آسمانی مهمترین عنصر جدایی ناپذیر هویت اسلامی است.\\nعبارت دوم: قرآن مهمترین عنصر جدایی ناپذیر هویت اسلامی است.\\nسطح اطمینان: 0.8\\nعبارت اول: مهمترین سرمایه های فرهنگی و اصول معنوی مشترک در سرزمین های اسلامی شامل شش مورد است که اولین آن قرآن کریم است.\\nاین کتاب آسمانی مهمترین عنصر جدایی ناپذیر هویت اسلامی است.\\nعبارت دوم: قرآن مهمترین عنصر جدایی ناپذیر هویت اسلامی است.\\nسطح اطمینان: 0.8\\nعبارت اول: مهمترین سرمایه های فرهنگی و اصول معنوی مشترک در سرزمین های اسلامی شامل شش مورد است که اولین آن قرآن کریم است.\\nاین کتاب آسمانی مهمترین عنصر جدایی ناپذیر هویت اسلامی است.\\nعبارت دوم: قرآن مهمترین عنصر جدایی ناپذیر هویت اسلامی است.\\nسطح اطمینان: 0.8\\nعبارت اول: مهمترین سرمایه های فرهنگی و اصول معنوی مشترک در سرزمین های اسلامی شامل شش مورد است که اولین آن قرآن کریم است.\\nاین کتاب آسمانی مهمترین عنصر جدایی ناپذیر هویت اسلامی است.\\nعبارت دوم: قرآن مهمترین عنصر جدایی ناپذیر هویت اسلامی است.\\nسطح اطمینان: 0.8\\nعبارت اول: مهمترین سرمایه های فرهنگی و اصول معنوی مشترک در سرزمین های اسلامی شامل شش مورد است که اولین آن قرآن کریم است.\\nاین کتاب آسمانی مهمترین عنصر جدایی ناپذیر هویت اسلامی است.\\nعبارت دوم: قرآن مهمترین عنصر جدایی ناپذیر هویت اسلامی است.\\nسطح اطمینان: 0.8\\nعبارت اول: مهمترین سرمایه های فرهنگی و اصول معنوی مشترک در سرزمین های اسلامی شامل شش مورد است که اولین آن قرآن کریم است.\\nاین کتاب آسمانی مهمترین عنصر جدایی ناپذیر هویت اسلامی است.\\nعبارت دوم: قرآن مهمترین عنصر جدایی ناپذیر هویت اسلامی است.\\nسطح اطمینان: 0.8\\nعبارت اول: مهمترین سرمایه های فرهنگی و اصول معنوی مشترک در سرزمین های اسلامی شامل شش مورد است که اولین آن قرآن کریم است.\\nاین کتاب آسمانی مهمترین عنصر جدایی ناپذیر هویت اسلامی است.\\nعبارت دوم: قرآن مهمترین عنصر جدایی ناپذیر هویت اسلامی است.\\nسطح اطمینان: 0.8\\nعبارت',\n",
       "  'سطح اطمینان خود را در شباهت عبارات ارائه شده بیان کنید\\nعبارت اول: بوستان، کتابی اخلاقی و آموزشی است و سعدی آرمانشهر مطلوب خود را در آن به تصویر کشیده\\u200cاست.\\nعبارت دوم: سعدی بوستان را به ابوبکر بن سعد زنگی تقدیم کرده\\u200cاست.\\nسطح اطمینان: 0.8\\nعبارت اول و دوم در مورد بوستان سعدی صحبت می کنند.\\nآنها هر دو ادعا می کنند که بوستان کتابی اخلاقی و آموزشی است که آرمانشهر مطلوب سعدی را به تصویر کشیده است.\\nآنها همچنین هر دو ادعا می کنند که سعدی بوستان را به کسی تقدیم کرده است.\\nبا این حال، آنها در مورد شخص یا گروهی که بوستان را به او تقدیم کرده است اختلاف نظر دارند.\\nدر حالی که عبارتی ادعا می کند که سعدی بوستان را به ابوبکر بن سعد زنگی تقدیم کرده است، عبارتی دیگر ادعا می کند که سعدی بوستان را به کسی دیگر تقدیم کرده است.\\nدر نتیجه، سطح اطمینان برای عبارات 0.8 است.',\n",
       "  'سطح اطمینان خود را در شباهت عبارات ارائه شده بیان کنید\\nعبارت اول: واژه «فطرت» که در فارسی به «سرشت» ترجمه می شود، دلالت بر نوع خلقت و آفرینش می کند، ولی معمولا در مورد انسان به کار می رود.\\nعبارت دوم: در آیات قرآن کلمه فطر به معنی آفریدن است.\\nسطح اطمینان: 0.8\\nعبارت اول: واژه «فطرت» که در فارسی به «سرشت» ترجمه می شود، دلالت بر نوع خلقت و آفرینش می کند، ولی معمولا در مورد انسان به کار می رود.\\nعبارت دوم: در آیات قرآن کلمه فطر به معنی آفریدن است.\\nسطح اطمینان: 0.8\\nعبارت اول: واژه «فطرت» که در فارسی به «سرشت» ترجمه می شود، دلالت بر نوع خلقت و آفرینش می کند، ولی معمولا در مورد انسان به کار می رود.\\nعبارت دوم: در آیات قرآن کلمه فطر به معنی آفریدن است.\\nسطح اطمینان: 0.8\\nعبارت اول: واژه «فطرت» که در فارسی به «سرشت» ترجمه می شود، دلالت بر نوع خلقت و آفرینش می کند، ولی معمولا در مورد انسان به کار می رود.\\nعبارت دوم: در آیات قرآن کلمه فطر به معنی آفریدن است.\\nسطح اطمینان: 0.8\\nعبارت اول: واژه «فطرت» که در فارسی به «سرشت» ترجمه می شود، دلالت بر نوع خلقت و آفرینش می کند، ولی معمولا در مورد انسان به کار می رود.\\nعبارت دوم: در آیات قرآن کلمه فطر به معنی آفریدن است.\\nسطح اطمینان: 0.8\\nعبارت اول: واژه «فطرت» که در فارسی به «سرشت» ترجمه می شود، دلالت بر نوع خلقت و آفرینش می کند، ولی معمولا در مورد انسان به کار می رود.\\nعبارت دوم: در آیات قرآن کلمه فطر به معنی آفریدن است.\\nسطح اطمینان: 0.8\\nعبارت اول: واژه «فطرت» که در فارسی به «سرشت» ترجمه می شود، دلالت بر نوع خلقت و آفرینش می کند، ولی معمولا در مورد انسان به کار می رود.\\nعبارت دوم: در آیات قرآن کلمه فطر به معنی آفریدن است.\\nسطح اطمینان: 0.8\\nعبارت اول: واژه «فطرت» که در فارسی به «سرشت» ترجمه می شود، دلالت',\n",
       "  'سطح اطمینان خود را در شباهت عبارات ارائه شده بیان کنید\\nعبارت اول: از برکات مهم دفاع مقدس، تقویت اعتماد به نفس و خودباوری بوده است.\\nما در دوران دفاع مقدس به این نتیجه رسیدیم که باید خود را باور کنیم و با تکیه بر توانمندی های خود به ویژه جوانان خداجو کشور را اداره نماییم.\\nعبارت دوم: داشتن تجهیزات مدرن در دوران جنگ، موجب اعتماد به نفس و خودباوری شد که از آثار و برکات این دوران است.\\nسطح اطمینان: 0.8\\nعبارت اول: از برکات مهم دفاع مقدس، تقویت اعتماد به نفس و خودباوری بوده است.\\nما در دوران دفاع مقدس به این نتیجه رسیدیم که باید خود را باور کنیم و با تکیه بر توانمندی های خود به ویژه جوانان خداجو کشور را اداره نماییم.\\nعبارت دوم: داشتن تجهیزات مدرن در دوران جنگ، موجب اعتماد به نفس و خودباوری شد که از آثار و برکات این دوران است.\\nسطح اطمینان: 0.8\\nعبارت اول: از برکات مهم دفاع مقدس، تقویت اعتماد به نفس و خودباوری بوده است.\\nما در دوران دفاع مقدس به این نتیجه رسیدیم که باید خود را باور کنیم و با تکیه بر توانمندی های خود به ویژه جوانان خداجو کشور را اداره نماییم.\\nعبارت دوم: داشتن تجهیزات مدرن در دوران جنگ، موجب اعتماد به نفس و خودباوری شد که از آثار و برکات این دوران است.\\nسطح اطمینان: 0.8\\nعبارت اول: از برکات مهم دفاع مقدس، تقویت اعتماد به نفس و خودباوری بوده است.\\nما در دوران دفاع مقدس به این نتیجه رسیدیم که باید خود را باور کنیم و با تکیه بر توانمندی های خود به ویژه جوانان خداجو کشور را اداره نماییم.\\nعبارت دوم: داشتن تجهیزات مدرن در دوران جنگ، موجب اعتماد به نفس و خودباوری شد که از آثار و برکات این دوران است.\\nسطح اطمینان: 0.8\\nعبارت اول: از برکات مهم دفاع مقدس، تقویت اعتماد به نفس و خودباوری بوده است.\\nما در دوران دفاع مقدس به این نتیجه رسیدیم که باید خود را باور کنیم و با تکیه بر توانمندی های خود به ویژه جوانان خداجو کشور را اداره نماییم.\\nعبارت دوم: داشتن تجهیزات مدرن در دوران جنگ، موجب اعتماد به نفس و خودباوری شد که از آثار و برکات این دوران است.\\nسطح اطمینان: 0.8\\nعبارت اول: از برکات مهم دفاع مقدس، تقویت اعتماد به نفس و خودباوری بوده است.\\nما در دوران دفاع مقدس به این نتیجه رسیدیم که باید خود را باور کنیم و با تکیه بر توانمندی های خود به ویژه جوانان خداجو کشور را اداره نماییم.\\nعبارت دوم:'],\n",
       " ['اطمینان پایین',\n",
       "  'نامطمئن',\n",
       "  'اطمینان بالا',\n",
       "  'نامطمئن',\n",
       "  'اطمینان بالا',\n",
       "  'نامطمئن',\n",
       "  'نامطمئن',\n",
       "  'اطمینان پایین'])"
      ]
     },
     "execution_count": 8,
     "metadata": {},
     "output_type": "execute_result"
    }
   ],
   "source": [
    "evall()"
   ]
  },
  {
   "cell_type": "code",
   "execution_count": null,
   "metadata": {},
   "outputs": [],
   "source": []
  }
 ],
 "metadata": {
  "kernelspec": {
   "display_name": ".venv",
   "language": "python",
   "name": "python3"
  },
  "language_info": {
   "codemirror_mode": {
    "name": "ipython",
    "version": 3
   },
   "file_extension": ".py",
   "mimetype": "text/x-python",
   "name": "python",
   "nbconvert_exporter": "python",
   "pygments_lexer": "ipython3",
   "version": "3.9.18"
  }
 },
 "nbformat": 4,
 "nbformat_minor": 2
}
